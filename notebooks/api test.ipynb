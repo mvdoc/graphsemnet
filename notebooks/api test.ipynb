{
 "cells": [
  {
   "cell_type": "code",
   "execution_count": 1,
   "metadata": {},
   "outputs": [],
   "source": [
    "%matplotlib inline\n",
    "%load_ext autoreload\n",
    "%autoreload 2\n",
    "\n",
    "import sys\n",
    "sys.path.insert(1, '../')\n",
    "\n",
    "import numpy as np\n",
    "import matplotlib.pyplot as plt\n",
    "import seaborn as sns\n",
    "\n",
    "import graphsemnet.gsn_api as api\n",
    "import graphsemnet.semantics as sem\n",
    "import graphsemnet.xcal as xcal"
   ]
  },
  {
   "cell_type": "code",
   "execution_count": 9,
   "metadata": {},
   "outputs": [],
   "source": [
    "fruit_adj = np.array(\n",
    "    [\n",
    "        [0, .5, .25, .125],\n",
    "        [.5, 0, .25, .125],\n",
    "        [.25, .25, 0., .125],\n",
    "        [.125, .125, .125, 0.]\n",
    "    ]\n",
    ")\n",
    "\n",
    "fruit_labels = ['apple', 'banana', 'coconut', 'durian']\n",
    "fruit_graph = sem.SemanticGraph(fruit_adj, fruit_labels)"
   ]
  },
  {
   "cell_type": "code",
   "execution_count": 10,
   "metadata": {},
   "outputs": [
    {
     "data": {
      "text/plain": [
       "array([[ 0.   ,  0.5  ,  0.25 ,  0.125],\n",
       "       [ 0.5  ,  0.   ,  0.25 ,  0.125],\n",
       "       [ 0.25 ,  0.25 ,  0.   ,  0.125],\n",
       "       [ 0.125,  0.125,  0.125,  0.   ]])"
      ]
     },
     "execution_count": 10,
     "metadata": {},
     "output_type": "execute_result"
    }
   ],
   "source": [
    "fruit_graph.adj"
   ]
  },
  {
   "cell_type": "code",
   "execution_count": 11,
   "metadata": {},
   "outputs": [],
   "source": [
    "my_xcal = xcal.get_xcal(\n",
    "    dip_center=.3,\n",
    "    dip_width=.3,\n",
    "    min_adjust=-.05,\n",
    "    max_adjust=.05\n",
    ")"
   ]
  },
  {
   "cell_type": "code",
   "execution_count": 12,
   "metadata": {},
   "outputs": [
    {
     "data": {
      "text/plain": [
       "<matplotlib.text.Text at 0x10fdc1400>"
      ]
     },
     "execution_count": 12,
     "metadata": {},
     "output_type": "execute_result"
    },
    {
     "data": {
      "image/png": "[encoded data removed]",
      "text/plain": [
       "<matplotlib.figure.Figure at 0x10fb3be48>"
      ]
     },
     "metadata": {},
     "output_type": "display_data"
    }
   ],
   "source": [
    "xs = np.linspace(0, 1., 101)\n",
    "ys = my_xcal(xs)\n",
    "plt.plot(xs, ys)\n",
    "plt.xlabel('activation strength')\n",
    "plt.ylabel('resulting weight change')\n",
    "plt.title('Non-monotonic plasticity function')"
   ]
  },
  {
   "cell_type": "code",
   "execution_count": 56,
   "metadata": {},
   "outputs": [],
   "source": [
    "op_depth = api.GraphOperator(fruit_graph, api.operate_recur, my_xcal, .8)"
   ]
  },
  {
   "cell_type": "code",
   "execution_count": 57,
   "metadata": {},
   "outputs": [],
   "source": [
    "new_graph = op_depth.activate(np.array([1,0,0,0]))"
   ]
  },
  {
   "cell_type": "code",
   "execution_count": 58,
   "metadata": {},
   "outputs": [
    {
     "data": {
      "text/plain": [
       "array([[ 0.        ,  0.46666667,  0.21666667,  0.125     ],\n",
       "       [ 0.46666667,  0.        ,  0.21666667,  0.125     ],\n",
       "       [ 0.21666667,  0.21666667,  0.        ,  0.125     ],\n",
       "       [ 0.125     ,  0.125     ,  0.125     ,  0.        ]])"
      ]
     },
     "execution_count": 58,
     "metadata": {},
     "output_type": "execute_result"
    }
   ],
   "source": [
    "new_graph.adj"
   ]
  },
  {
   "cell_type": "code",
   "execution_count": 59,
   "metadata": {},
   "outputs": [],
   "source": [
    "op_breadth = api.GraphOperator(fruit_graph, api.operate_depth, my_xcal, .8)"
   ]
  },
  {
   "cell_type": "code",
   "execution_count": 60,
   "metadata": {},
   "outputs": [],
   "source": [
    "new_graph_b = op_breadth.activate(np.array([1,0,0,0]))"
   ]
  },
  {
   "cell_type": "code",
   "execution_count": 61,
   "metadata": {},
   "outputs": [
    {
     "data": {
      "text/plain": [
       "array([[ 0.   ,  0.55 ,  0.3  ,  0.175],\n",
       "       [ 0.49 ,  0.   ,  0.24 ,  0.115],\n",
       "       [ 0.25 ,  0.25 ,  0.   ,  0.125],\n",
       "       [ 0.125,  0.125,  0.125,  0.   ]])"
      ]
     },
     "execution_count": 61,
     "metadata": {},
     "output_type": "execute_result"
    }
   ],
   "source": [
    "new_graph_b.adj"
   ]
  },
  {
   "cell_type": "code",
   "execution_count": null,
   "metadata": {},
   "outputs": [],
   "source": []
  }
 ],
 "metadata": {
  "kernelspec": {
   "display_name": "Python 3",
   "language": "python",
   "name": "python3"
  },
  "language_info": {
   "codemirror_mode": {
    "name": "ipython",
    "version": 3
   },
   "file_extension": ".py",
   "mimetype": "text/x-python",
   "name": "python",
   "nbconvert_exporter": "python",
   "pygments_lexer": "ipython3",
   "version": "3.6.0"
  }
 },
 "nbformat": 4,
 "nbformat_minor": 2
}
