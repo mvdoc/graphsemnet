{
 "cells": [
  {
   "cell_type": "markdown",
   "metadata": {},
   "source": [
    "- $W$: matrix of (thresholded) weights\n",
    "- $\\gamma$: decay parameter"
   ]
  },
  {
   "cell_type": "markdown",
   "metadata": {},
   "source": [
    "NMPH function\n",
    "$$\n",
    "\\text{NMPH}(x) = \\begin{cases}\n",
    "2 x \\cdot y_{min}/x_{cp} & x \\leq x_{\\text{cp}/2}\\\\\n",
    "2 x \\cdot (y_{cp} - y_{min})/x_{cp} & x_{\\text{cp}/2} < x \\leq x_{\\text{cp}}\\\\\n",
    "x \\cdot (y_{max} - y_{cp})/(1 - x_{\\text{cp}}) & x_{\\text{cp}} < x \\leq 1\n",
    "\\end{cases}\n",
    "$$"
   ]
  },
  {
   "cell_type": "markdown",
   "metadata": {},
   "source": [
    "Weight update\n",
    "$$W^{t+1}_{k-1,k} = \\Delta_{k-1,k}W^t_{k-1, k}$$"
   ]
  },
  {
   "cell_type": "markdown",
   "metadata": {},
   "source": [
    "Sigmoid\n",
    "$$\n",
    "\\sigma(x) = \\frac{1}{1 + e^{-x}}\n",
    "$$"
   ]
  },
  {
   "cell_type": "markdown",
   "metadata": {},
   "source": [
    "Let $W_0, \\text{ACT}_0$ be the initial conditions"
   ]
  },
  {
   "cell_type": "markdown",
   "metadata": {},
   "source": [
    "$$\n",
    "\\text{ACT}_k = \\sigma\\left(\\sum_{i=1}^{k}\\gamma^i\\prod_{d=1}^{i}\\sigma\\left(W_{d-1} + \\text{NMPH}(\\text{ACT}_{d-1})\\right)\\right)\\\\\n",
    "$$"
   ]
  },
  {
   "cell_type": "markdown",
   "metadata": {},
   "source": [
    "$$\n",
    "\\Delta W_d = \\sigma\\left(W_{d-1} + \\text{NMPH}(\\text{ACT}_{d-1})\\right)\n",
    "$$"
   ]
  },
  {
   "cell_type": "markdown",
   "metadata": {},
   "source": [
    "$$\n",
    "\\text{ACT}_k = \\sigma\\left(\\sum_{i=1}^{k}\\gamma^i\\prod_{d=1}^{i}\\Delta W_d\\right)\\\\\n",
    "$$"
   ]
  },
  {
   "cell_type": "code",
   "execution_count": 19,
   "metadata": {
    "ExecuteTime": {
     "end_time": "2017-08-17T17:18:42.425609Z",
     "start_time": "2017-08-17T17:18:42.403509Z"
    },
    "collapsed": true
   },
   "outputs": [],
   "source": [
    "import sys\n",
    "sys.path.insert(1, '../')\n",
    "from graphsemnet.gsn import compute_nmph, simulate_distance_matrix, normalize_distance_matrix\n",
    "from scipy.special import expit\n",
    "import numpy as np"
   ]
  },
  {
   "cell_type": "code",
   "execution_count": 687,
   "metadata": {
    "ExecuteTime": {
     "end_time": "2017-08-18T22:03:45.083424Z",
     "start_time": "2017-08-18T22:03:45.079862Z"
    },
    "collapsed": true
   },
   "outputs": [],
   "source": [
    "sns.set_context('notebook')\n",
    "sns.set_style('whitegrid')"
   ]
  },
  {
   "cell_type": "code",
   "execution_count": 20,
   "metadata": {
    "ExecuteTime": {
     "end_time": "2017-08-17T17:18:43.133088Z",
     "start_time": "2017-08-17T17:18:43.112190Z"
    },
    "collapsed": true
   },
   "outputs": [],
   "source": [
    "import seaborn as sns\n",
    "%matplotlib inline\n",
    "import matplotlib.pyplot as plt"
   ]
  },
  {
   "cell_type": "code",
   "execution_count": 21,
   "metadata": {
    "ExecuteTime": {
     "end_time": "2017-08-17T17:18:43.544180Z",
     "start_time": "2017-08-17T17:18:43.535396Z"
    },
    "collapsed": true
   },
   "outputs": [],
   "source": [
    "W = simulate_distance_matrix(100, 10, 10)"
   ]
  },
  {
   "cell_type": "code",
   "execution_count": 22,
   "metadata": {
    "ExecuteTime": {
     "end_time": "2017-08-17T17:18:43.924549Z",
     "start_time": "2017-08-17T17:18:43.919279Z"
    },
    "collapsed": true
   },
   "outputs": [],
   "source": [
    "W -= W.min()\n",
    "W /= (W.max() - W.min())"
   ]
  },
  {
   "cell_type": "code",
   "execution_count": 23,
   "metadata": {
    "ExecuteTime": {
     "end_time": "2017-08-17T17:18:44.377988Z",
     "start_time": "2017-08-17T17:18:44.373060Z"
    }
   },
   "outputs": [],
   "source": [
    "W[np.tril_indices_from(W)] = 0."
   ]
  },
  {
   "cell_type": "code",
   "execution_count": 24,
   "metadata": {
    "ExecuteTime": {
     "end_time": "2017-08-17T17:18:45.336822Z",
     "start_time": "2017-08-17T17:18:44.883649Z"
    }
   },
   "outputs": [
    {
     "data": {
      "text/plain": [
       "<matplotlib.axes._subplots.AxesSubplot at 0x11e8edda0>"
      ]
     },
     "execution_count": 24,
     "metadata": {},
     "output_type": "execute_result"
    },
    {
     "data": {
      "image/png": "[encoded data removed]",
      "text/plain": [
       "<matplotlib.figure.Figure at 0x11e69c940>"
      ]
     },
     "metadata": {},
     "output_type": "display_data"
    }
   ],
   "source": [
    "sns.heatmap(W, xticklabels=False, yticklabels=False, square=True)"
   ]
  },
  {
   "cell_type": "code",
   "execution_count": 25,
   "metadata": {
    "ExecuteTime": {
     "end_time": "2017-08-17T17:18:45.619544Z",
     "start_time": "2017-08-17T17:18:45.614785Z"
    },
    "collapsed": true
   },
   "outputs": [],
   "source": [
    "n_nodes = len(W)"
   ]
  },
  {
   "cell_type": "code",
   "execution_count": 26,
   "metadata": {
    "ExecuteTime": {
     "end_time": "2017-08-17T17:18:46.660082Z",
     "start_time": "2017-08-17T17:18:46.656064Z"
    },
    "collapsed": true
   },
   "outputs": [],
   "source": [
    "nmph = compute_nmph(-0.4, 0.5, 0.5, 0.6)"
   ]
  },
  {
   "cell_type": "code",
   "execution_count": 27,
   "metadata": {
    "ExecuteTime": {
     "end_time": "2017-08-17T17:18:49.526395Z",
     "start_time": "2017-08-17T17:18:49.522045Z"
    },
    "collapsed": true
   },
   "outputs": [],
   "source": [
    "x = np.linspace(0, 1, 100)\n",
    "y = nmph(x)"
   ]
  },
  {
   "cell_type": "code",
   "execution_count": 28,
   "metadata": {
    "ExecuteTime": {
     "end_time": "2017-08-17T17:18:50.264892Z",
     "start_time": "2017-08-17T17:18:50.063725Z"
    }
   },
   "outputs": [
    {
     "data": {
      "text/plain": [
       "[<matplotlib.lines.Line2D at 0x11eb6ef60>]"
      ]
     },
     "execution_count": 28,
     "metadata": {},
     "output_type": "execute_result"
    },
    {
     "data": {
      "image/png": "[encoded data removed]",
      "text/plain": [
       "<matplotlib.figure.Figure at 0x11e6948d0>"
      ]
     },
     "metadata": {},
     "output_type": "display_data"
    }
   ],
   "source": [
    "plt.plot(x, y)"
   ]
  },
  {
   "cell_type": "code",
   "execution_count": 233,
   "metadata": {
    "ExecuteTime": {
     "end_time": "2017-08-17T19:22:41.809778Z",
     "start_time": "2017-08-17T19:22:41.804560Z"
    },
    "collapsed": true
   },
   "outputs": [],
   "source": [
    "def my_expit(x, mult=10, mu=0.5):\n",
    "    return expit((x-mu)*mult)"
   ]
  },
  {
   "cell_type": "code",
   "execution_count": 234,
   "metadata": {
    "ExecuteTime": {
     "end_time": "2017-08-17T19:22:42.341269Z",
     "start_time": "2017-08-17T19:22:42.104812Z"
    }
   },
   "outputs": [
    {
     "data": {
      "text/plain": [
       "[<matplotlib.lines.Line2D at 0x1214d07f0>]"
      ]
     },
     "execution_count": 234,
     "metadata": {},
     "output_type": "execute_result"
    },
    {
     "data": {
      "image/png": "[encoded data removed]",
      "text/plain": [
       "<matplotlib.figure.Figure at 0x121402898>"
      ]
     },
     "metadata": {},
     "output_type": "display_data"
    }
   ],
   "source": [
    "x = np.linspace(-1, 1, 100)\n",
    "plt.plot(x, my_expit(x))"
   ]
  },
  {
   "cell_type": "code",
   "execution_count": 235,
   "metadata": {
    "ExecuteTime": {
     "end_time": "2017-08-17T19:22:42.512020Z",
     "start_time": "2017-08-17T19:22:42.509078Z"
    },
    "collapsed": true
   },
   "outputs": [],
   "source": [
    "gamma = 0.1"
   ]
  },
  {
   "cell_type": "code",
   "execution_count": 236,
   "metadata": {
    "ExecuteTime": {
     "end_time": "2017-08-17T19:22:43.151753Z",
     "start_time": "2017-08-17T19:22:43.147843Z"
    },
    "collapsed": true
   },
   "outputs": [],
   "source": [
    "from numpy.linalg import multi_dot"
   ]
  },
  {
   "cell_type": "code",
   "execution_count": 237,
   "metadata": {
    "ExecuteTime": {
     "end_time": "2017-08-17T19:22:43.598130Z",
     "start_time": "2017-08-17T19:22:43.593707Z"
    },
    "collapsed": true
   },
   "outputs": [],
   "source": [
    "W_thresh = W.copy()\n",
    "W_thresh[W_thresh <= 0.3] = 0."
   ]
  },
  {
   "cell_type": "markdown",
   "metadata": {},
   "source": [
    "$$\n",
    "W_d = \\sigma\\left(W_{d-1} + A\\circ h(\\text{ACT}_{d-1})\\right)\n",
    "$$"
   ]
  },
  {
   "cell_type": "markdown",
   "metadata": {},
   "source": [
    "$$\n",
    "\\text{ACT}_k =  \\sigma\\left(\\mathbf{1}\\cdot\\sum_{i=0}^{k-1}\\gamma^i\\text{ACT}_{i}\\circ\\prod_{d=0}^{i}W_d\\right) \\\\\n",
    "$$"
   ]
  },
  {
   "cell_type": "markdown",
   "metadata": {},
   "source": [
    "$\\circ$ and $\\Pi$ denote element-wise multiplication\n",
    "\n",
    "$\\cdot$ denotes dot-product\n",
    "\n",
    "$\\text{ACT}_i$ is a column vector\n",
    "\n",
    "$\\mathbf{1} = [1, 1, ..., 1]$, a row vector of ones"
   ]
  },
  {
   "cell_type": "code",
   "execution_count": 425,
   "metadata": {
    "ExecuteTime": {
     "end_time": "2017-08-17T20:03:34.716118Z",
     "start_time": "2017-08-17T20:03:34.710515Z"
    },
    "collapsed": true
   },
   "outputs": [],
   "source": [
    "def mdot(list_array):\n",
    "    \"\"\"Multi dot product; if len(list_array) == 1, returns list_array[0]\"\"\"\n",
    "    if len(list_array) == 1:\n",
    "        return list_array[0]\n",
    "    else:\n",
    "        return multi_dot(list_array)"
   ]
  },
  {
   "cell_type": "code",
   "execution_count": 426,
   "metadata": {
    "ExecuteTime": {
     "end_time": "2017-08-17T20:03:35.359230Z",
     "start_time": "2017-08-17T20:03:35.355417Z"
    }
   },
   "outputs": [],
   "source": [
    "from numpy.linalg import multi_dot"
   ]
  },
  {
   "cell_type": "code",
   "execution_count": 639,
   "metadata": {
    "ExecuteTime": {
     "end_time": "2017-08-18T21:16:58.298184Z",
     "start_time": "2017-08-18T21:16:58.273847Z"
    },
    "collapsed": true
   },
   "outputs": [],
   "source": [
    "def spread_activation(W0, ACT0, nmph, gamma, d, A):\n",
    "    \"\"\"Spread activation with NMPH on a graph with initial weight W0, and activation ACT0\n",
    "    \n",
    "    Arguments\n",
    "    ---------\n",
    "    W0 : array (n_nodes, n_nodes)\n",
    "        initial weights of the graph\n",
    "    ACT0 : array (n_nodes, 1)\n",
    "        column array of initial activations\n",
    "    npmh : function [0, 1] -> [-1, 1]\n",
    "        nmph function, generated with `compute_nmph\n",
    "    gamma : float [0, 1]\n",
    "        decay parameter\n",
    "    d : int\n",
    "        how far the activation is allowed to spread\n",
    "    \n",
    "    Returns\n",
    "    -------\n",
    "    Ws : list of arrays (n_nodes, n_nodes)\n",
    "    ACT : list of arrays \n",
    "        activations for every depth\n",
    "    \"\"\"\n",
    "    # initialize values\n",
    "    assert(ACT0.shape[0] >= ACT0.shape[1])\n",
    "    Ws = [W0]\n",
    "    ACT = [ACT0]\n",
    "    dW = np.zeros(ACT0.shape)\n",
    "\n",
    "    # loop \n",
    "    for i in range(d):\n",
    "        # update W\n",
    "        W_i = my_expit(Ws[-1] + A*nmph(ACT[-1]))\n",
    "        Ws.append(W_i)\n",
    "        # update ACT\n",
    "        dW += ((gamma**i) * np.multiply.reduce(Ws) * ACT[i]).sum(axis=0)[:, None]\n",
    "        ACT_ = my_expit(dW)\n",
    "        ACT.append(ACT_)\n",
    "    return Ws, ACT"
   ]
  },
  {
   "cell_type": "code",
   "execution_count": 628,
   "metadata": {
    "ExecuteTime": {
     "end_time": "2017-08-18T20:51:16.206804Z",
     "start_time": "2017-08-18T20:51:16.201888Z"
    }
   },
   "outputs": [],
   "source": [
    "def myheatmap(W, yticklabels=None):\n",
    "    return sns.heatmap(W, xticklabels=False, yticklabels=yticklabels, cbar=True, square=True) "
   ]
  },
  {
   "cell_type": "code",
   "execution_count": 537,
   "metadata": {
    "ExecuteTime": {
     "end_time": "2017-08-18T17:35:21.264734Z",
     "start_time": "2017-08-18T17:35:20.894770Z"
    }
   },
   "outputs": [
    {
     "data": {
      "image/png": "[encoded data removed]",
      "text/plain": [
       "<matplotlib.figure.Figure at 0x12343f860>"
      ]
     },
     "metadata": {},
     "output_type": "display_data"
    }
   ],
   "source": [
    "nmph = compute_nmph(-0.5, .5, .1, .4)\n",
    "x = np.linspace(0, 1, 1000)\n",
    "y = nmph(x)\n",
    "plt.plot(x, y);"
   ]
  },
  {
   "cell_type": "code",
   "execution_count": 538,
   "metadata": {
    "ExecuteTime": {
     "end_time": "2017-08-18T17:35:21.827529Z",
     "start_time": "2017-08-18T17:35:21.819628Z"
    },
    "collapsed": true
   },
   "outputs": [],
   "source": [
    "W = np.zeros((6, 6))\n",
    "W[0, 1] = 0.55\n",
    "W[0, 2] = 0.45\n",
    "# W[1, 0] = 0.5\n",
    "# W[2, 0] = 0.5\n",
    "\n",
    "\n",
    "W[3, 4] = 0.5\n",
    "W[3, 5] = 0.5"
   ]
  },
  {
   "cell_type": "code",
   "execution_count": 539,
   "metadata": {
    "ExecuteTime": {
     "end_time": "2017-08-18T17:35:23.254567Z",
     "start_time": "2017-08-18T17:35:23.250449Z"
    },
    "collapsed": true
   },
   "outputs": [],
   "source": [
    "A = W.copy()\n",
    "A[A > 0] = 1."
   ]
  },
  {
   "cell_type": "code",
   "execution_count": 540,
   "metadata": {
    "ExecuteTime": {
     "end_time": "2017-08-18T17:35:24.008498Z",
     "start_time": "2017-08-18T17:35:23.716419Z"
    }
   },
   "outputs": [
    {
     "data": {
      "image/png": "[encoded data removed]",
      "text/plain": [
       "<matplotlib.figure.Figure at 0x1233cdf28>"
      ]
     },
     "metadata": {},
     "output_type": "display_data"
    }
   ],
   "source": [
    "myheatmap(A);"
   ]
  },
  {
   "cell_type": "code",
   "execution_count": 556,
   "metadata": {
    "ExecuteTime": {
     "end_time": "2017-08-18T17:38:03.857574Z",
     "start_time": "2017-08-18T17:38:03.853668Z"
    },
    "collapsed": true
   },
   "outputs": [],
   "source": [
    "ACT0 = np.zeros((1, 6))\n",
    "ACT0[0][0] = 1."
   ]
  },
  {
   "cell_type": "code",
   "execution_count": 557,
   "metadata": {
    "ExecuteTime": {
     "end_time": "2017-08-18T17:38:06.555584Z",
     "start_time": "2017-08-18T17:38:06.550085Z"
    }
   },
   "outputs": [
    {
     "data": {
      "text/plain": [
       "array([[ 1.,  0.,  0.,  0.,  0.,  0.]])"
      ]
     },
     "execution_count": 557,
     "metadata": {},
     "output_type": "execute_result"
    }
   ],
   "source": [
    "ACT0"
   ]
  },
  {
   "cell_type": "code",
   "execution_count": 558,
   "metadata": {
    "ExecuteTime": {
     "end_time": "2017-08-18T17:38:07.736961Z",
     "start_time": "2017-08-18T17:38:07.732699Z"
    }
   },
   "outputs": [],
   "source": [
    "Ws, ACT = spread_activation(W, ACT0, nmph, gamma, 3, A)"
   ]
  },
  {
   "cell_type": "code",
   "execution_count": 559,
   "metadata": {
    "ExecuteTime": {
     "end_time": "2017-08-18T17:38:08.490104Z",
     "start_time": "2017-08-18T17:38:08.482597Z"
    }
   },
   "outputs": [
    {
     "data": {
      "text/plain": [
       "[array([[ 1.,  0.,  0.,  0.,  0.,  0.]]),\n",
       " array([[ 0.00669285,  0.17129548,  0.0355346 ,  0.00669285,  0.00669285,\n",
       "          0.00669285]]),\n",
       " array([[ 0.00669285,  0.17139272,  0.03554936,  0.00669285,  0.00670844,\n",
       "          0.00670844]]),\n",
       " array([[ 0.00669285,  0.17139273,  0.03554941,  0.00669285,  0.00671024,\n",
       "          0.00671024]])]"
      ]
     },
     "execution_count": 559,
     "metadata": {},
     "output_type": "execute_result"
    }
   ],
   "source": [
    "ACT"
   ]
  },
  {
   "cell_type": "code",
   "execution_count": 554,
   "metadata": {
    "ExecuteTime": {
     "end_time": "2017-08-18T17:37:31.085092Z",
     "start_time": "2017-08-18T17:37:31.080135Z"
    }
   },
   "outputs": [
    {
     "data": {
      "text/plain": [
       "(1, 6)"
      ]
     },
     "execution_count": 554,
     "metadata": {},
     "output_type": "execute_result"
    }
   ],
   "source": [
    "ACT[1].shape"
   ]
  },
  {
   "cell_type": "code",
   "execution_count": 610,
   "metadata": {
    "ExecuteTime": {
     "end_time": "2017-08-18T18:04:53.186699Z",
     "start_time": "2017-08-18T18:04:52.972325Z"
    }
   },
   "outputs": [],
   "source": [
    "winner_r = []\n",
    "winner_nr = []\n",
    "ACT0 = np.zeros((1, 6))\n",
    "for i in range(1000):\n",
    "    W_ = W.copy()\n",
    "    W_ += np.random.randn(*W_.shape)/10\n",
    "    ACT0_r = ACT0.copy()\n",
    "    ACT0_r[0][0] = 1.\n",
    "    ACT0_nr = ACT0.copy()\n",
    "    ACT0_nr[0][3] = 1.\n",
    "    Ws, ACT = spread_activation(W_, ACT0_r, nmph, gamma, 1, A)\n",
    "    \n",
    "    check_id = np.where(ACT0_r)[0]\n",
    "    winner_r.append(np.argmax(ACT[-1][check_id]))\n",
    "    \n",
    "    Ws, ACT = spread_activation(W_, ACT0_nr, nmph, gamma, 1, A)\n",
    "    \n",
    "    check_id = np.where(ACT0_nr)[0]\n",
    "    winner_nr.append(np.argmax(ACT[-1][check_id]))"
   ]
  },
  {
   "cell_type": "code",
   "execution_count": 611,
   "metadata": {
    "ExecuteTime": {
     "end_time": "2017-08-18T18:04:54.045546Z",
     "start_time": "2017-08-18T18:04:54.039526Z"
    }
   },
   "outputs": [
    {
     "data": {
      "text/plain": [
       "[array([[ 0.,  0.,  0.,  1.,  0.,  0.]]),\n",
       " array([[ 0.00667773,  0.00702212,  0.00703236,  0.0066925 ,  0.48866978,\n",
       "          0.47959576]])]"
      ]
     },
     "execution_count": 611,
     "metadata": {},
     "output_type": "execute_result"
    }
   ],
   "source": [
    "ACT"
   ]
  },
  {
   "cell_type": "code",
   "execution_count": 571,
   "metadata": {
    "ExecuteTime": {
     "end_time": "2017-08-18T17:40:11.724796Z",
     "start_time": "2017-08-18T17:40:11.717859Z"
    },
    "collapsed": true
   },
   "outputs": [],
   "source": [
    "p_r = np.sum(np.array(winner_r) == 1)\n",
    "p_nr = np.sum(np.array(winner_nr) == 4)"
   ]
  },
  {
   "cell_type": "code",
   "execution_count": 573,
   "metadata": {
    "ExecuteTime": {
     "end_time": "2017-08-18T17:40:33.002265Z",
     "start_time": "2017-08-18T17:40:32.996666Z"
    }
   },
   "outputs": [
    {
     "name": "stdout",
     "output_type": "stream",
     "text": [
      "501\n",
      "769\n"
     ]
    },
    {
     "data": {
      "text/plain": [
       "(None, None)"
      ]
     },
     "execution_count": 573,
     "metadata": {},
     "output_type": "execute_result"
    }
   ],
   "source": [
    "print(p_nr), print(p_r)"
   ]
  },
  {
   "cell_type": "code",
   "execution_count": 624,
   "metadata": {
    "ExecuteTime": {
     "end_time": "2017-08-18T20:44:58.861646Z",
     "start_time": "2017-08-18T20:44:58.854227Z"
    },
    "collapsed": true
   },
   "outputs": [],
   "source": [
    "W = np.zeros((6, 6))\n",
    "W[0, 1] = 0.5\n",
    "W[0, 2] = 0.5\n",
    "\n",
    "W[3, 4] = 0.5\n",
    "W[3, 5] = 0.5\n",
    "\n",
    "W += W.T"
   ]
  },
  {
   "cell_type": "code",
   "execution_count": 632,
   "metadata": {
    "ExecuteTime": {
     "end_time": "2017-08-18T20:57:02.919713Z",
     "start_time": "2017-08-18T20:57:02.648429Z"
    }
   },
   "outputs": [
    {
     "data": {
      "image/png": "[encoded data removed]",
      "text/plain": [
       "<matplotlib.figure.Figure at 0x11ff19e10>"
      ]
     },
     "metadata": {},
     "output_type": "display_data"
    }
   ],
   "source": [
    "myheatmap(W, yticklabels=['Animal', 'Horse', 'Pidgeon', 'Profession', 'Scientist', 'Butcher']);"
   ]
  },
  {
   "cell_type": "code",
   "execution_count": 773,
   "metadata": {
    "ExecuteTime": {
     "end_time": "2017-08-18T22:03:45.083424Z",
     "start_time": "2017-08-18T22:03:45.079862Z"
    },
    "collapsed": true
   },
   "outputs": [],
   "source": [
    "gamma = 0.3\n",
    "depth = 3\n",
    "n_iter = 10000"
   ]
  },
  {
   "cell_type": "code",
   "execution_count": 774,
   "metadata": {
    "ExecuteTime": {
     "end_time": "2017-08-18T22:03:55.414719Z",
     "start_time": "2017-08-18T22:03:45.528781Z"
    }
   },
   "outputs": [],
   "source": [
    "winner_iter = []\n",
    "\n",
    "for i in range(n_iter):\n",
    "    # Phase 1: Study\n",
    "    W = np.zeros((6, 6))\n",
    "    W[0, 1] = 0.5\n",
    "    W[0, 2] = 0.5\n",
    "\n",
    "    W[3, 4] = 0.5\n",
    "    W[3, 5] = 0.5\n",
    "    W += W.T\n",
    "\n",
    "    # Add noise\n",
    "    W += np.abs(np.random.randn(*W.shape)/10)\n",
    "    # adjacency please\n",
    "    A = compute_adjacency(W)\n",
    "\n",
    "    # Phase 2: Retrieval Practice\n",
    "    # We want horse\n",
    "    ACT_pr = np.array([1, .25, 0, 0, 0, 0])[:, None] # we want a column vector\n",
    "    W_ = W\n",
    "    for _ in range(1):\n",
    "        Ws, ACT = spread_activation(W_, ACT_pr, nmph, gamma, depth, A)\n",
    "        W_ = Ws[-1]\n",
    "\n",
    "    # Phase 3: Test\n",
    "    W_te = Ws[-1]\n",
    "    ACT_rpplus = np.array([1, .1, 0, 0, 0, 0])[:, None]\n",
    "    ACT_rpminus = np.array([1, 0, .1, 0, 0, 0])[:, None]\n",
    "    ACT_nrp1 = np.array([0, 0, 0, 1, .1, 0])[:, None]\n",
    "    ACT_nrp2 = np.array([0, 0, 0, 1, 0, .1])[:, None]\n",
    "    \n",
    "    winners = []\n",
    "    for activation, which in zip([ACT_rpplus, ACT_rpminus, ACT_nrp1, ACT_nrp2], [1, 2, 4, 5]):\n",
    "        _, activation_ = spread_activation(W_te, activation, nmph, gamma, depth, A)\n",
    "        activation_[-1][0] = 0.\n",
    "        activation_[-1][3] = 0.\n",
    "        winners.append(np.argmax(activation_[-1]).astype(int))\n",
    "        #winners.append((activation_[-1][which] > 0.5).astype(int))\n",
    "    winner_iter.append(winners)\n",
    "\n",
    "winner_iter = np.array(winner_iter)\n",
    "\n",
    "rpplus = np.sum(winner_iter[:, 0] == 1)/n_iter\n",
    "rpminus = np.sum(winner_iter[:, 1] == 2)/n_iter\n",
    "nrp = (np.sum(winner_iter[:, 2] == 4)/n_iter + np.sum(winner_iter[:, 3] == 5)/n_iter)/2."
   ]
  },
  {
   "cell_type": "code",
   "execution_count": 775,
   "metadata": {
    "ExecuteTime": {
     "end_time": "2017-08-18T22:03:55.715406Z",
     "start_time": "2017-08-18T22:03:55.416550Z"
    }
   },
   "outputs": [
    {
     "data": {
      "image/png": "[encoded data removed]",
      "text/plain": [
       "<matplotlib.figure.Figure at 0x125e18198>"
      ]
     },
     "metadata": {},
     "output_type": "display_data"
    }
   ],
   "source": [
    "fig, ax = plt.subplots(1, 1)\n",
    "ax.bar([0, 1, 2], [rpplus, rpminus, nrp], tick_label=['RP+', 'RP-', 'NRp'])\n",
    "ax.set_ylim([0, .8]);"
   ]
  },
  {
   "cell_type": "code",
   "execution_count": 617,
   "metadata": {
    "ExecuteTime": {
     "end_time": "2017-08-18T18:06:15.643091Z",
     "start_time": "2017-08-18T18:06:15.636502Z"
    }
   },
   "outputs": [
    {
     "name": "stdout",
     "output_type": "stream",
     "text": [
      "[array([[ 0.,  0.,  0.,  0.,  0.,  0.]]), array([[ 0.00669285,  0.00669285,  0.00669285,  0.00669285,  0.00669285,\n",
      "         0.00669285]]), array([[ 0.00672406,  0.00670844,  0.00670844,  0.00672406,  0.00670844,\n",
      "         0.00670844]]), array([[ 0.00672769,  0.00671025,  0.00671025,  0.00672769,  0.00671025,\n",
      "         0.00671025]])]\n"
     ]
    }
   ],
   "source": [
    ",print(ACT)"
   ]
  },
  {
   "cell_type": "code",
   "execution_count": 618,
   "metadata": {
    "ExecuteTime": {
     "end_time": "2017-08-18T18:06:20.741235Z",
     "start_time": "2017-08-18T18:06:20.496003Z"
    }
   },
   "outputs": [
    {
     "data": {
      "text/plain": [
       "(array([ 501.,    0.,    0.,    0.,    0.,    0.,    0.,    0.,    0.,  499.]),\n",
       " array([ 1. ,  1.1,  1.2,  1.3,  1.4,  1.5,  1.6,  1.7,  1.8,  1.9,  2. ]),\n",
       " <a list of 10 Patch objects>)"
      ]
     },
     "execution_count": 618,
     "metadata": {},
     "output_type": "execute_result"
    },
    {
     "data": {
      "image/png": "[encoded data removed]",
      "text/plain": [
       "<matplotlib.figure.Figure at 0x1230f7e80>"
      ]
     },
     "metadata": {},
     "output_type": "display_data"
    }
   ],
   "source": [
    "plt.hist(winner)"
   ]
  },
  {
   "cell_type": "code",
   "execution_count": 619,
   "metadata": {
    "ExecuteTime": {
     "end_time": "2017-08-18T18:06:21.810209Z",
     "start_time": "2017-08-18T18:06:21.804561Z"
    }
   },
   "outputs": [
    {
     "name": "stdout",
     "output_type": "stream",
     "text": [
      "[[ 0.00718555  0.38494173  0.38494173  0.00718555  0.00718555  0.00718555]\n",
      " [ 0.38501572  0.00718555  0.00718555  0.00718555  0.00718555  0.00718555]\n",
      " [ 0.38501572  0.00718555  0.00718555  0.00718555  0.00718555  0.00718555]\n",
      " [ 0.00718555  0.00718555  0.00718555  0.00718555  0.38494173  0.38494173]\n",
      " [ 0.00718555  0.00718555  0.00718555  0.38501572  0.00718555  0.00718555]\n",
      " [ 0.00718555  0.00718555  0.00718555  0.38501572  0.00718555  0.00718555]]\n"
     ]
    }
   ],
   "source": [
    "print(Ws[-1])"
   ]
  },
  {
   "cell_type": "code",
   "execution_count": 576,
   "metadata": {
    "ExecuteTime": {
     "end_time": "2017-08-18T17:40:47.144866Z",
     "start_time": "2017-08-18T17:40:47.139901Z"
    },
    "collapsed": true
   },
   "outputs": [],
   "source": [
    "def compute_adjacency(W):\n",
    "    A = W.copy()\n",
    "    A[A > 0.] = 1.\n",
    "    return A"
   ]
  },
  {
   "cell_type": "code",
   "execution_count": 577,
   "metadata": {
    "ExecuteTime": {
     "end_time": "2017-08-18T17:40:48.724249Z",
     "start_time": "2017-08-18T17:40:48.720321Z"
    },
    "collapsed": true
   },
   "outputs": [],
   "source": [
    "A = compute_adjacency(W)"
   ]
  },
  {
   "cell_type": "code",
   "execution_count": 582,
   "metadata": {
    "ExecuteTime": {
     "end_time": "2017-08-18T17:41:19.811843Z",
     "start_time": "2017-08-18T17:41:19.808299Z"
    }
   },
   "outputs": [],
   "source": [
    "ACT_ = ACT0.copy()\n",
    "ACT_[0][1] = 1."
   ]
  },
  {
   "cell_type": "code",
   "execution_count": 587,
   "metadata": {
    "ExecuteTime": {
     "end_time": "2017-08-18T17:42:32.638275Z",
     "start_time": "2017-08-18T17:42:32.623808Z"
    }
   },
   "outputs": [
    {
     "name": "stdout",
     "output_type": "stream",
     "text": [
      "[[ 0.   0.5  0.5  0.   0.   0. ]\n",
      " [ 0.5  0.   0.   0.   0.   0. ]\n",
      " [ 0.5  0.   0.   0.   0.   0. ]\n",
      " [ 0.   0.   0.   0.   0.5  0.5]\n",
      " [ 0.   0.   0.   0.5  0.   0. ]\n",
      " [ 0.   0.   0.   0.5  0.   0. ]]\n"
     ]
    }
   ],
   "source": [
    "print(W)"
   ]
  },
  {
   "cell_type": "code",
   "execution_count": 588,
   "metadata": {
    "ExecuteTime": {
     "end_time": "2017-08-18T17:42:37.654627Z",
     "start_time": "2017-08-18T17:42:37.650794Z"
    },
    "collapsed": true
   },
   "outputs": [],
   "source": [
    "Ws, ACT = spread_activation(W, ACT_, nmph, 0.3, 3, A)"
   ]
  },
  {
   "cell_type": "code",
   "execution_count": 589,
   "metadata": {
    "ExecuteTime": {
     "end_time": "2017-08-18T17:42:40.478899Z",
     "start_time": "2017-08-18T17:42:40.472545Z"
    }
   },
   "outputs": [
    {
     "name": "stdout",
     "output_type": "stream",
     "text": [
      "[[ 0.00718555  0.99150058  0.38424307  0.00718555  0.00718555  0.00718555]\n",
      " [ 0.00882851  0.00718555  0.00718555  0.00718555  0.00718555  0.00718555]\n",
      " [ 0.00882851  0.00718555  0.00718555  0.00718555  0.00718555  0.00718555]\n",
      " [ 0.00718555  0.00718555  0.00718555  0.00718555  0.38501572  0.38501572]\n",
      " [ 0.00718555  0.00718555  0.00718555  0.38494173  0.00718555  0.00718555]\n",
      " [ 0.00718555  0.00718555  0.00718555  0.38494173  0.00718555  0.00718555]]\n"
     ]
    }
   ],
   "source": [
    "print(Ws[-1])"
   ]
  },
  {
   "cell_type": "code",
   "execution_count": 585,
   "metadata": {
    "ExecuteTime": {
     "end_time": "2017-08-18T17:41:37.305188Z",
     "start_time": "2017-08-18T17:41:37.299500Z"
    }
   },
   "outputs": [
    {
     "name": "stdout",
     "output_type": "stream",
     "text": [
      "[[ 0.07598523  0.00771923  0.00689261  0.00672769  0.00671025  0.00671025]]\n"
     ]
    }
   ],
   "source": [
    "print(ACT[-1])"
   ]
  },
  {
   "cell_type": "code",
   "execution_count": 529,
   "metadata": {
    "ExecuteTime": {
     "end_time": "2017-08-17T20:26:23.614547Z",
     "start_time": "2017-08-17T20:26:23.609767Z"
    },
    "collapsed": true
   },
   "outputs": [],
   "source": [
    "ACT_ = ACT0.copy()\n",
    "ACT_[0] = 1."
   ]
  },
  {
   "cell_type": "code",
   "execution_count": 531,
   "metadata": {
    "ExecuteTime": {
     "end_time": "2017-08-17T20:26:44.392132Z",
     "start_time": "2017-08-17T20:26:44.388321Z"
    }
   },
   "outputs": [],
   "source": [
    "Wss, ACT = spread_activation(Ws[-1], ACT_, nmph, 0.3, 3, A)"
   ]
  },
  {
   "cell_type": "code",
   "execution_count": 533,
   "metadata": {
    "ExecuteTime": {
     "end_time": "2017-08-17T20:26:51.237060Z",
     "start_time": "2017-08-17T20:26:51.231315Z"
    }
   },
   "outputs": [
    {
     "name": "stdout",
     "output_type": "stream",
     "text": [
      "[[ 0.00718806  0.98827469  0.98827469  0.00718806  0.00718806  0.00718806]\n",
      " [ 0.99169769  0.00718806  0.00718806  0.00718806  0.00718806  0.00718806]\n",
      " [ 0.01076857  0.00718806  0.00718806  0.00718806  0.00718806  0.00718806]\n",
      " [ 0.00718806  0.00718806  0.00718806  0.00718806  0.01076857  0.01076857]\n",
      " [ 0.00718806  0.00718806  0.00718806  0.01076857  0.00718806  0.00718806]\n",
      " [ 0.00718806  0.00718806  0.00718806  0.01076857  0.00718806  0.00718806]]\n"
     ]
    }
   ],
   "source": [
    "print(Wss[-1])"
   ]
  },
  {
   "cell_type": "code",
   "execution_count": 535,
   "metadata": {
    "ExecuteTime": {
     "end_time": "2017-08-17T20:27:10.053053Z",
     "start_time": "2017-08-17T20:27:10.047928Z"
    }
   },
   "outputs": [
    {
     "name": "stdout",
     "output_type": "stream",
     "text": [
      "[[ 0.00669388  0.01984627  0.01984627  0.00669388  0.00669388  0.00669388]\n",
      " [ 0.00674355  0.00669285  0.00669285  0.00669285  0.00669285  0.00669285]\n",
      " [ 0.00669308  0.00669285  0.00669285  0.00669285  0.00669285  0.00669285]\n",
      " [ 0.00669285  0.00669285  0.00669285  0.00669285  0.00669308  0.00669308]\n",
      " [ 0.00669285  0.00669285  0.00669285  0.00669308  0.00669285  0.00669285]\n",
      " [ 0.00669285  0.00669285  0.00669285  0.00669308  0.00669285  0.00669285]]\n"
     ]
    }
   ],
   "source": [
    "print(ACT[-1])"
   ]
  },
  {
   "cell_type": "code",
   "execution_count": null,
   "metadata": {
    "collapsed": true
   },
   "outputs": [],
   "source": []
  }
 ],
 "metadata": {
  "anaconda-cloud": {},
  "kernelspec": {
   "display_name": "Python [conda env:py36]",
   "language": "python",
   "name": "conda-env-py36-py"
  },
  "language_info": {
   "codemirror_mode": {
    "name": "ipython",
    "version": 3
   },
   "file_extension": ".py",
   "mimetype": "text/x-python",
   "name": "python",
   "nbconvert_exporter": "python",
   "pygments_lexer": "ipython3",
   "version": "3.6.1"
  },
  "toc": {
   "colors": {
    "hover_highlight": "#DAA520",
    "navigate_num": "#000000",
    "navigate_text": "#333333",
    "running_highlight": "#FF0000",
    "selected_highlight": "#FFD700",
    "sidebar_border": "#EEEEEE",
    "wrapper_background": "#FFFFFF"
   },
   "moveMenuLeft": true,
   "nav_menu": {
    "height": "12px",
    "width": "252px"
   },
   "navigate_menu": true,
   "number_sections": true,
   "sideBar": true,
   "threshold": 4,
   "toc_cell": false,
   "toc_section_display": "block",
   "toc_window_display": false,
   "widenNotebook": false
  }
 },
 "nbformat": 4,
 "nbformat_minor": 2
}
