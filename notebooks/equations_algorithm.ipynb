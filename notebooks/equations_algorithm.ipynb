{
 "cells": [
  {
   "cell_type": "markdown",
   "metadata": {},
   "source": [
    "- $W$: matrix of (thresholded) weights\n",
    "- $\\gamma$: decay parameter"
   ]
  },
  {
   "cell_type": "markdown",
   "metadata": {},
   "source": [
    "NMPH function\n",
    "$$\n",
    "\\text{NMPH}(x) = \\begin{cases}\n",
    "2 x \\cdot y_{min}/x_{cp} & x \\leq x_{\\text{cp}/2}\\\\\n",
    "2 x \\cdot (y_{cp} - y_{min})/x_{cp} & x_{\\text{cp}/2} < x \\leq x_{\\text{cp}}\\\\\n",
    "x \\cdot (y_{max} - y_{cp})/(1 - x_{\\text{cp}}) & x_{\\text{cp}} < x \\leq 1\n",
    "\\end{cases}\n",
    "$$"
   ]
  },
  {
   "cell_type": "markdown",
   "metadata": {},
   "source": [
    "Weight update\n",
    "$$W^{t+1}_{k-1,k} = \\Delta_{k-1,k}W^t_{k-1, k}$$"
   ]
  },
  {
   "cell_type": "markdown",
   "metadata": {},
   "source": [
    "Sigmoid\n",
    "$$\n",
    "\\sigma(x) = \\frac{1}{1 + e^{-x}}\n",
    "$$"
   ]
  },
  {
   "cell_type": "markdown",
   "metadata": {},
   "source": [
    "Let $W_0, \\text{ACT}_0$ be the initial conditions"
   ]
  },
  {
   "cell_type": "markdown",
   "metadata": {},
   "source": [
    "$$\n",
    "\\text{ACT}_k = \\sigma\\left(\\sum_{i=1}^{k}\\gamma^i\\prod_{d=1}^{i}\\sigma\\left(W_{d-1} + \\text{NMPH}(\\text{ACT}_{d-1})\\right)\\right)\\\\\n",
    "$$"
   ]
  },
  {
   "cell_type": "markdown",
   "metadata": {},
   "source": [
    "$$\n",
    "\\Delta W_d = \\sigma\\left(W_{d-1} + \\text{NMPH}(\\text{ACT}_{d-1})\\right)\n",
    "$$"
   ]
  },
  {
   "cell_type": "markdown",
   "metadata": {},
   "source": [
    "$$\n",
    "\\text{ACT}_k = \\sigma\\left(\\sum_{i=1}^{k}\\gamma^i\\prod_{d=1}^{i}\\Delta W_d\\right)\\\\\n",
    "$$"
   ]
  },
  {
   "cell_type": "code",
   "execution_count": 19,
   "metadata": {
    "ExecuteTime": {
     "end_time": "2017-08-17T17:18:42.425609Z",
     "start_time": "2017-08-17T17:18:42.403509Z"
    },
    "collapsed": true
   },
   "outputs": [],
   "source": [
    "import sys\n",
    "sys.path.insert(1, '../')\n",
    "from graphsemnet.gsn import compute_nmph, simulate_distance_matrix, normalize_distance_matrix\n",
    "from scipy.special import expit\n",
    "import numpy as np"
   ]
  },
  {
   "cell_type": "code",
   "execution_count": 687,
   "metadata": {
    "ExecuteTime": {
     "end_time": "2017-08-19T16:51:01.839215Z",
     "start_time": "2017-08-19T16:51:01.835040Z"
    },
    "collapsed": true
   },
   "outputs": [],
   "source": [
    "sns.set_context('notebook')\n",
    "sns.set_style('whitegrid')"
   ]
  },
  {
   "cell_type": "code",
   "execution_count": 20,
   "metadata": {
    "ExecuteTime": {
     "end_time": "2017-08-17T17:18:43.133088Z",
     "start_time": "2017-08-17T17:18:43.112190Z"
    },
    "collapsed": true
   },
   "outputs": [],
   "source": [
    "import seaborn as sns\n",
    "%matplotlib inline\n",
    "import matplotlib.pyplot as plt"
   ]
  },
  {
   "cell_type": "code",
   "execution_count": 21,
   "metadata": {
    "ExecuteTime": {
     "end_time": "2017-08-17T17:18:43.544180Z",
     "start_time": "2017-08-17T17:18:43.535396Z"
    },
    "collapsed": true
   },
   "outputs": [],
   "source": [
    "W = simulate_distance_matrix(100, 10, 10)"
   ]
  },
  {
   "cell_type": "code",
   "execution_count": 22,
   "metadata": {
    "ExecuteTime": {
     "end_time": "2017-08-17T17:18:43.924549Z",
     "start_time": "2017-08-17T17:18:43.919279Z"
    },
    "collapsed": true
   },
   "outputs": [],
   "source": [
    "W -= W.min()\n",
    "W /= (W.max() - W.min())"
   ]
  },
  {
   "cell_type": "code",
   "execution_count": 23,
   "metadata": {
    "ExecuteTime": {
     "end_time": "2017-08-17T17:18:44.377988Z",
     "start_time": "2017-08-17T17:18:44.373060Z"
    }
   },
   "outputs": [],
   "source": [
    "W[np.tril_indices_from(W)] = 0."
   ]
  },
  {
   "cell_type": "code",
   "execution_count": 24,
   "metadata": {
    "ExecuteTime": {
     "end_time": "2017-08-17T17:18:45.336822Z",
     "start_time": "2017-08-17T17:18:44.883649Z"
    }
   },
   "outputs": [
    {
     "data": {
      "text/plain": [
       "<matplotlib.axes._subplots.AxesSubplot at 0x11e8edda0>"
      ]
     },
     "execution_count": 24,
     "metadata": {},
     "output_type": "execute_result"
    },
    {
     "data": {
      "image/png": "[encoded data removed]",
      "text/plain": [
       "<matplotlib.figure.Figure at 0x11e69c940>"
      ]
     },
     "metadata": {},
     "output_type": "display_data"
    }
   ],
   "source": [
    "sns.heatmap(W, xticklabels=False, yticklabels=False, square=True)"
   ]
  },
  {
   "cell_type": "code",
   "execution_count": 25,
   "metadata": {
    "ExecuteTime": {
     "end_time": "2017-08-17T17:18:45.619544Z",
     "start_time": "2017-08-17T17:18:45.614785Z"
    },
    "collapsed": true
   },
   "outputs": [],
   "source": [
    "n_nodes = len(W)"
   ]
  },
  {
   "cell_type": "code",
   "execution_count": 1105,
   "metadata": {
    "ExecuteTime": {
     "end_time": "2017-08-19T13:30:23.792152Z",
     "start_time": "2017-08-19T13:30:23.787076Z"
    },
    "collapsed": true
   },
   "outputs": [],
   "source": [
    "nmph = compute_nmph(-0.1, 0.5, 0.5, 0.6)"
   ]
  },
  {
   "cell_type": "code",
   "execution_count": 1106,
   "metadata": {
    "ExecuteTime": {
     "end_time": "2017-08-19T13:30:24.332083Z",
     "start_time": "2017-08-19T13:30:24.327646Z"
    },
    "collapsed": true
   },
   "outputs": [],
   "source": [
    "x = np.linspace(0, 1, 100)\n",
    "y = nmph(x)"
   ]
  },
  {
   "cell_type": "code",
   "execution_count": 1107,
   "metadata": {
    "ExecuteTime": {
     "end_time": "2017-08-19T13:30:24.861674Z",
     "start_time": "2017-08-19T13:30:24.584519Z"
    }
   },
   "outputs": [
    {
     "data": {
      "text/plain": [
       "[<matplotlib.lines.Line2D at 0x1297bd828>]"
      ]
     },
     "execution_count": 1107,
     "metadata": {},
     "output_type": "execute_result"
    },
    {
     "data": {
      "image/png": "[encoded data removed]",
      "text/plain": [
       "<matplotlib.figure.Figure at 0x12707c748>"
      ]
     },
     "metadata": {},
     "output_type": "display_data"
    }
   ],
   "source": [
    "plt.plot(x, y)"
   ]
  },
  {
   "cell_type": "code",
   "execution_count": null,
   "metadata": {
    "collapsed": true
   },
   "outputs": [],
   "source": [
    "np.max()"
   ]
  },
  {
   "cell_type": "code",
   "execution_count": 1213,
   "metadata": {
    "ExecuteTime": {
     "end_time": "2017-08-19T16:49:45.776896Z",
     "start_time": "2017-08-19T16:49:45.760787Z"
    },
    "collapsed": true
   },
   "outputs": [],
   "source": [
    "#def my_expit(x, mult=10, mu=0.5):\n",
    "#    return expit((x-mu)*mult)\n",
    "\n",
    "def my_expit(x):\n",
    "    return np.clip(x, 0, 1)"
   ]
  },
  {
   "cell_type": "code",
   "execution_count": 1214,
   "metadata": {
    "ExecuteTime": {
     "end_time": "2017-08-19T16:49:46.816838Z",
     "start_time": "2017-08-19T16:49:46.337867Z"
    }
   },
   "outputs": [
    {
     "data": {
      "text/plain": [
       "[<matplotlib.lines.Line2D at 0x126bf09e8>]"
      ]
     },
     "execution_count": 1214,
     "metadata": {},
     "output_type": "execute_result"
    },
    {
     "data": {
      "image/png": "[encoded data removed]",
      "text/plain": [
       "<matplotlib.figure.Figure at 0x1282b3048>"
      ]
     },
     "metadata": {},
     "output_type": "display_data"
    }
   ],
   "source": [
    "x = np.linspace(-1, 10, 100)\n",
    "plt.plot(x, my_expit(x))"
   ]
  },
  {
   "cell_type": "code",
   "execution_count": 1215,
   "metadata": {
    "ExecuteTime": {
     "end_time": "2017-08-19T16:49:48.219588Z",
     "start_time": "2017-08-19T16:49:48.214424Z"
    },
    "collapsed": true
   },
   "outputs": [],
   "source": [
    "gamma = 0.1"
   ]
  },
  {
   "cell_type": "code",
   "execution_count": 1042,
   "metadata": {
    "ExecuteTime": {
     "end_time": "2017-08-19T12:13:16.700707Z",
     "start_time": "2017-08-19T12:13:16.696832Z"
    },
    "collapsed": true
   },
   "outputs": [],
   "source": [
    "W_thresh = W.copy()\n",
    "W_thresh[W_thresh <= 0.3] = 0."
   ]
  },
  {
   "cell_type": "markdown",
   "metadata": {},
   "source": [
    "$$\n",
    "W_d = f\\left(W_{d-1} + h(\\text{ACT}_{d-1}^{T}) \\circ A \\right)\n",
    "$$"
   ]
  },
  {
   "cell_type": "markdown",
   "metadata": {},
   "source": [
    "$$\n",
    "\\text{ACT}_k =  f\\left(\\sum_{i=0}^{k-1}\\gamma^i\\text{ACT}_{i}\\cdot\\prod_{d=0}^{i}W_d\\right) \\\\\n",
    "$$"
   ]
  },
  {
   "cell_type": "markdown",
   "metadata": {},
   "source": [
    "$\\Pi$ denotes element-wise multiplication\n",
    "\n",
    "$\\cdot$ denotes dot-product\n",
    "\n",
    "$\\text{ACT}_i$ is a row vector\n",
    "\n",
    "$f(x)$ is an activation function, in our case a ReLU"
   ]
  },
  {
   "cell_type": "code",
   "execution_count": 1212,
   "metadata": {
    "ExecuteTime": {
     "end_time": "2017-08-19T16:43:22.123355Z",
     "start_time": "2017-08-19T16:43:22.107739Z"
    },
    "collapsed": true
   },
   "outputs": [],
   "source": [
    "# Todo: extend this with R^i to model second, and third, etc reachability"
   ]
  },
  {
   "cell_type": "code",
   "execution_count": 1190,
   "metadata": {
    "ExecuteTime": {
     "end_time": "2017-08-19T16:03:41.905181Z",
     "start_time": "2017-08-19T16:03:41.858491Z"
    }
   },
   "outputs": [],
   "source": [
    "def rect(x):\n",
    "    return np.clip(x, 0, 1.)\n",
    "\n",
    "def spread_activation(W0, ACT0, nmph, gamma, d, A):\n",
    "    \"\"\"Spread activation with NMPH on a graph with initial weight W0, and activation ACT0\n",
    "    \n",
    "    Arguments\n",
    "    ---------\n",
    "    W0 : array (n_nodes, n_nodes)\n",
    "        initial weights of the graph\n",
    "    ACT0 : array (1, n_nodes)\n",
    "        row array of initial activations\n",
    "    npmh : function [0, 1] -> [-1, 1]\n",
    "        nmph function, generated with `compute_nmph\n",
    "    gamma : float [0, 1]\n",
    "        decay parameter\n",
    "    d : int\n",
    "        how far the activation is allowed to spread\n",
    "    \n",
    "    Returns\n",
    "    -------\n",
    "    Ws : list of arrays (n_nodes, n_nodes)\n",
    "    ACT : list of arrays \n",
    "        activations for every depth\n",
    "    \"\"\"\n",
    "    # initialize values\n",
    "    assert(ACT0.ndim == 2 and (ACT0.shape[0] <= ACT0.shape[1]))\n",
    "    Ws = [W0]\n",
    "    ACT = [ACT0]\n",
    "    dW = np.zeros(ACT0.shape)\n",
    "\n",
    "    # loop \n",
    "    for i in range(d):\n",
    "        # update W\n",
    "        W_i = rect(Ws[-1] + nmph(ACT[-1]).T * A)\n",
    "        Ws.append(W_i)\n",
    "        # update ACT\n",
    "        dW += gamma**i * np.dot(ACT[i], np.multiply.reduce(Ws))\n",
    "        ACT_ = rect(dW)\n",
    "        ACT.append(ACT_)\n",
    "    return Ws, ACT"
   ]
  },
  {
   "cell_type": "code",
   "execution_count": 1191,
   "metadata": {
    "ExecuteTime": {
     "end_time": "2017-08-19T16:03:44.579775Z",
     "start_time": "2017-08-19T16:03:44.574574Z"
    }
   },
   "outputs": [],
   "source": [
    "def myheatmap(W, cbar=True, ax=None, annot=None):\n",
    "    ax = sns.heatmap(W, cbar=cbar, square=True, annot=annot, vmin=0, vmax=1, ax=ax)\n",
    "    return ax"
   ]
  },
  {
   "cell_type": "code",
   "execution_count": 1314,
   "metadata": {
    "ExecuteTime": {
     "end_time": "2017-08-19T18:03:19.125037Z",
     "start_time": "2017-08-19T18:03:18.903835Z"
    }
   },
   "outputs": [
    {
     "data": {
      "image/png": "[encoded data removed]",
      "text/plain": [
       "<matplotlib.figure.Figure at 0x12b27fcc0>"
      ]
     },
     "metadata": {},
     "output_type": "display_data"
    }
   ],
   "source": []
  },
  {
   "cell_type": "code",
   "execution_count": 1193,
   "metadata": {
    "ExecuteTime": {
     "end_time": "2017-08-19T16:03:49.052430Z",
     "start_time": "2017-08-19T16:03:48.398184Z"
    }
   },
   "outputs": [
    {
     "data": {
      "image/png": "[encoded data removed]",
      "text/plain": [
       "<matplotlib.figure.Figure at 0x128b9cc50>"
      ]
     },
     "metadata": {},
     "output_type": "display_data"
    }
   ],
   "source": [
    "ax = myheatmap(W, annot=True);"
   ]
  },
  {
   "cell_type": "code",
   "execution_count": 1217,
   "metadata": {
    "ExecuteTime": {
     "end_time": "2017-08-19T16:50:54.071594Z",
     "start_time": "2017-08-19T16:50:54.065852Z"
    },
    "collapsed": true
   },
   "outputs": [],
   "source": [
    "def noisy_activation(act, sigma_noise=0.1):\n",
    "    act = np.array(act)\n",
    "    return rect(act + np.random.normal(scale=sigma_noise, size=act.shape))"
   ]
  },
  {
   "cell_type": "code",
   "execution_count": 1218,
   "metadata": {
    "ExecuteTime": {
     "end_time": "2017-08-19T16:50:59.550075Z",
     "start_time": "2017-08-19T16:50:59.544181Z"
    },
    "collapsed": true
   },
   "outputs": [],
   "source": [
    "def filter_activation(activation, nmph):\n",
    "    a = activation.copy()\n",
    "    a = rect(nmph(a))\n",
    "    a /= a.sum()\n",
    "    return a.flatten()"
   ]
  },
  {
   "cell_type": "code",
   "execution_count": 1219,
   "metadata": {
    "ExecuteTime": {
     "end_time": "2017-08-19T16:51:01.839215Z",
     "start_time": "2017-08-19T16:51:01.835040Z"
    },
    "collapsed": true
   },
   "outputs": [],
   "source": [
    "gamma = 0.3\n",
    "depth = 1\n",
    "n_iter = 1000\n",
    "sigma_noise = 0.01"
   ]
  },
  {
   "cell_type": "code",
   "execution_count": 1220,
   "metadata": {
    "ExecuteTime": {
     "end_time": "2017-08-19T16:51:02.654235Z",
     "start_time": "2017-08-19T16:51:02.643601Z"
    }
   },
   "outputs": [
    {
     "name": "stdout",
     "output_type": "stream",
     "text": [
      "[ 0.89000622  0.03075047  0.03776024  0.        ]\n",
      "[ 0.33400373 -0.01230019 -0.01510409  0.        ]\n",
      "[ 0.33400373  0.          0.          0.        ]\n"
     ]
    }
   ],
   "source": [
    "a = noisy_activation([1, 0, 0, 0])\n",
    "print(a)\n",
    "print(nmph(a))\n",
    "print(rect(nmph(a)))"
   ]
  },
  {
   "cell_type": "code",
   "execution_count": 1294,
   "metadata": {
    "ExecuteTime": {
     "end_time": "2017-08-19T17:52:54.592421Z",
     "start_time": "2017-08-19T17:52:54.403436Z"
    },
    "collapsed": true
   },
   "outputs": [],
   "source": [
    "def run_experiment(gamma, depth, nmph, n_iter=1000, sigma_noise=0.01):\n",
    "    winner_iter = []\n",
    "    # Phase 1: Study\n",
    "    W = np.zeros((6, 6))\n",
    "    W[0, 1] = 0.5\n",
    "    W[0, 2] = 0.5\n",
    "\n",
    "    W[3, 4] = 0.5\n",
    "    W[3, 5] = 0.5\n",
    "    W += W.T\n",
    "\n",
    "    # adjacency please\n",
    "    A = compute_adjacency(W)\n",
    "\n",
    "    for i in range(n_iter):\n",
    "        # Phase 2: Retrieval Practice\n",
    "        # We want horse\n",
    "        ACT_pr = np.array([1, .25, 0, 0, 0, 0])[None, :] # we want a row vector\n",
    "        # Add noise on activation\n",
    "        ACT_pr = noisy_activation(ACT_pr, sigma_noise=sigma_noise)\n",
    "        W_ = W\n",
    "        for _ in range(1):\n",
    "            Ws, ACT = spread_activation(W_, ACT_pr, nmph, gamma, depth, A)\n",
    "            W_ = Ws[-1]\n",
    "\n",
    "        # Phase 3: Test\n",
    "        W_te = Ws[-1]\n",
    "        ACT_rpplus = noisy_activation(np.array([1, .1, 0, 0, 0, 0])[None, :], sigma_noise)\n",
    "        ACT_rpminus = noisy_activation(np.array([1, 0, .1, 0, 0, 0])[None, :], sigma_noise)\n",
    "        ACT_nrp1 = noisy_activation(np.array([0, 0, 0, 1, .1, 0])[None, :], sigma_noise)\n",
    "        ACT_nrp2 = noisy_activation(np.array([0, 0, 0, 1, 0, .1])[None, :], sigma_noise)\n",
    "\n",
    "        winners = []\n",
    "        for activation, which in zip([ACT_rpplus, ACT_rpminus, ACT_nrp1, ACT_nrp2], [1, 2, 4, 5]):\n",
    "            _, activation_ = spread_activation(W_te, activation, nmph, gamma, depth, A)\n",
    "            # do not consider the one we activated\n",
    "            which_active = np.argmax(activation)\n",
    "            last_activation = activation_[-1]\n",
    "            # do not look at the category we ping'd\n",
    "            last_activation[0][which_active] = 0.\n",
    "            #prob_activation = filter_activation(last_activation, nmph)\n",
    "            # probabilistic response\n",
    "            #n_responses = 10\n",
    "            #responses = np.random.choice(range(6), n_responses, p=prob_activation)\n",
    "            #winners.append(np.sum(responses == which)/n_responses)\n",
    "            winners.append((np.argmax(nmph(last_activation)) == which).astype(int))\n",
    "            #winners.append((activation_[-1][which] > 0.5).astype(int))\n",
    "        winner_iter.append(winners)\n",
    "\n",
    "    winner_iter = np.array(winner_iter)\n",
    "\n",
    "    #rpplus = np.sum(winner_iter[:, 0] == 1)/n_iter\n",
    "    #rpminus = np.sum(winner_iter[:, 1] == 2)/n_iter\n",
    "    #nrp = (np.sum(winner_iter[:, 2] == 4)/n_iter + np.sum(winner_iter[:, 3] == 5)/n_iter)/2.\n",
    "    return winner_iter"
   ]
  },
  {
   "cell_type": "code",
   "execution_count": 1297,
   "metadata": {
    "ExecuteTime": {
     "end_time": "2017-08-19T17:53:16.117011Z",
     "start_time": "2017-08-19T17:53:16.004572Z"
    }
   },
   "outputs": [],
   "source": [
    "exp = run_experiment(0.8, 3, nmph, n_iter=100)"
   ]
  },
  {
   "cell_type": "code",
   "execution_count": 1298,
   "metadata": {
    "ExecuteTime": {
     "end_time": "2017-08-19T17:53:16.546491Z",
     "start_time": "2017-08-19T17:53:16.539095Z"
    }
   },
   "outputs": [
    {
     "data": {
      "text/plain": [
       "array([[1, 0, 1, 0],\n",
       "       [1, 0, 1, 0],\n",
       "       [1, 0, 1, 0],\n",
       "       [1, 0, 1, 0],\n",
       "       [1, 0, 1, 0],\n",
       "       [1, 0, 1, 0],\n",
       "       [1, 0, 1, 0],\n",
       "       [1, 0, 1, 0],\n",
       "       [1, 0, 1, 0],\n",
       "       [1, 0, 1, 0],\n",
       "       [1, 0, 1, 0],\n",
       "       [1, 0, 1, 0],\n",
       "       [1, 0, 1, 0],\n",
       "       [1, 0, 1, 0],\n",
       "       [1, 0, 1, 0],\n",
       "       [1, 0, 1, 0],\n",
       "       [1, 0, 1, 0],\n",
       "       [1, 0, 1, 0],\n",
       "       [1, 0, 1, 0],\n",
       "       [1, 0, 1, 0],\n",
       "       [1, 0, 1, 0],\n",
       "       [1, 0, 1, 0],\n",
       "       [1, 0, 1, 0],\n",
       "       [1, 0, 1, 0],\n",
       "       [1, 0, 1, 0],\n",
       "       [1, 0, 1, 0],\n",
       "       [1, 0, 1, 0],\n",
       "       [1, 0, 1, 0],\n",
       "       [1, 0, 1, 0],\n",
       "       [1, 0, 1, 0],\n",
       "       [1, 0, 1, 0],\n",
       "       [1, 0, 1, 0],\n",
       "       [1, 0, 1, 0],\n",
       "       [1, 0, 1, 0],\n",
       "       [1, 0, 1, 0],\n",
       "       [1, 0, 1, 0],\n",
       "       [1, 0, 1, 0],\n",
       "       [1, 0, 1, 0],\n",
       "       [1, 0, 1, 0],\n",
       "       [1, 0, 1, 0],\n",
       "       [1, 0, 1, 0],\n",
       "       [1, 0, 1, 0],\n",
       "       [1, 0, 1, 0],\n",
       "       [1, 0, 1, 0],\n",
       "       [1, 0, 1, 0],\n",
       "       [1, 0, 1, 0],\n",
       "       [1, 0, 1, 0],\n",
       "       [1, 0, 1, 0],\n",
       "       [1, 0, 1, 0],\n",
       "       [1, 0, 1, 0],\n",
       "       [1, 0, 1, 0],\n",
       "       [1, 0, 1, 0],\n",
       "       [1, 0, 1, 0],\n",
       "       [1, 0, 1, 0],\n",
       "       [1, 0, 1, 0],\n",
       "       [1, 0, 1, 0],\n",
       "       [1, 0, 1, 0],\n",
       "       [1, 0, 1, 0],\n",
       "       [1, 0, 1, 0],\n",
       "       [1, 0, 1, 0],\n",
       "       [1, 0, 1, 0],\n",
       "       [1, 0, 1, 0],\n",
       "       [1, 0, 1, 0],\n",
       "       [1, 0, 1, 0],\n",
       "       [1, 0, 1, 0],\n",
       "       [1, 0, 1, 0],\n",
       "       [1, 0, 1, 0],\n",
       "       [1, 0, 1, 0],\n",
       "       [1, 0, 1, 0],\n",
       "       [1, 0, 1, 0],\n",
       "       [1, 0, 1, 0],\n",
       "       [1, 0, 1, 0],\n",
       "       [1, 0, 1, 0],\n",
       "       [1, 0, 1, 0],\n",
       "       [1, 0, 1, 0],\n",
       "       [1, 0, 1, 0],\n",
       "       [1, 0, 1, 0],\n",
       "       [1, 0, 1, 0],\n",
       "       [1, 0, 1, 0],\n",
       "       [1, 0, 1, 0],\n",
       "       [1, 0, 1, 0],\n",
       "       [1, 0, 1, 0],\n",
       "       [1, 0, 1, 0],\n",
       "       [1, 0, 1, 0],\n",
       "       [1, 0, 1, 0],\n",
       "       [1, 0, 1, 0],\n",
       "       [1, 0, 1, 0],\n",
       "       [1, 0, 1, 0],\n",
       "       [1, 0, 1, 0],\n",
       "       [1, 0, 1, 0],\n",
       "       [1, 0, 1, 0],\n",
       "       [1, 0, 1, 0],\n",
       "       [1, 0, 1, 0],\n",
       "       [1, 0, 1, 0],\n",
       "       [1, 0, 1, 0],\n",
       "       [1, 0, 1, 0],\n",
       "       [1, 0, 1, 0],\n",
       "       [1, 0, 1, 0],\n",
       "       [1, 0, 1, 0],\n",
       "       [1, 0, 1, 0]])"
      ]
     },
     "execution_count": 1298,
     "metadata": {},
     "output_type": "execute_result"
    }
   ],
   "source": [
    "exp"
   ]
  },
  {
   "cell_type": "code",
   "execution_count": 1234,
   "metadata": {
    "ExecuteTime": {
     "end_time": "2017-08-19T17:04:53.963771Z",
     "start_time": "2017-08-19T17:04:53.958166Z"
    },
    "collapsed": true
   },
   "outputs": [],
   "source": [
    "gammas = np.linspace(0.1, 1, 10)\n",
    "depths = np.arange(1, 4)"
   ]
  },
  {
   "cell_type": "code",
   "execution_count": 1235,
   "metadata": {
    "ExecuteTime": {
     "end_time": "2017-08-19T17:04:55.323194Z",
     "start_time": "2017-08-19T17:04:55.320183Z"
    },
    "collapsed": true
   },
   "outputs": [],
   "source": [
    "from itertools import product, islice"
   ]
  },
  {
   "cell_type": "code",
   "execution_count": 1237,
   "metadata": {
    "ExecuteTime": {
     "end_time": "2017-08-19T17:06:43.468569Z",
     "start_time": "2017-08-19T17:05:55.275846Z"
    }
   },
   "outputs": [
    {
     "name": "stdout",
     "output_type": "stream",
     "text": [
      "0\n",
      "10\n",
      "20\n"
     ]
    }
   ],
   "source": [
    "exps = []\n",
    "for i, (gamma, d) in enumerate(product(gammas, depths)):\n",
    "    if i % 10 == 0:\n",
    "        print(i), \n",
    "    exps.append(np.mean(run_experiment(gamma, d, nmph), axis=0))"
   ]
  },
  {
   "cell_type": "code",
   "execution_count": 1280,
   "metadata": {
    "ExecuteTime": {
     "end_time": "2017-08-19T17:35:25.316179Z",
     "start_time": "2017-08-19T17:35:25.309505Z"
    },
    "collapsed": true
   },
   "outputs": [],
   "source": [
    "def cost_function(exp):\n",
    "    rp_plus = exp[0]\n",
    "    rp_minus = exp[1]\n",
    "    nrp = np.mean(exp[2:])\n",
    "    cost = (rp_plus/rp_minus) + (nrp/rp_minus) + (rp_plus/nrp)\n",
    "    return 0 if cost == np.inf else cost"
   ]
  },
  {
   "cell_type": "code",
   "execution_count": 1250,
   "metadata": {
    "ExecuteTime": {
     "end_time": "2017-08-19T17:13:02.722889Z",
     "start_time": "2017-08-19T17:13:02.717090Z"
    }
   },
   "outputs": [],
   "source": [
    "cost = list(map(lambda x: cost_function(x), exps))"
   ]
  },
  {
   "cell_type": "code",
   "execution_count": 1254,
   "metadata": {
    "ExecuteTime": {
     "end_time": "2017-08-19T17:13:50.386049Z",
     "start_time": "2017-08-19T17:13:50.382397Z"
    }
   },
   "outputs": [],
   "source": [
    "idx_win = np.argmax(cost)"
   ]
  },
  {
   "cell_type": "code",
   "execution_count": 1255,
   "metadata": {
    "ExecuteTime": {
     "end_time": "2017-08-19T17:14:07.346209Z",
     "start_time": "2017-08-19T17:14:07.341724Z"
    }
   },
   "outputs": [
    {
     "data": {
      "text/plain": [
       "3.0275434424394021"
      ]
     },
     "execution_count": 1255,
     "metadata": {},
     "output_type": "execute_result"
    }
   ],
   "source": [
    "cost[idx_win]"
   ]
  },
  {
   "cell_type": "code",
   "execution_count": 1256,
   "metadata": {
    "ExecuteTime": {
     "end_time": "2017-08-19T17:14:44.904870Z",
     "start_time": "2017-08-19T17:14:44.899528Z"
    }
   },
   "outputs": [
    {
     "data": {
      "text/plain": [
       "(0.30000000000000004, 2)"
      ]
     },
     "execution_count": 1256,
     "metadata": {},
     "output_type": "execute_result"
    }
   ],
   "source": [
    "list(product(gammas, depths))[idx_win]"
   ]
  },
  {
   "cell_type": "code",
   "execution_count": 1258,
   "metadata": {
    "ExecuteTime": {
     "end_time": "2017-08-19T17:18:42.783480Z",
     "start_time": "2017-08-19T17:18:42.776486Z"
    }
   },
   "outputs": [],
   "source": [
    "rp_plus = exps[idx_win][0]\n",
    "rp_minus = exps[idx_win][1]\n",
    "nrp = np.mean(exps[2:])"
   ]
  },
  {
   "cell_type": "code",
   "execution_count": 1321,
   "metadata": {
    "ExecuteTime": {
     "end_time": "2017-08-19T18:11:24.657036Z",
     "start_time": "2017-08-19T18:11:24.404547Z"
    }
   },
   "outputs": [
    {
     "data": {
      "image/png": "[encoded data removed]",
      "text/plain": [
       "<matplotlib.figure.Figure at 0x1278c8630>"
      ]
     },
     "metadata": {},
     "output_type": "display_data"
    }
   ],
   "source": [
    "fig, ax = plt.subplots(1, 1)\n",
    "ax.bar([0, 1, 2], [rp_plus, rp_minus, nrp], tick_label=['RP+', 'RP-', 'NRp'])\n",
    "ax.set_ylim([.49, .51]);"
   ]
  },
  {
   "cell_type": "code",
   "execution_count": 1262,
   "metadata": {
    "ExecuteTime": {
     "end_time": "2017-08-19T17:19:18.679211Z",
     "start_time": "2017-08-19T17:19:18.673374Z"
    },
    "scrolled": true
   },
   "outputs": [
    {
     "name": "stdout",
     "output_type": "stream",
     "text": [
      "0.3 2\n"
     ]
    }
   ],
   "source": [
    "# So these are the parameters we want to keep for gamma and d\n",
    "gamma, d = list(product(gammas, depths))[idx_win]\n",
    "print(gamma, d)"
   ]
  },
  {
   "cell_type": "code",
   "execution_count": 1263,
   "metadata": {
    "ExecuteTime": {
     "end_time": "2017-08-19T17:19:23.306973Z",
     "start_time": "2017-08-19T17:19:23.294642Z"
    },
    "collapsed": true
   },
   "outputs": [],
   "source": [
    "from joblib.parallel import Parallel, delayed"
   ]
  },
  {
   "cell_type": "code",
   "execution_count": 1266,
   "metadata": {
    "ExecuteTime": {
     "end_time": "2017-08-19T17:21:02.344121Z",
     "start_time": "2017-08-19T17:21:02.336798Z"
    }
   },
   "outputs": [],
   "source": [
    "def compute_onefold(gamma, depth, args_):\n",
    "    exps = []\n",
    "    for arg in args_:\n",
    "        nmph = compute_nmph(*arg)\n",
    "        exp = run_experiment(gamma, depth, nmph)\n",
    "        exps.append(exp.mean(axis=0))\n",
    "    return exps"
   ]
  },
  {
   "cell_type": "code",
   "execution_count": 1267,
   "metadata": {
    "ExecuteTime": {
     "end_time": "2017-08-19T17:31:15.972381Z",
     "start_time": "2017-08-19T17:21:11.792624Z"
    }
   },
   "outputs": [
    {
     "name": "stderr",
     "output_type": "stream",
     "text": [
      "/Users/contematto/anaconda2/envs/py36/lib/python3.6/site-packages/ipykernel/__main__.py:4: RuntimeWarning: invalid value encountered in true_divide\n",
      "/Users/contematto/anaconda2/envs/py36/lib/python3.6/site-packages/ipykernel/__main__.py:4: RuntimeWarning: invalid value encountered in true_divide\n",
      "/Users/contematto/anaconda2/envs/py36/lib/python3.6/site-packages/ipykernel/__main__.py:44: RuntimeWarning: invalid value encountered in less\n",
      "/Users/contematto/anaconda2/envs/py36/lib/python3.6/site-packages/ipykernel/__main__.py:44: RuntimeWarning: invalid value encountered in less\n",
      "/Users/contematto/anaconda2/envs/py36/lib/python3.6/site-packages/ipykernel/__main__.py:4: RuntimeWarning: invalid value encountered in true_divide\n",
      "/Users/contematto/anaconda2/envs/py36/lib/python3.6/site-packages/ipykernel/__main__.py:44: RuntimeWarning: invalid value encountered in less\n",
      "/Users/contematto/anaconda2/envs/py36/lib/python3.6/site-packages/ipykernel/__main__.py:4: RuntimeWarning: invalid value encountered in true_divide\n",
      "/Users/contematto/anaconda2/envs/py36/lib/python3.6/site-packages/ipykernel/__main__.py:44: RuntimeWarning: invalid value encountered in less\n"
     ]
    }
   ],
   "source": [
    "# Now we can try to find a good nmph\n",
    "# this is what we used before: nmph = compute_nmph(-0.1, .5, .1, .4)\n",
    "n_steps = 5\n",
    "min_y = np.linspace(-0.4, 0, n_steps)\n",
    "inflection_x = np.linspace(0.3, 0.6, n_steps)\n",
    "inflection_y = np.linspace(0, 0.3, n_steps)\n",
    "y_max = np.linspace(0.5, 0.8, n_steps)\n",
    "\n",
    "# get all the values\n",
    "vals = product(min_y, inflection_x, inflection_y, y_max)\n",
    "\n",
    "n_jobs = 4\n",
    "step = -(-n_steps**4 // n_jobs)\n",
    "\n",
    "exps = Parallel(n_jobs=n_jobs)(delayed(compute_onefold)\n",
    "                          (0.1, 2, islice(vals, step)) for _ in range(n_jobs))\n",
    "# for i, (gamma, d) in enumerate(product(gammas, depths)):\n",
    "#     if i % 10 == 0:\n",
    "#         print(i), \n",
    "#     exps.append(run_experiment(gamma, d))"
   ]
  },
  {
   "cell_type": "code",
   "execution_count": 1272,
   "metadata": {
    "ExecuteTime": {
     "end_time": "2017-08-19T17:32:51.995729Z",
     "start_time": "2017-08-19T17:32:51.990884Z"
    }
   },
   "outputs": [],
   "source": [
    "exps = np.vstack(exps)"
   ]
  },
  {
   "cell_type": "code",
   "execution_count": 1281,
   "metadata": {
    "ExecuteTime": {
     "end_time": "2017-08-19T17:35:28.529543Z",
     "start_time": "2017-08-19T17:35:28.518418Z"
    }
   },
   "outputs": [
    {
     "name": "stderr",
     "output_type": "stream",
     "text": [
      "/Users/contematto/anaconda2/envs/py36/lib/python3.6/site-packages/ipykernel/__main__.py:5: RuntimeWarning: divide by zero encountered in double_scalars\n"
     ]
    }
   ],
   "source": [
    "exps_cost = np.array(list(map(lambda x: cost_function(x), exps)))"
   ]
  },
  {
   "cell_type": "code",
   "execution_count": 1282,
   "metadata": {
    "ExecuteTime": {
     "end_time": "2017-08-19T17:35:35.871993Z",
     "start_time": "2017-08-19T17:35:35.866437Z"
    }
   },
   "outputs": [
    {
     "data": {
      "text/plain": [
       "3.7696109094491801"
      ]
     },
     "execution_count": 1282,
     "metadata": {},
     "output_type": "execute_result"
    }
   ],
   "source": [
    "np.max(exps_cost)"
   ]
  },
  {
   "cell_type": "code",
   "execution_count": 1284,
   "metadata": {
    "ExecuteTime": {
     "end_time": "2017-08-19T17:36:12.031275Z",
     "start_time": "2017-08-19T17:36:12.027289Z"
    }
   },
   "outputs": [],
   "source": [
    "win = np.argmax(exps_cost)"
   ]
  },
  {
   "cell_type": "code",
   "execution_count": 1285,
   "metadata": {
    "ExecuteTime": {
     "end_time": "2017-08-19T17:36:31.017979Z",
     "start_time": "2017-08-19T17:36:31.013234Z"
    },
    "collapsed": true
   },
   "outputs": [],
   "source": [
    "param_win = list(product(min_y, inflection_x, inflection_y, y_max))[win]"
   ]
  },
  {
   "cell_type": "code",
   "execution_count": 1286,
   "metadata": {
    "ExecuteTime": {
     "end_time": "2017-08-19T17:36:32.619150Z",
     "start_time": "2017-08-19T17:36:32.613447Z"
    }
   },
   "outputs": [
    {
     "data": {
      "text/plain": [
       "(-0.40000000000000002, 0.59999999999999998, 0.22499999999999998, 0.5)"
      ]
     },
     "execution_count": 1286,
     "metadata": {},
     "output_type": "execute_result"
    }
   ],
   "source": [
    "param_win"
   ]
  },
  {
   "cell_type": "code",
   "execution_count": 1287,
   "metadata": {
    "ExecuteTime": {
     "end_time": "2017-08-19T17:36:45.823716Z",
     "start_time": "2017-08-19T17:36:45.818514Z"
    }
   },
   "outputs": [
    {
     "data": {
      "text/plain": [
       "array([ 0.4902,  0.5065,  0.2025,  0.2063])"
      ]
     },
     "execution_count": 1287,
     "metadata": {},
     "output_type": "execute_result"
    }
   ],
   "source": [
    "exps[win]"
   ]
  },
  {
   "cell_type": "code",
   "execution_count": 1301,
   "metadata": {
    "ExecuteTime": {
     "end_time": "2017-08-19T17:55:07.803182Z",
     "start_time": "2017-08-19T17:55:07.799275Z"
    },
    "collapsed": true
   },
   "outputs": [],
   "source": [
    "gamma = 0.3 \n",
    "depth = 3"
   ]
  },
  {
   "cell_type": "code",
   "execution_count": 1315,
   "metadata": {
    "ExecuteTime": {
     "end_time": "2017-08-19T18:04:25.690756Z",
     "start_time": "2017-08-19T18:04:25.481696Z"
    }
   },
   "outputs": [
    {
     "data": {
      "image/png": "[encoded data removed]",
      "text/plain": [
       "<matplotlib.figure.Figure at 0x12aec6b00>"
      ]
     },
     "metadata": {},
     "output_type": "display_data"
    }
   ],
   "source": [
    "nmph = compute_nmph(-0.1, .5, .05, .1)\n",
    "x = np.linspace(0, 1, 1000)\n",
    "y = nmph(x)\n",
    "plt.plot(x, y);"
   ]
  },
  {
   "cell_type": "code",
   "execution_count": 1316,
   "metadata": {
    "ExecuteTime": {
     "end_time": "2017-08-19T18:04:28.922641Z",
     "start_time": "2017-08-19T18:04:28.792468Z"
    },
    "collapsed": true
   },
   "outputs": [],
   "source": [
    "winner_iter = []\n",
    "# Phase 1: Study\n",
    "W = np.zeros((6, 6))\n",
    "W[0, 1] = 0.5\n",
    "W[0, 2] = 0.5\n",
    "\n",
    "W[3, 4] = 0.5\n",
    "W[3, 5] = 0.5\n",
    "W += W.T\n",
    "\n",
    "# adjacency please\n",
    "A = compute_adjacency(W)\n",
    "n_iter = 1\n",
    "\n",
    "for i in range(n_iter):\n",
    "    # Phase 2: Retrieval Practice\n",
    "    # We want horse\n",
    "    ACT_pr = np.array([1, .25, 0, 0, 0, 0])[None, :] # we want a row vector\n",
    "    # Add noise on activation\n",
    "    ACT_pr = noisy_activation(ACT_pr, sigma_noise=sigma_noise)\n",
    "    W_ = W\n",
    "    for _ in range(1):\n",
    "        Ws, ACT = spread_activation(W_, ACT_pr, nmph, gamma, depth, A)\n",
    "        W_ = Ws[-1]\n",
    "\n",
    "    # Phase 3: Test\n",
    "    W_te = Ws[-1]\n",
    "    ACT_rpplus = noisy_activation(np.array([1, .1, 0, 0, 0, 0])[None, :], sigma_noise)\n",
    "    ACT_rpminus = noisy_activation(np.array([1, 0, .1, 0, 0, 0])[None, :], sigma_noise)\n",
    "    ACT_nrp1 = noisy_activation(np.array([0, 0, 0, 1, .1, 0])[None, :], sigma_noise)\n",
    "    ACT_nrp2 = noisy_activation(np.array([0, 0, 0, 1, 0, .1])[None, :], sigma_noise)\n",
    "\n",
    "    winners = []\n",
    "    for activation, which in zip([ACT_rpplus, ACT_rpminus, ACT_nrp1, ACT_nrp2], [1, 2, 4, 5]):\n",
    "        _, activation_ = spread_activation(W_te, activation, nmph, gamma, depth, A)\n",
    "        # do not consider the one we activated\n",
    "        which_active = np.argmax(activation)\n",
    "        last_activation = activation_[-1].copy()\n",
    "        # do not look at the category we ping'd\n",
    "        last_activation[0][which_active] = 0.\n",
    "        #prob_activation = filter_activation(last_activation, nmph)\n",
    "        # probabilistic response\n",
    "        #n_responses = 10\n",
    "        #responses = np.random.choice(range(6), n_responses, p=prob_activation)\n",
    "        #winners.append(np.sum(responses == which)/n_responses)\n",
    "        winners.append((np.argmax(nmph(last_activation)) == which).astype(int))\n",
    "        #winners.append((activation_[-1][which] > 0.5).astype(int))\n",
    "    winner_iter.append(winners)\n",
    "\n",
    "winner_iter = np.array(winner_iter)\n"
   ]
  },
  {
   "cell_type": "code",
   "execution_count": 1317,
   "metadata": {
    "ExecuteTime": {
     "end_time": "2017-08-19T18:04:30.987207Z",
     "start_time": "2017-08-19T18:04:30.983333Z"
    },
    "collapsed": true
   },
   "outputs": [],
   "source": [
    "sns.set_context('paper')"
   ]
  },
  {
   "cell_type": "code",
   "execution_count": 1318,
   "metadata": {
    "ExecuteTime": {
     "end_time": "2017-08-19T18:04:35.421396Z",
     "start_time": "2017-08-19T18:04:31.428621Z"
    }
   },
   "outputs": [
    {
     "data": {
      "image/png": "[encoded data removed]",
      "text/plain": [
       "<matplotlib.figure.Figure at 0x12ade87b8>"
      ]
     },
     "metadata": {},
     "output_type": "display_data"
    }
   ],
   "source": [
    "n_depth = len(Ws)\n",
    "fig, axs = plt.subplots(n_depth, 2, figsize=(14, 8))\n",
    "for W_, ACT_, ax in zip(Ws, ACT, axs):\n",
    "    sns.heatmap(W_, annot=True, vmin=0, vmax=1, ax=ax[0], square=True)\n",
    "    sns.heatmap(ACT_, annot=True, vmin=0, vmax=1, ax=ax[1])"
   ]
  },
  {
   "cell_type": "code",
   "execution_count": null,
   "metadata": {
    "collapsed": true
   },
   "outputs": [],
   "source": []
  }
 ],
 "metadata": {
  "anaconda-cloud": {},
  "kernelspec": {
   "display_name": "Python [conda env:py36]",
   "language": "python",
   "name": "conda-env-py36-py"
  },
  "language_info": {
   "codemirror_mode": {
    "name": "ipython",
    "version": 3
   },
   "file_extension": ".py",
   "mimetype": "text/x-python",
   "name": "python",
   "nbconvert_exporter": "python",
   "pygments_lexer": "ipython3",
   "version": "3.6.1"
  },
  "toc": {
   "colors": {
    "hover_highlight": "#DAA520",
    "navigate_num": "#000000",
    "navigate_text": "#333333",
    "running_highlight": "#FF0000",
    "selected_highlight": "#FFD700",
    "sidebar_border": "#EEEEEE",
    "wrapper_background": "#FFFFFF"
   },
   "moveMenuLeft": true,
   "nav_menu": {
    "height": "12px",
    "width": "252px"
   },
   "navigate_menu": true,
   "number_sections": true,
   "sideBar": true,
   "threshold": 4,
   "toc_cell": false,
   "toc_section_display": "block",
   "toc_window_display": false,
   "widenNotebook": false
  }
 },
 "nbformat": 4,
 "nbformat_minor": 2
}
