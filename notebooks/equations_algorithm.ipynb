{
 "cells": [
  {
   "cell_type": "code",
   "execution_count": 1,
   "metadata": {
    "ExecuteTime": {
     "end_time": "2017-08-19T20:58:14.776942Z",
     "start_time": "2017-08-19T20:58:12.629485Z"
    },
    "collapsed": true
   },
   "outputs": [],
   "source": [
    "import sys\n",
    "sys.path.insert(1, '../')\n",
    "from graphsemnet.gsn import compute_nmph, spread_activation, rect, compute_adjacency\n",
    "from scipy.special import expit\n",
    "import numpy as np\n",
    "%matplotlib inline\n",
    "import seaborn as sns\n",
    "import matplotlib.pyplot as plt"
   ]
  },
  {
   "cell_type": "code",
   "execution_count": 2,
   "metadata": {
    "ExecuteTime": {
     "end_time": "2017-08-19T20:58:14.817590Z",
     "start_time": "2017-08-19T20:58:14.789461Z"
    }
   },
   "outputs": [],
   "source": [
    "sns.set_context('notebook')\n",
    "sns.set_style('whitegrid')"
   ]
  },
  {
   "cell_type": "markdown",
   "metadata": {},
   "source": [
    "NMPH function\n",
    "$$\n",
    "h(x) = \\begin{cases}\n",
    "2 x \\cdot y_{min}/x_{cp} & x \\leq x_{\\text{cp}/2}\\\\\n",
    "2 x \\cdot (y_{cp} - y_{min})/x_{cp} & x_{\\text{cp}/2} < x \\leq x_{\\text{cp}}\\\\\n",
    "x \\cdot (y_{max} - y_{cp})/(1 - x_{\\text{cp}}) & x_{\\text{cp}} < x \\leq 1\n",
    "\\end{cases}\n",
    "$$"
   ]
  },
  {
   "cell_type": "markdown",
   "metadata": {},
   "source": [
    "Let $W_0, \\text{ACT}_0$ be the initial conditions"
   ]
  },
  {
   "cell_type": "markdown",
   "metadata": {},
   "source": [
    "$$\n",
    "W_d = f\\left(W_{d-1} + \\lambda h(\\text{ACT}_{d-1}^{T}) \\circ A \\right)\n",
    "$$"
   ]
  },
  {
   "cell_type": "markdown",
   "metadata": {},
   "source": [
    "$$\n",
    "\\Delta\\text{ACT}_k =  f\\left(\\sum_{i=0}^{k-1}\\gamma^i\\text{ACT}_{i}\\cdot\\prod_{d=0}^{i}W_d\\right) \\\\\n",
    "$$"
   ]
  },
  {
   "cell_type": "markdown",
   "metadata": {},
   "source": [
    "- $\\Pi$ denotes element-wise multiplication\n",
    "- $\\cdot$ denotes dot-product\n",
    "- $\\text{ACT}_i$ is a row vector\n",
    "- $f(x)$ is an activation function, in our case a ReLU\n",
    "- $W$: matrix of (thresholded) weights\n",
    "- $\\gamma$: decay parameter\n",
    "- $\\lambda$: learning parameter\n",
    "\n",
    "- Todo: extend this with R^i to model second, and third, etc reachability"
   ]
  },
  {
   "cell_type": "code",
   "execution_count": 4,
   "metadata": {
    "ExecuteTime": {
     "end_time": "2017-08-19T20:58:15.488573Z",
     "start_time": "2017-08-19T20:58:15.480878Z"
    },
    "collapsed": true
   },
   "outputs": [],
   "source": [
    "def noisy_activation(act, sigma_noise=0.1):\n",
    "    act = np.array(act)\n",
    "    return rect(act + np.random.normal(scale=sigma_noise, size=act.shape))"
   ]
  },
  {
   "cell_type": "code",
   "execution_count": 5,
   "metadata": {
    "ExecuteTime": {
     "end_time": "2017-08-19T20:58:15.960083Z",
     "start_time": "2017-08-19T20:58:15.954758Z"
    },
    "collapsed": true
   },
   "outputs": [],
   "source": [
    "def filter_activation(activation, nmph):\n",
    "    a = activation.copy()\n",
    "    a = rect(nmph(a))\n",
    "    a /= a.sum()\n",
    "    return a.flatten()"
   ]
  },
  {
   "cell_type": "code",
   "execution_count": 6,
   "metadata": {
    "ExecuteTime": {
     "end_time": "2017-08-19T20:58:16.814024Z",
     "start_time": "2017-08-19T20:58:16.808100Z"
    },
    "collapsed": true
   },
   "outputs": [],
   "source": [
    "gamma = 0.3\n",
    "depth = 1\n",
    "n_iter = 1000\n",
    "sigma_noise = 0.01"
   ]
  },
  {
   "cell_type": "code",
   "execution_count": 7,
   "metadata": {
    "ExecuteTime": {
     "end_time": "2017-08-19T20:36:40.257920Z",
     "start_time": "2017-08-19T20:36:39.715756Z"
    },
    "collapsed": true
   },
   "outputs": [],
   "source": [
    "def run_experiment(gamma, depth, nmph, n_iter=1000, sigma_noise=0.01):\n",
    "    winner_iter = []\n",
    "    # Phase 1: Study\n",
    "    W = np.zeros((6, 6))\n",
    "    W[0, 1] = 0.5\n",
    "    W[0, 2] = 0.5\n",
    "\n",
    "    W[3, 4] = 0.5\n",
    "    W[3, 5] = 0.5\n",
    "    W += W.T\n",
    "\n",
    "    for i in range(n_iter):\n",
    "        # Phase 2: Retrieval Practice\n",
    "        # We want horse\n",
    "        ACT_pr = np.array([1, .25, 0, 0, 0, 0])[None, :] # we want a row vector\n",
    "        # Add noise on activation\n",
    "        ACT_pr = noisy_activation(ACT_pr, sigma_noise=sigma_noise)\n",
    "        W_ = W\n",
    "        for _ in range(1):\n",
    "            Ws, ACT = spread_activation(W_, ACT_pr, nmph, gamma, depth)\n",
    "            W_ = Ws[-1]\n",
    "\n",
    "        # Phase 3: Test\n",
    "        W_te = Ws[-1]\n",
    "        ACT_rpplus = noisy_activation(np.array([1, .1, 0, 0, 0, 0])[None, :], sigma_noise)\n",
    "        ACT_rpminus = noisy_activation(np.array([1, 0, .1, 0, 0, 0])[None, :], sigma_noise)\n",
    "        ACT_nrp1 = noisy_activation(np.array([0, 0, 0, 1, .1, 0])[None, :], sigma_noise)\n",
    "        ACT_nrp2 = noisy_activation(np.array([0, 0, 0, 1, 0, .1])[None, :], sigma_noise)\n",
    "\n",
    "        winners = []\n",
    "        for activation, which in zip([ACT_rpplus, ACT_rpminus, ACT_nrp1, ACT_nrp2], [1, 2, 4, 5]):\n",
    "            _, activation_ = spread_activation(W_te, activation, nmph, gamma, depth)\n",
    "            # do not consider the one we activated\n",
    "            which_active = np.argmax(activation)\n",
    "            last_activation = activation_[-1]\n",
    "            # do not look at the category we ping'd\n",
    "            last_activation[0][which_active] = 0.\n",
    "            prob_activation = filter_activation(last_activation, nmph)\n",
    "            # probabilistic response\n",
    "            n_responses = 10\n",
    "            responses = np.random.choice(range(6), n_responses, p=prob_activation)\n",
    "            winners.append(np.sum(responses == which)/n_responses)\n",
    "            #winners.append((np.argmax(nmph(last_activation)) == which).astype(int))\n",
    "            #winners.append((activation_[-1][which] > 0.5).astype(int))\n",
    "        winner_iter.append(winners)\n",
    "\n",
    "    winner_iter = np.array(winner_iter)\n",
    "\n",
    "    #rpplus = np.sum(winner_iter[:, 0] == 1)/n_iter\n",
    "    #rpminus = np.sum(winner_iter[:, 1] == 2)/n_iter\n",
    "    #nrp = (np.sum(winner_iter[:, 2] == 4)/n_iter + np.sum(winner_iter[:, 3] == 5)/n_iter)/2.\n",
    "    return winner_iter"
   ]
  },
  {
   "cell_type": "code",
   "execution_count": 8,
   "metadata": {
    "ExecuteTime": {
     "end_time": "2017-08-19T20:36:41.737365Z",
     "start_time": "2017-08-19T20:36:41.464104Z"
    }
   },
   "outputs": [],
   "source": [
    "exp = run_experiment(0.8, 3, nmph, n_iter=100)"
   ]
  },
  {
   "cell_type": "code",
   "execution_count": 22,
   "metadata": {
    "ExecuteTime": {
     "end_time": "2017-08-19T18:31:18.931430Z",
     "start_time": "2017-08-19T18:31:18.927154Z"
    },
    "collapsed": true
   },
   "outputs": [],
   "source": [
    "gammas = np.linspace(0.1, 1, 10)\n",
    "depths = np.arange(1, 4)"
   ]
  },
  {
   "cell_type": "code",
   "execution_count": 1235,
   "metadata": {
    "ExecuteTime": {
     "end_time": "2017-08-19T17:04:55.323194Z",
     "start_time": "2017-08-19T17:04:55.320183Z"
    },
    "collapsed": true
   },
   "outputs": [],
   "source": [
    "from itertools import product, islice"
   ]
  },
  {
   "cell_type": "code",
   "execution_count": 1237,
   "metadata": {
    "ExecuteTime": {
     "end_time": "2017-08-19T17:06:43.468569Z",
     "start_time": "2017-08-19T17:05:55.275846Z"
    }
   },
   "outputs": [
    {
     "name": "stdout",
     "output_type": "stream",
     "text": [
      "0\n",
      "10\n",
      "20\n"
     ]
    }
   ],
   "source": [
    "exps = []\n",
    "for i, (gamma, d) in enumerate(product(gammas, depths)):\n",
    "    if i % 10 == 0:\n",
    "        print(i), \n",
    "    exps.append(np.mean(run_experiment(gamma, d, nmph), axis=0))"
   ]
  },
  {
   "cell_type": "code",
   "execution_count": 1280,
   "metadata": {
    "ExecuteTime": {
     "end_time": "2017-08-19T17:35:25.316179Z",
     "start_time": "2017-08-19T17:35:25.309505Z"
    },
    "collapsed": true
   },
   "outputs": [],
   "source": [
    "def cost_function(exp):\n",
    "    rp_plus = exp[0]\n",
    "    rp_minus = exp[1]\n",
    "    nrp = np.mean(exp[2:])\n",
    "    cost = (rp_plus/rp_minus) + (nrp/rp_minus) + (rp_plus/nrp)\n",
    "    return 0 if cost == np.inf else cost"
   ]
  },
  {
   "cell_type": "code",
   "execution_count": 1250,
   "metadata": {
    "ExecuteTime": {
     "end_time": "2017-08-19T17:13:02.722889Z",
     "start_time": "2017-08-19T17:13:02.717090Z"
    }
   },
   "outputs": [],
   "source": [
    "cost = list(map(lambda x: cost_function(x), exps))"
   ]
  },
  {
   "cell_type": "code",
   "execution_count": 1254,
   "metadata": {
    "ExecuteTime": {
     "end_time": "2017-08-19T17:13:50.386049Z",
     "start_time": "2017-08-19T17:13:50.382397Z"
    }
   },
   "outputs": [],
   "source": [
    "idx_win = np.argmax(cost)"
   ]
  },
  {
   "cell_type": "code",
   "execution_count": 1255,
   "metadata": {
    "ExecuteTime": {
     "end_time": "2017-08-19T17:14:07.346209Z",
     "start_time": "2017-08-19T17:14:07.341724Z"
    }
   },
   "outputs": [
    {
     "data": {
      "text/plain": [
       "3.0275434424394021"
      ]
     },
     "execution_count": 1255,
     "metadata": {},
     "output_type": "execute_result"
    }
   ],
   "source": [
    "cost[idx_win]"
   ]
  },
  {
   "cell_type": "code",
   "execution_count": 1256,
   "metadata": {
    "ExecuteTime": {
     "end_time": "2017-08-19T17:14:44.904870Z",
     "start_time": "2017-08-19T17:14:44.899528Z"
    }
   },
   "outputs": [
    {
     "data": {
      "text/plain": [
       "(0.30000000000000004, 2)"
      ]
     },
     "execution_count": 1256,
     "metadata": {},
     "output_type": "execute_result"
    }
   ],
   "source": [
    "list(product(gammas, depths))[idx_win]"
   ]
  },
  {
   "cell_type": "code",
   "execution_count": 1258,
   "metadata": {
    "ExecuteTime": {
     "end_time": "2017-08-19T17:18:42.783480Z",
     "start_time": "2017-08-19T17:18:42.776486Z"
    }
   },
   "outputs": [],
   "source": [
    "rp_plus = exps[idx_win][0]\n",
    "rp_minus = exps[idx_win][1]\n",
    "nrp = np.mean(exps[2:])"
   ]
  },
  {
   "cell_type": "code",
   "execution_count": 1321,
   "metadata": {
    "ExecuteTime": {
     "end_time": "2017-08-19T18:11:24.657036Z",
     "start_time": "2017-08-19T18:11:24.404547Z"
    }
   },
   "outputs": [
    {
     "data": {
      "image/png": "[encoded data removed]",
      "text/plain": [
       "<matplotlib.figure.Figure at 0x1278c8630>"
      ]
     },
     "metadata": {},
     "output_type": "display_data"
    }
   ],
   "source": [
    "fig, ax = plt.subplots(1, 1)\n",
    "ax.bar([0, 1, 2], [rp_plus, rp_minus, nrp], tick_label=['RP+', 'RP-', 'NRp'])\n",
    "ax.set_ylim([.49, .51]);"
   ]
  },
  {
   "cell_type": "code",
   "execution_count": 1262,
   "metadata": {
    "ExecuteTime": {
     "end_time": "2017-08-19T17:19:18.679211Z",
     "start_time": "2017-08-19T17:19:18.673374Z"
    },
    "scrolled": true
   },
   "outputs": [
    {
     "name": "stdout",
     "output_type": "stream",
     "text": [
      "0.3 2\n"
     ]
    }
   ],
   "source": [
    "# So these are the parameters we want to keep for gamma and d\n",
    "gamma, d = list(product(gammas, depths))[idx_win]\n",
    "print(gamma, d)"
   ]
  },
  {
   "cell_type": "code",
   "execution_count": 1263,
   "metadata": {
    "ExecuteTime": {
     "end_time": "2017-08-19T17:19:23.306973Z",
     "start_time": "2017-08-19T17:19:23.294642Z"
    },
    "collapsed": true
   },
   "outputs": [],
   "source": [
    "from joblib.parallel import Parallel, delayed"
   ]
  },
  {
   "cell_type": "code",
   "execution_count": 1266,
   "metadata": {
    "ExecuteTime": {
     "end_time": "2017-08-19T17:21:02.344121Z",
     "start_time": "2017-08-19T17:21:02.336798Z"
    }
   },
   "outputs": [],
   "source": [
    "def compute_onefold(gamma, depth, args_):\n",
    "    exps = []\n",
    "    for arg in args_:\n",
    "        nmph = compute_nmph(*arg)\n",
    "        exp = run_experiment(gamma, depth, nmph)\n",
    "        exps.append(exp.mean(axis=0))\n",
    "    return exps"
   ]
  },
  {
   "cell_type": "code",
   "execution_count": 1267,
   "metadata": {
    "ExecuteTime": {
     "end_time": "2017-08-19T17:31:15.972381Z",
     "start_time": "2017-08-19T17:21:11.792624Z"
    }
   },
   "outputs": [
    {
     "name": "stderr",
     "output_type": "stream",
     "text": [
      "/Users/contematto/anaconda2/envs/py36/lib/python3.6/site-packages/ipykernel/__main__.py:4: RuntimeWarning: invalid value encountered in true_divide\n",
      "/Users/contematto/anaconda2/envs/py36/lib/python3.6/site-packages/ipykernel/__main__.py:4: RuntimeWarning: invalid value encountered in true_divide\n",
      "/Users/contematto/anaconda2/envs/py36/lib/python3.6/site-packages/ipykernel/__main__.py:44: RuntimeWarning: invalid value encountered in less\n",
      "/Users/contematto/anaconda2/envs/py36/lib/python3.6/site-packages/ipykernel/__main__.py:44: RuntimeWarning: invalid value encountered in less\n",
      "/Users/contematto/anaconda2/envs/py36/lib/python3.6/site-packages/ipykernel/__main__.py:4: RuntimeWarning: invalid value encountered in true_divide\n",
      "/Users/contematto/anaconda2/envs/py36/lib/python3.6/site-packages/ipykernel/__main__.py:44: RuntimeWarning: invalid value encountered in less\n",
      "/Users/contematto/anaconda2/envs/py36/lib/python3.6/site-packages/ipykernel/__main__.py:4: RuntimeWarning: invalid value encountered in true_divide\n",
      "/Users/contematto/anaconda2/envs/py36/lib/python3.6/site-packages/ipykernel/__main__.py:44: RuntimeWarning: invalid value encountered in less\n"
     ]
    }
   ],
   "source": [
    "# Now we can try to find a good nmph\n",
    "# this is what we used before: nmph = compute_nmph(-0.1, .5, .1, .4)\n",
    "n_steps = 5\n",
    "min_y = np.linspace(-0.4, 0, n_steps)\n",
    "inflection_x = np.linspace(0.3, 0.6, n_steps)\n",
    "inflection_y = np.linspace(0, 0.3, n_steps)\n",
    "y_max = np.linspace(0.5, 0.8, n_steps)\n",
    "\n",
    "# get all the values\n",
    "vals = product(min_y, inflection_x, inflection_y, y_max)\n",
    "\n",
    "n_jobs = 4\n",
    "step = -(-n_steps**4 // n_jobs)\n",
    "\n",
    "exps = Parallel(n_jobs=n_jobs)(delayed(compute_onefold)\n",
    "                          (0.1, 2, islice(vals, step)) for _ in range(n_jobs))\n",
    "# for i, (gamma, d) in enumerate(product(gammas, depths)):\n",
    "#     if i % 10 == 0:\n",
    "#         print(i), \n",
    "#     exps.append(run_experiment(gamma, d))"
   ]
  },
  {
   "cell_type": "code",
   "execution_count": 1272,
   "metadata": {
    "ExecuteTime": {
     "end_time": "2017-08-19T17:32:51.995729Z",
     "start_time": "2017-08-19T17:32:51.990884Z"
    }
   },
   "outputs": [],
   "source": [
    "exps = np.vstack(exps)"
   ]
  },
  {
   "cell_type": "code",
   "execution_count": 1281,
   "metadata": {
    "ExecuteTime": {
     "end_time": "2017-08-19T17:35:28.529543Z",
     "start_time": "2017-08-19T17:35:28.518418Z"
    }
   },
   "outputs": [
    {
     "name": "stderr",
     "output_type": "stream",
     "text": [
      "/Users/contematto/anaconda2/envs/py36/lib/python3.6/site-packages/ipykernel/__main__.py:5: RuntimeWarning: divide by zero encountered in double_scalars\n"
     ]
    }
   ],
   "source": [
    "exps_cost = np.array(list(map(lambda x: cost_function(x), exps)))"
   ]
  },
  {
   "cell_type": "code",
   "execution_count": 1282,
   "metadata": {
    "ExecuteTime": {
     "end_time": "2017-08-19T17:35:35.871993Z",
     "start_time": "2017-08-19T17:35:35.866437Z"
    }
   },
   "outputs": [
    {
     "data": {
      "text/plain": [
       "3.7696109094491801"
      ]
     },
     "execution_count": 1282,
     "metadata": {},
     "output_type": "execute_result"
    }
   ],
   "source": [
    "np.max(exps_cost)"
   ]
  },
  {
   "cell_type": "code",
   "execution_count": 1284,
   "metadata": {
    "ExecuteTime": {
     "end_time": "2017-08-19T17:36:12.031275Z",
     "start_time": "2017-08-19T17:36:12.027289Z"
    }
   },
   "outputs": [],
   "source": [
    "win = np.argmax(exps_cost)"
   ]
  },
  {
   "cell_type": "code",
   "execution_count": 1285,
   "metadata": {
    "ExecuteTime": {
     "end_time": "2017-08-19T17:36:31.017979Z",
     "start_time": "2017-08-19T17:36:31.013234Z"
    },
    "collapsed": true
   },
   "outputs": [],
   "source": [
    "param_win = list(product(min_y, inflection_x, inflection_y, y_max))[win]"
   ]
  },
  {
   "cell_type": "code",
   "execution_count": 1286,
   "metadata": {
    "ExecuteTime": {
     "end_time": "2017-08-19T17:36:32.619150Z",
     "start_time": "2017-08-19T17:36:32.613447Z"
    }
   },
   "outputs": [
    {
     "data": {
      "text/plain": [
       "(-0.40000000000000002, 0.59999999999999998, 0.22499999999999998, 0.5)"
      ]
     },
     "execution_count": 1286,
     "metadata": {},
     "output_type": "execute_result"
    }
   ],
   "source": [
    "param_win"
   ]
  },
  {
   "cell_type": "code",
   "execution_count": 1287,
   "metadata": {
    "ExecuteTime": {
     "end_time": "2017-08-19T17:36:45.823716Z",
     "start_time": "2017-08-19T17:36:45.818514Z"
    }
   },
   "outputs": [
    {
     "data": {
      "text/plain": [
       "array([ 0.4902,  0.5065,  0.2025,  0.2063])"
      ]
     },
     "execution_count": 1287,
     "metadata": {},
     "output_type": "execute_result"
    }
   ],
   "source": [
    "exps[win]"
   ]
  },
  {
   "cell_type": "code",
   "execution_count": 1301,
   "metadata": {
    "ExecuteTime": {
     "end_time": "2017-08-19T17:55:07.803182Z",
     "start_time": "2017-08-19T17:55:07.799275Z"
    },
    "collapsed": true
   },
   "outputs": [],
   "source": [
    "gamma = 0.3 \n",
    "depth = 3"
   ]
  },
  {
   "cell_type": "code",
   "execution_count": 27,
   "metadata": {
    "ExecuteTime": {
     "end_time": "2017-08-19T21:03:21.615706Z",
     "start_time": "2017-08-19T21:03:21.371087Z"
    }
   },
   "outputs": [
    {
     "data": {
      "image/png": "[encoded data removed]",
      "text/plain": [
       "<matplotlib.figure.Figure at 0x11c0539e8>"
      ]
     },
     "metadata": {},
     "output_type": "display_data"
    }
   ],
   "source": [
    "nmph = compute_nmph(-0.1, .5, .01, .05)\n",
    "x = np.linspace(0, 1, 1000)\n",
    "y = nmph(x)\n",
    "plt.plot(x, y);"
   ]
  },
  {
   "cell_type": "code",
   "execution_count": 1322,
   "metadata": {
    "ExecuteTime": {
     "end_time": "2017-08-19T18:19:19.434913Z",
     "start_time": "2017-08-19T18:19:19.380538Z"
    },
    "collapsed": true
   },
   "outputs": [],
   "source": [
    "compute_adjacency??"
   ]
  },
  {
   "cell_type": "code",
   "execution_count": 23,
   "metadata": {
    "ExecuteTime": {
     "end_time": "2017-08-19T21:02:46.264706Z",
     "start_time": "2017-08-19T21:02:46.260401Z"
    },
    "collapsed": true
   },
   "outputs": [],
   "source": [
    "depth = 5\n",
    "gamma = 0.01"
   ]
  },
  {
   "cell_type": "code",
   "execution_count": 18,
   "metadata": {
    "ExecuteTime": {
     "end_time": "2017-08-19T21:00:31.142906Z",
     "start_time": "2017-08-19T21:00:31.137510Z"
    },
    "collapsed": true
   },
   "outputs": [],
   "source": [
    "sns.set_context('paper')"
   ]
  },
  {
   "cell_type": "code",
   "execution_count": 25,
   "metadata": {
    "ExecuteTime": {
     "end_time": "2017-08-19T21:02:49.515929Z",
     "start_time": "2017-08-19T21:02:49.209599Z"
    }
   },
   "outputs": [],
   "source": [
    "winner_iter = []\n",
    "# Phase 1: Study\n",
    "W = np.zeros((6, 6))\n",
    "W[0, 1] = 0.5\n",
    "W[0, 2] = 0.5\n",
    "\n",
    "W[3, 4] = 0.5\n",
    "W[3, 5] = 0.5\n",
    "W += W.T\n",
    "\n",
    "# adjacency please\n",
    "A = compute_adjacency(W)\n",
    "n_iter = 1\n",
    "\n",
    "for i in range(n_iter):\n",
    "    # Phase 2: Retrieval Practice\n",
    "    # We want horse\n",
    "    ACT_pr = np.array([1, .25, 0, 0, 0, 0])[None, :] # we want a row vector\n",
    "    # Add noise on activation\n",
    "    ACT_pr = noisy_activation(ACT_pr, sigma_noise=sigma_noise)\n",
    "    W_ = W\n",
    "    for _ in range(1):\n",
    "        Ws, ACT = spread_activation(W_, ACT_pr, nmph, gamma, depth)\n",
    "        W_ = Ws[-1]\n",
    "\n",
    "    # Phase 3: Test\n",
    "    W_te = Ws[-1]\n",
    "    ACT_rpplus = noisy_activation(np.array([1, .1, 0, 0, 0, 0])[None, :], sigma_noise)\n",
    "    ACT_rpminus = noisy_activation(np.array([1, 0, .1, 0, 0, 0])[None, :], sigma_noise)\n",
    "    ACT_nrp1 = noisy_activation(np.array([0, 0, 0, 1, .1, 0])[None, :], sigma_noise)\n",
    "    ACT_nrp2 = noisy_activation(np.array([0, 0, 0, 1, 0, .1])[None, :], sigma_noise)\n",
    "\n",
    "    winners = []\n",
    "    for activation, which in zip([ACT_rpplus, ACT_rpminus, ACT_nrp1, ACT_nrp2], [1, 2, 4, 5]):\n",
    "        _, activation_ = spread_activation(W_te, activation, nmph, gamma, depth)\n",
    "        # do not consider the one we activated\n",
    "        which_active = np.argmax(activation)\n",
    "        last_activation = activation_[-1].copy()\n",
    "        # do not look at the category we ping'd\n",
    "        last_activation[0][which_active] = 0.\n",
    "        #prob_activation = filter_activation(last_activation, nmph)\n",
    "        # probabilistic response\n",
    "        #n_responses = 10\n",
    "        #responses = np.random.choice(range(6), n_responses, p=prob_activation)\n",
    "        #winners.append(np.sum(responses == which)/n_responses)\n",
    "        winners.append((np.argmax(nmph(last_activation)) == which).astype(int))\n",
    "        #winners.append((activation_[-1][which] > 0.5).astype(int))\n",
    "    winner_iter.append(winners)\n",
    "\n",
    "winner_iter = np.array(winner_iter)\n"
   ]
  },
  {
   "cell_type": "code",
   "execution_count": 26,
   "metadata": {
    "ExecuteTime": {
     "end_time": "2017-08-19T21:03:04.288182Z",
     "start_time": "2017-08-19T21:02:56.537762Z"
    }
   },
   "outputs": [
    {
     "data": {
      "image/png": "[encoded data removed]",
      "text/plain": [
       "<matplotlib.figure.Figure at 0x11afe02b0>"
      ]
     },
     "metadata": {},
     "output_type": "display_data"
    }
   ],
   "source": [
    "n_depth = len(Ws)\n",
    "fig, axs = plt.subplots(n_depth, 2, figsize=(20, 14))\n",
    "for W_, ACT_, ax in zip(Ws, ACT, axs):\n",
    "    sns.heatmap(W_, annot=True, vmin=0, vmax=1, ax=ax[0], square=True)\n",
    "    sns.heatmap(ACT_, annot=True, vmin=0, vmax=1, ax=ax[1])"
   ]
  },
  {
   "cell_type": "code",
   "execution_count": 11,
   "metadata": {
    "ExecuteTime": {
     "end_time": "2017-08-19T20:59:28.291414Z",
     "start_time": "2017-08-19T20:59:28.284434Z"
    }
   },
   "outputs": [
    {
     "data": {
      "text/plain": [
       "array([[ 0.0092734 ,  0.00175835,  0.01073979,  0.        ,  0.89096971,\n",
       "         0.96978452]])"
      ]
     },
     "execution_count": 11,
     "metadata": {},
     "output_type": "execute_result"
    }
   ],
   "source": [
    "last_activation"
   ]
  },
  {
   "cell_type": "code",
   "execution_count": 28,
   "metadata": {
    "ExecuteTime": {
     "end_time": "2017-08-19T20:24:41.401658Z",
     "start_time": "2017-08-19T20:24:41.321401Z"
    },
    "collapsed": true
   },
   "outputs": [],
   "source": [
    "spread_activation??"
   ]
  },
  {
   "cell_type": "code",
   "execution_count": 29,
   "metadata": {
    "ExecuteTime": {
     "end_time": "2017-08-19T20:28:52.044244Z",
     "start_time": "2017-08-19T20:28:52.023603Z"
    }
   },
   "outputs": [
    {
     "data": {
      "text/plain": [
       "array([[ 0.09850315, -0.09492156,  0.        , -0.00586625, -0.00105197,\n",
       "         0.        ]])"
      ]
     },
     "execution_count": 29,
     "metadata": {},
     "output_type": "execute_result"
    }
   ],
   "source": [
    "nmph(ACT[0])"
   ]
  },
  {
   "cell_type": "code",
   "execution_count": 22,
   "metadata": {
    "ExecuteTime": {
     "end_time": "2017-08-19T21:02:11.525990Z",
     "start_time": "2017-08-19T21:02:11.517050Z"
    }
   },
   "outputs": [
    {
     "data": {
      "text/plain": [
       "array([[ 0.        ,  1.        ,  1.        ,  0.        ,  0.        ,\n",
       "         0.        ],\n",
       "       [ 0.74474342,  0.        ,  0.        ,  0.        ,  0.        ,\n",
       "         0.        ],\n",
       "       [ 0.68753894,  0.        ,  0.        ,  0.        ,  0.        ,\n",
       "         0.        ],\n",
       "       [ 0.        ,  0.        ,  0.        ,  0.        ,  0.49401183,\n",
       "         0.49401183],\n",
       "       [ 0.        ,  0.        ,  0.        ,  0.49649615,  0.        ,\n",
       "         0.        ],\n",
       "       [ 0.        ,  0.        ,  0.        ,  0.49175979,  0.        ,\n",
       "         0.        ]])"
      ]
     },
     "execution_count": 22,
     "metadata": {},
     "output_type": "execute_result"
    }
   ],
   "source": [
    "Ws[-1]"
   ]
  },
  {
   "cell_type": "code",
   "execution_count": null,
   "metadata": {
    "collapsed": true
   },
   "outputs": [],
   "source": []
  }
 ],
 "metadata": {
  "anaconda-cloud": {},
  "kernelspec": {
   "display_name": "Python [conda env:py36]",
   "language": "python",
   "name": "conda-env-py36-py"
  },
  "language_info": {
   "codemirror_mode": {
    "name": "ipython",
    "version": 3
   },
   "file_extension": ".py",
   "mimetype": "text/x-python",
   "name": "python",
   "nbconvert_exporter": "python",
   "pygments_lexer": "ipython3",
   "version": "3.6.1"
  },
  "toc": {
   "colors": {
    "hover_highlight": "#DAA520",
    "navigate_num": "#000000",
    "navigate_text": "#333333",
    "running_highlight": "#FF0000",
    "selected_highlight": "#FFD700",
    "sidebar_border": "#EEEEEE",
    "wrapper_background": "#FFFFFF"
   },
   "moveMenuLeft": true,
   "nav_menu": {
    "height": "12px",
    "width": "252px"
   },
   "navigate_menu": true,
   "number_sections": true,
   "sideBar": true,
   "threshold": 4,
   "toc_cell": false,
   "toc_section_display": "block",
   "toc_window_display": false,
   "widenNotebook": false
  }
 },
 "nbformat": 4,
 "nbformat_minor": 2
}
