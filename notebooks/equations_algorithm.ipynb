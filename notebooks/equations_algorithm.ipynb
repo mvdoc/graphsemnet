{
 "cells": [
  {
   "cell_type": "code",
   "execution_count": 1,
   "metadata": {
    "ExecuteTime": {
     "end_time": "2017-08-19T21:58:27.102089Z",
     "start_time": "2017-08-19T21:58:24.778788Z"
    },
    "collapsed": true
   },
   "outputs": [],
   "source": [
    "import sys\n",
    "sys.path.insert(1, '../')\n",
    "from graphsemnet.gsn import compute_nmph, spread_activation, rect, compute_adjacency\n",
    "from scipy.special import expit\n",
    "import numpy as np\n",
    "%matplotlib inline\n",
    "import seaborn as sns\n",
    "import matplotlib.pyplot as plt"
   ]
  },
  {
   "cell_type": "code",
   "execution_count": 24,
   "metadata": {
    "ExecuteTime": {
     "end_time": "2017-08-19T22:05:29.192359Z",
     "start_time": "2017-08-19T22:05:29.189038Z"
    },
    "collapsed": true
   },
   "outputs": [],
   "source": [
    "import pandas as pd"
   ]
  },
  {
   "cell_type": "code",
   "execution_count": 2,
   "metadata": {
    "ExecuteTime": {
     "end_time": "2017-08-19T21:58:27.161376Z",
     "start_time": "2017-08-19T21:58:27.104653Z"
    }
   },
   "outputs": [],
   "source": [
    "sns.set_context('notebook')\n",
    "sns.set_style('whitegrid')"
   ]
  },
  {
   "cell_type": "markdown",
   "metadata": {},
   "source": [
    "NMPH function\n",
    "$$\n",
    "h(x) = \\begin{cases}\n",
    "2 x \\cdot y_{min}/x_{cp} & x \\leq x_{\\text{cp}/2}\\\\\n",
    "2 x \\cdot (y_{cp} - y_{min})/x_{cp} & x_{\\text{cp}/2} < x \\leq x_{\\text{cp}}\\\\\n",
    "x \\cdot (y_{max} - y_{cp})/(1 - x_{\\text{cp}}) & x_{\\text{cp}} < x \\leq 1\n",
    "\\end{cases}\n",
    "$$"
   ]
  },
  {
   "cell_type": "markdown",
   "metadata": {},
   "source": [
    "Let $W_0, \\text{ACT}_0$ be the initial conditions"
   ]
  },
  {
   "cell_type": "markdown",
   "metadata": {},
   "source": [
    "$$\n",
    "W_d = f\\left(W_{d-1} + \\lambda h(\\text{ACT}_{d-1}^{T}) \\circ A \\right)\n",
    "$$"
   ]
  },
  {
   "cell_type": "markdown",
   "metadata": {},
   "source": [
    "$$\n",
    "\\Delta\\text{ACT}_k =  f\\left(\\sum_{i=0}^{k-1}\\gamma^i\\text{ACT}_{i}\\cdot\\prod_{d=0}^{i}W_d\\right) \\\\\n",
    "$$"
   ]
  },
  {
   "cell_type": "markdown",
   "metadata": {},
   "source": [
    "- $\\Pi$ denotes element-wise multiplication\n",
    "- $\\cdot$ denotes dot-product\n",
    "- $\\text{ACT}_i$ is a row vector\n",
    "- $f(x)$ is an activation function, in our case a ReLU\n",
    "- $W$: matrix of (thresholded) weights\n",
    "- $\\gamma$: decay parameter\n",
    "- $\\lambda$: learning parameter\n",
    "\n",
    "- Todo: extend this with R^i to model second, and third, etc reachability"
   ]
  },
  {
   "cell_type": "code",
   "execution_count": 3,
   "metadata": {
    "ExecuteTime": {
     "end_time": "2017-08-19T21:58:27.181770Z",
     "start_time": "2017-08-19T21:58:27.163439Z"
    },
    "collapsed": true
   },
   "outputs": [],
   "source": [
    "def noisy_activation(act, sigma_noise=0.1):\n",
    "    act = np.array(act)\n",
    "    return rect(act + np.random.normal(scale=sigma_noise, size=act.shape))"
   ]
  },
  {
   "cell_type": "code",
   "execution_count": 4,
   "metadata": {
    "ExecuteTime": {
     "end_time": "2017-08-19T21:58:27.199236Z",
     "start_time": "2017-08-19T21:58:27.193003Z"
    },
    "collapsed": true
   },
   "outputs": [],
   "source": [
    "def filter_activation(activation):\n",
    "    a = rect(activation.copy())\n",
    "    #a = rect(nmph(a))\n",
    "    a /= a.sum()\n",
    "    return a.flatten()"
   ]
  },
  {
   "cell_type": "code",
   "execution_count": 5,
   "metadata": {
    "ExecuteTime": {
     "end_time": "2017-08-19T21:58:27.209524Z",
     "start_time": "2017-08-19T21:58:27.201542Z"
    },
    "collapsed": true
   },
   "outputs": [],
   "source": [
    "depth = 3\n",
    "gamma = 0.5\n",
    "alpha = .3\n",
    "n_iter = 1000\n",
    "sigma_noise = 0.1"
   ]
  },
  {
   "cell_type": "code",
   "execution_count": 6,
   "metadata": {
    "ExecuteTime": {
     "end_time": "2017-08-19T21:58:27.672540Z",
     "start_time": "2017-08-19T21:58:27.214802Z"
    }
   },
   "outputs": [
    {
     "data": {
      "image/png": "[encoded data removed]",
      "text/plain": [
       "<matplotlib.figure.Figure at 0x119c47470>"
      ]
     },
     "metadata": {},
     "output_type": "display_data"
    }
   ],
   "source": [
    "nmph = compute_nmph(-0.1, .5, .05, .1)\n",
    "x = np.linspace(0, 1, 1000)\n",
    "y = nmph(x)\n",
    "plt.plot(x, y);"
   ]
  },
  {
   "cell_type": "code",
   "execution_count": 7,
   "metadata": {
    "ExecuteTime": {
     "end_time": "2017-08-19T21:58:32.738107Z",
     "start_time": "2017-08-19T21:58:32.562435Z"
    },
    "collapsed": true
   },
   "outputs": [],
   "source": [
    "def run_experiment_subject(gamma, alpha, depth, nmph, n_iter=1000, sigma_noise=0.01):\n",
    "    winner_iter = []\n",
    "    # Phase 1: Study\n",
    "    W = np.zeros((6, 6))\n",
    "    W[0, 1] = 0.5\n",
    "    W[0, 2] = 0.5\n",
    "\n",
    "    W[3, 4] = 0.5\n",
    "    W[3, 5] = 0.5\n",
    "    W += W.T\n",
    "\n",
    "    for i in range(n_iter):\n",
    "        # Phase 2: Retrieval Practice\n",
    "        # We want horse\n",
    "        ACT_pr = np.array([1, .25, 0, 0, 0, 0])[None, :] # we want a row vector\n",
    "        # Add noise on activation\n",
    "        ACT_pr = noisy_activation(ACT_pr, sigma_noise=sigma_noise)\n",
    "        W_ = W\n",
    "        for _ in range(1):\n",
    "            Ws, ACT = spread_activation(W_, ACT_pr, nmph, gamma, alpha, depth)\n",
    "            W_ = Ws[-1]\n",
    "\n",
    "        # Phase 3: Test\n",
    "        W_te = Ws[-1]\n",
    "        ACT_rpplus = noisy_activation(np.array([1, .1, 0, 0, 0, 0])[None, :], sigma_noise)\n",
    "        ACT_rpminus = noisy_activation(np.array([1, 0, .1, 0, 0, 0])[None, :], sigma_noise)\n",
    "        ACT_nrp1 = noisy_activation(np.array([0, 0, 0, 1, .1, 0])[None, :], sigma_noise)\n",
    "        ACT_nrp2 = noisy_activation(np.array([0, 0, 0, 1, 0, .1])[None, :], sigma_noise)\n",
    "\n",
    "        winners = []\n",
    "        for activation, which in zip([ACT_rpplus, ACT_rpminus, ACT_nrp1, ACT_nrp2], [1, 2, 4, 5]):\n",
    "            _, activation_ = spread_activation(W_te, activation, nmph, gamma, alpha, depth)\n",
    "            # do not consider the one we activated\n",
    "            which_active = np.argmax(activation)\n",
    "            last_activation = activation_[-1]\n",
    "            # do not look at the category we ping'd\n",
    "            last_activation[0][which_active] = 0.\n",
    "            #prob_activation = filter_activation(last_activation, nmph)\n",
    "            # probabilistic response\n",
    "            #n_responses = 10\n",
    "            #responses = np.random.choice(range(6), n_responses, p=prob_activation)\n",
    "            #winners.append(np.sum(responses == which)/n_responses)\n",
    "            winners.append((np.argmax(last_activation) == which).astype(int))\n",
    "            #winners.append((activation_[-1][which] > 0.5).astype(int))\n",
    "        winner_iter.append(winners)\n",
    "\n",
    "    winner_iter = np.array(winner_iter)\n",
    "\n",
    "    #rpplus = np.sum(winner_iter[:, 0] == 1)/n_iter\n",
    "    #rpminus = np.sum(winner_iter[:, 1] == 2)/n_iter\n",
    "    #nrp = (np.sum(winner_iter[:, 2] == 4)/n_iter + np.sum(winner_iter[:, 3] == 5)/n_iter)/2.\n",
    "    return winner_iter"
   ]
  },
  {
   "cell_type": "code",
   "execution_count": 43,
   "metadata": {
    "ExecuteTime": {
     "end_time": "2017-08-19T22:12:23.957828Z",
     "start_time": "2017-08-19T22:12:23.954626Z"
    },
    "collapsed": true
   },
   "outputs": [],
   "source": [
    "# this works alpha = 0.5\n",
    "# gamma = 0.5"
   ]
  },
  {
   "cell_type": "code",
   "execution_count": 51,
   "metadata": {
    "ExecuteTime": {
     "end_time": "2017-08-19T22:22:03.442619Z",
     "start_time": "2017-08-19T22:22:03.430967Z"
    },
    "collapsed": true
   },
   "outputs": [],
   "source": [
    "alpha = 0.5\n",
    "gamma = 0.8"
   ]
  },
  {
   "cell_type": "code",
   "execution_count": 52,
   "metadata": {
    "ExecuteTime": {
     "end_time": "2017-08-19T22:22:28.572792Z",
     "start_time": "2017-08-19T22:22:04.356395Z"
    }
   },
   "outputs": [
    {
     "name": "stdout",
     "output_type": "stream",
     "text": [
      "Subject 0\n",
      "Subject 1\n",
      "Subject 2\n",
      "Subject 3\n",
      "Subject 4\n",
      "Subject 5\n",
      "Subject 6\n",
      "Subject 7\n",
      "Subject 8\n",
      "Subject 9\n",
      "Subject 10\n",
      "Subject 11\n",
      "Subject 12\n",
      "Subject 13\n",
      "Subject 14\n",
      "Subject 15\n",
      "Subject 16\n",
      "Subject 17\n",
      "Subject 18\n",
      "Subject 19\n"
     ]
    }
   ],
   "source": [
    "np.random.seed(432)\n",
    "sigma_s = 0.2\n",
    "exp_subj = []\n",
    "n_subj = 20\n",
    "n_iter = 1000\n",
    "sigma_subj = []\n",
    "\n",
    "for i in range(n_subj):\n",
    "    print(\"Subject {0}\".format(i))\n",
    "    # sample noise\n",
    "    sigma_noise = np.random.normal(scale=sigma_s)\n",
    "    exp = run_experiment_subject(gamma, alpha, depth, nmph, n_iter=n_iter, sigma_noise=sigma_s)\n",
    "    exp_subj.append(np.sum(exp, axis=0)/n_iter)\n",
    "    sigma_subj.append(sigma_noise)"
   ]
  },
  {
   "cell_type": "code",
   "execution_count": 53,
   "metadata": {
    "ExecuteTime": {
     "end_time": "2017-08-19T22:22:37.384811Z",
     "start_time": "2017-08-19T22:22:37.369069Z"
    }
   },
   "outputs": [],
   "source": [
    "data = np.vstack(exp_subj)\n",
    "data = np.hstack((data[:, :2], np.mean(data[:, 2:], axis=1)[:, None]))\n",
    "df = pd.DataFrame(data, columns=['Rp+', 'Rp-', 'NRp'])\n",
    "df_ = pd.melt(df)"
   ]
  },
  {
   "cell_type": "code",
   "execution_count": 54,
   "metadata": {
    "ExecuteTime": {
     "end_time": "2017-08-19T22:22:38.583126Z",
     "start_time": "2017-08-19T22:22:38.208303Z"
    }
   },
   "outputs": [
    {
     "data": {
      "image/png": "[encoded data removed]",
      "text/plain": [
       "<matplotlib.figure.Figure at 0x11daedb70>"
      ]
     },
     "metadata": {},
     "output_type": "display_data"
    }
   ],
   "source": [
    "ax = sns.violinplot(x='variable', y='value', data=df_, inner='point')\n",
    "ax.set_ylabel(\"Accuracy\")\n",
    "ax.set_xlabel(\"\")\n",
    "#ax.set_ylim(0, 1)\n",
    "sns.despine()"
   ]
  },
  {
   "cell_type": "code",
   "execution_count": 18,
   "metadata": {
    "ExecuteTime": {
     "end_time": "2017-08-19T22:03:06.667303Z",
     "start_time": "2017-08-19T22:03:06.650507Z"
    }
   },
   "outputs": [
    {
     "data": {
      "text/plain": [
       "[array([ 0.349,  0.253,  0.329,  0.256]),\n",
       " array([ 0.329,  0.266,  0.335,  0.258]),\n",
       " array([ 0.35 ,  0.283,  0.33 ,  0.263]),\n",
       " array([ 0.358,  0.305,  0.326,  0.246]),\n",
       " array([ 0.382,  0.274,  0.329,  0.276]),\n",
       " array([ 0.363,  0.278,  0.32 ,  0.222]),\n",
       " array([ 0.355,  0.265,  0.31 ,  0.255]),\n",
       " array([ 0.353,  0.284,  0.359,  0.246]),\n",
       " array([ 0.386,  0.295,  0.301,  0.269]),\n",
       " array([ 0.354,  0.281,  0.305,  0.276]),\n",
       " array([ 0.346,  0.262,  0.324,  0.258]),\n",
       " array([ 0.338,  0.27 ,  0.322,  0.269]),\n",
       " array([ 0.363,  0.278,  0.332,  0.256]),\n",
       " array([ 0.342,  0.301,  0.334,  0.273]),\n",
       " array([ 0.355,  0.295,  0.288,  0.246]),\n",
       " array([ 0.361,  0.256,  0.34 ,  0.228]),\n",
       " array([ 0.324,  0.267,  0.331,  0.267]),\n",
       " array([ 0.378,  0.293,  0.331,  0.262]),\n",
       " array([ 0.375,  0.266,  0.329,  0.288]),\n",
       " array([ 0.324,  0.245,  0.302,  0.256])]"
      ]
     },
     "execution_count": 18,
     "metadata": {},
     "output_type": "execute_result"
    }
   ],
   "source": [
    "exp_subj"
   ]
  },
  {
   "cell_type": "code",
   "execution_count": 9,
   "metadata": {
    "ExecuteTime": {
     "end_time": "2017-08-19T21:58:37.804952Z",
     "start_time": "2017-08-19T21:58:37.798226Z"
    }
   },
   "outputs": [],
   "source": [
    "res = np.sum(exp, axis=0)/1000\n",
    "rp_plus = res[0]\n",
    "rp_minus = res[1]\n",
    "nrp = np.mean(res[2:])"
   ]
  },
  {
   "cell_type": "code",
   "execution_count": 10,
   "metadata": {
    "ExecuteTime": {
     "end_time": "2017-08-19T21:58:38.625201Z",
     "start_time": "2017-08-19T21:58:38.398993Z"
    }
   },
   "outputs": [
    {
     "data": {
      "text/plain": [
       "<Container object of 3 artists>"
      ]
     },
     "execution_count": 10,
     "metadata": {},
     "output_type": "execute_result"
    },
    {
     "data": {
      "image/png": "[encoded data removed]",
      "text/plain": [
       "<matplotlib.figure.Figure at 0x11cffa358>"
      ]
     },
     "metadata": {},
     "output_type": "display_data"
    }
   ],
   "source": [
    "fig, ax = plt.subplots(1, 1)\n",
    "ax.bar([0, 1, 2], [rp_plus, rp_minus, nrp], tick_label=['RP+', 'RP-', 'NRp'])\n",
    "#ax.set_ylim([.49, .51]);"
   ]
  },
  {
   "cell_type": "code",
   "execution_count": 22,
   "metadata": {
    "ExecuteTime": {
     "end_time": "2017-08-19T18:31:18.931430Z",
     "start_time": "2017-08-19T18:31:18.927154Z"
    },
    "collapsed": true
   },
   "outputs": [],
   "source": [
    "gammas = np.linspace(0.1, 1, 10)\n",
    "depths = np.arange(1, 4)"
   ]
  },
  {
   "cell_type": "code",
   "execution_count": 1235,
   "metadata": {
    "ExecuteTime": {
     "end_time": "2017-08-19T17:04:55.323194Z",
     "start_time": "2017-08-19T17:04:55.320183Z"
    },
    "collapsed": true
   },
   "outputs": [],
   "source": [
    "from itertools import product, islice"
   ]
  },
  {
   "cell_type": "code",
   "execution_count": 1237,
   "metadata": {
    "ExecuteTime": {
     "end_time": "2017-08-19T17:06:43.468569Z",
     "start_time": "2017-08-19T17:05:55.275846Z"
    }
   },
   "outputs": [
    {
     "name": "stdout",
     "output_type": "stream",
     "text": [
      "0\n",
      "10\n",
      "20\n"
     ]
    }
   ],
   "source": [
    "exps = []\n",
    "for i, (gamma, d) in enumerate(product(gammas, depths)):\n",
    "    if i % 10 == 0:\n",
    "        print(i), \n",
    "    exps.append(np.mean(run_experiment(gamma, d, nmph), axis=0))"
   ]
  },
  {
   "cell_type": "code",
   "execution_count": 1280,
   "metadata": {
    "ExecuteTime": {
     "end_time": "2017-08-19T17:35:25.316179Z",
     "start_time": "2017-08-19T17:35:25.309505Z"
    },
    "collapsed": true
   },
   "outputs": [],
   "source": [
    "def cost_function(exp):\n",
    "    rp_plus = exp[0]\n",
    "    rp_minus = exp[1]\n",
    "    nrp = np.mean(exp[2:])\n",
    "    cost = (rp_plus/rp_minus) + (nrp/rp_minus) + (rp_plus/nrp)\n",
    "    return 0 if cost == np.inf else cost"
   ]
  },
  {
   "cell_type": "code",
   "execution_count": 1250,
   "metadata": {
    "ExecuteTime": {
     "end_time": "2017-08-19T17:13:02.722889Z",
     "start_time": "2017-08-19T17:13:02.717090Z"
    }
   },
   "outputs": [],
   "source": [
    "cost = list(map(lambda x: cost_function(x), exps))"
   ]
  },
  {
   "cell_type": "code",
   "execution_count": 1254,
   "metadata": {
    "ExecuteTime": {
     "end_time": "2017-08-19T17:13:50.386049Z",
     "start_time": "2017-08-19T17:13:50.382397Z"
    }
   },
   "outputs": [],
   "source": [
    "idx_win = np.argmax(cost)"
   ]
  },
  {
   "cell_type": "code",
   "execution_count": 1255,
   "metadata": {
    "ExecuteTime": {
     "end_time": "2017-08-19T17:14:07.346209Z",
     "start_time": "2017-08-19T17:14:07.341724Z"
    }
   },
   "outputs": [
    {
     "data": {
      "text/plain": [
       "3.0275434424394021"
      ]
     },
     "execution_count": 1255,
     "metadata": {},
     "output_type": "execute_result"
    }
   ],
   "source": [
    "cost[idx_win]"
   ]
  },
  {
   "cell_type": "code",
   "execution_count": 1256,
   "metadata": {
    "ExecuteTime": {
     "end_time": "2017-08-19T17:14:44.904870Z",
     "start_time": "2017-08-19T17:14:44.899528Z"
    }
   },
   "outputs": [
    {
     "data": {
      "text/plain": [
       "(0.30000000000000004, 2)"
      ]
     },
     "execution_count": 1256,
     "metadata": {},
     "output_type": "execute_result"
    }
   ],
   "source": [
    "list(product(gammas, depths))[idx_win]"
   ]
  },
  {
   "cell_type": "code",
   "execution_count": 1258,
   "metadata": {
    "ExecuteTime": {
     "end_time": "2017-08-19T17:18:42.783480Z",
     "start_time": "2017-08-19T17:18:42.776486Z"
    }
   },
   "outputs": [],
   "source": [
    "rp_plus = exps[idx_win][0]\n",
    "rp_minus = exps[idx_win][1]\n",
    "nrp = np.mean(exps[2:])"
   ]
  },
  {
   "cell_type": "code",
   "execution_count": 1262,
   "metadata": {
    "ExecuteTime": {
     "end_time": "2017-08-19T17:19:18.679211Z",
     "start_time": "2017-08-19T17:19:18.673374Z"
    },
    "scrolled": true
   },
   "outputs": [
    {
     "name": "stdout",
     "output_type": "stream",
     "text": [
      "0.3 2\n"
     ]
    }
   ],
   "source": [
    "# So these are the parameters we want to keep for gamma and d\n",
    "gamma, d = list(product(gammas, depths))[idx_win]\n",
    "print(gamma, d)"
   ]
  },
  {
   "cell_type": "code",
   "execution_count": 1263,
   "metadata": {
    "ExecuteTime": {
     "end_time": "2017-08-19T17:19:23.306973Z",
     "start_time": "2017-08-19T17:19:23.294642Z"
    },
    "collapsed": true
   },
   "outputs": [],
   "source": [
    "from joblib.parallel import Parallel, delayed"
   ]
  },
  {
   "cell_type": "code",
   "execution_count": 1266,
   "metadata": {
    "ExecuteTime": {
     "end_time": "2017-08-19T17:21:02.344121Z",
     "start_time": "2017-08-19T17:21:02.336798Z"
    }
   },
   "outputs": [],
   "source": [
    "def compute_onefold(gamma, depth, args_):\n",
    "    exps = []\n",
    "    for arg in args_:\n",
    "        nmph = compute_nmph(*arg)\n",
    "        exp = run_experiment(gamma, depth, nmph)\n",
    "        exps.append(exp.mean(axis=0))\n",
    "    return exps"
   ]
  },
  {
   "cell_type": "code",
   "execution_count": 1267,
   "metadata": {
    "ExecuteTime": {
     "end_time": "2017-08-19T17:31:15.972381Z",
     "start_time": "2017-08-19T17:21:11.792624Z"
    }
   },
   "outputs": [
    {
     "name": "stderr",
     "output_type": "stream",
     "text": [
      "/Users/contematto/anaconda2/envs/py36/lib/python3.6/site-packages/ipykernel/__main__.py:4: RuntimeWarning: invalid value encountered in true_divide\n",
      "/Users/contematto/anaconda2/envs/py36/lib/python3.6/site-packages/ipykernel/__main__.py:4: RuntimeWarning: invalid value encountered in true_divide\n",
      "/Users/contematto/anaconda2/envs/py36/lib/python3.6/site-packages/ipykernel/__main__.py:44: RuntimeWarning: invalid value encountered in less\n",
      "/Users/contematto/anaconda2/envs/py36/lib/python3.6/site-packages/ipykernel/__main__.py:44: RuntimeWarning: invalid value encountered in less\n",
      "/Users/contematto/anaconda2/envs/py36/lib/python3.6/site-packages/ipykernel/__main__.py:4: RuntimeWarning: invalid value encountered in true_divide\n",
      "/Users/contematto/anaconda2/envs/py36/lib/python3.6/site-packages/ipykernel/__main__.py:44: RuntimeWarning: invalid value encountered in less\n",
      "/Users/contematto/anaconda2/envs/py36/lib/python3.6/site-packages/ipykernel/__main__.py:4: RuntimeWarning: invalid value encountered in true_divide\n",
      "/Users/contematto/anaconda2/envs/py36/lib/python3.6/site-packages/ipykernel/__main__.py:44: RuntimeWarning: invalid value encountered in less\n"
     ]
    }
   ],
   "source": [
    "# Now we can try to find a good nmph\n",
    "# this is what we used before: nmph = compute_nmph(-0.1, .5, .1, .4)\n",
    "n_steps = 5\n",
    "min_y = np.linspace(-0.4, 0, n_steps)\n",
    "inflection_x = np.linspace(0.3, 0.6, n_steps)\n",
    "inflection_y = np.linspace(0, 0.3, n_steps)\n",
    "y_max = np.linspace(0.5, 0.8, n_steps)\n",
    "\n",
    "# get all the values\n",
    "vals = product(min_y, inflection_x, inflection_y, y_max)\n",
    "\n",
    "n_jobs = 4\n",
    "step = -(-n_steps**4 // n_jobs)\n",
    "\n",
    "exps = Parallel(n_jobs=n_jobs)(delayed(compute_onefold)\n",
    "                          (0.1, 2, islice(vals, step)) for _ in range(n_jobs))\n",
    "# for i, (gamma, d) in enumerate(product(gammas, depths)):\n",
    "#     if i % 10 == 0:\n",
    "#         print(i), \n",
    "#     exps.append(run_experiment(gamma, d))"
   ]
  },
  {
   "cell_type": "code",
   "execution_count": 1272,
   "metadata": {
    "ExecuteTime": {
     "end_time": "2017-08-19T17:32:51.995729Z",
     "start_time": "2017-08-19T17:32:51.990884Z"
    }
   },
   "outputs": [],
   "source": [
    "exps = np.vstack(exps)"
   ]
  },
  {
   "cell_type": "code",
   "execution_count": 1281,
   "metadata": {
    "ExecuteTime": {
     "end_time": "2017-08-19T17:35:28.529543Z",
     "start_time": "2017-08-19T17:35:28.518418Z"
    }
   },
   "outputs": [
    {
     "name": "stderr",
     "output_type": "stream",
     "text": [
      "/Users/contematto/anaconda2/envs/py36/lib/python3.6/site-packages/ipykernel/__main__.py:5: RuntimeWarning: divide by zero encountered in double_scalars\n"
     ]
    }
   ],
   "source": [
    "exps_cost = np.array(list(map(lambda x: cost_function(x), exps)))"
   ]
  },
  {
   "cell_type": "code",
   "execution_count": 1282,
   "metadata": {
    "ExecuteTime": {
     "end_time": "2017-08-19T17:35:35.871993Z",
     "start_time": "2017-08-19T17:35:35.866437Z"
    }
   },
   "outputs": [
    {
     "data": {
      "text/plain": [
       "3.7696109094491801"
      ]
     },
     "execution_count": 1282,
     "metadata": {},
     "output_type": "execute_result"
    }
   ],
   "source": [
    "np.max(exps_cost)"
   ]
  },
  {
   "cell_type": "code",
   "execution_count": 1284,
   "metadata": {
    "ExecuteTime": {
     "end_time": "2017-08-19T17:36:12.031275Z",
     "start_time": "2017-08-19T17:36:12.027289Z"
    }
   },
   "outputs": [],
   "source": [
    "win = np.argmax(exps_cost)"
   ]
  },
  {
   "cell_type": "code",
   "execution_count": 1285,
   "metadata": {
    "ExecuteTime": {
     "end_time": "2017-08-19T17:36:31.017979Z",
     "start_time": "2017-08-19T17:36:31.013234Z"
    },
    "collapsed": true
   },
   "outputs": [],
   "source": [
    "param_win = list(product(min_y, inflection_x, inflection_y, y_max))[win]"
   ]
  },
  {
   "cell_type": "code",
   "execution_count": 1286,
   "metadata": {
    "ExecuteTime": {
     "end_time": "2017-08-19T17:36:32.619150Z",
     "start_time": "2017-08-19T17:36:32.613447Z"
    }
   },
   "outputs": [
    {
     "data": {
      "text/plain": [
       "(-0.40000000000000002, 0.59999999999999998, 0.22499999999999998, 0.5)"
      ]
     },
     "execution_count": 1286,
     "metadata": {},
     "output_type": "execute_result"
    }
   ],
   "source": [
    "param_win"
   ]
  },
  {
   "cell_type": "code",
   "execution_count": 1287,
   "metadata": {
    "ExecuteTime": {
     "end_time": "2017-08-19T17:36:45.823716Z",
     "start_time": "2017-08-19T17:36:45.818514Z"
    }
   },
   "outputs": [
    {
     "data": {
      "text/plain": [
       "array([ 0.4902,  0.5065,  0.2025,  0.2063])"
      ]
     },
     "execution_count": 1287,
     "metadata": {},
     "output_type": "execute_result"
    }
   ],
   "source": [
    "exps[win]"
   ]
  },
  {
   "cell_type": "code",
   "execution_count": 19,
   "metadata": {
    "ExecuteTime": {
     "end_time": "2017-08-19T21:26:05.657684Z",
     "start_time": "2017-08-19T21:26:05.414598Z"
    }
   },
   "outputs": [
    {
     "data": {
      "image/png": "[encoded data removed]",
      "text/plain": [
       "<matplotlib.figure.Figure at 0x114a21630>"
      ]
     },
     "metadata": {},
     "output_type": "display_data"
    }
   ],
   "source": [
    "nmph = compute_nmph(-0.1, .5, .05, .1)\n",
    "x = np.linspace(0, 1, 1000)\n",
    "y = nmph(x)\n",
    "plt.plot(x, y);"
   ]
  },
  {
   "cell_type": "code",
   "execution_count": 20,
   "metadata": {
    "ExecuteTime": {
     "end_time": "2017-08-19T21:26:07.312175Z",
     "start_time": "2017-08-19T21:26:07.307986Z"
    },
    "collapsed": true
   },
   "outputs": [],
   "source": [
    "sns.set_context('paper')"
   ]
  },
  {
   "cell_type": "code",
   "execution_count": 84,
   "metadata": {
    "ExecuteTime": {
     "end_time": "2017-08-19T21:41:48.394667Z",
     "start_time": "2017-08-19T21:41:48.390164Z"
    },
    "collapsed": true
   },
   "outputs": [],
   "source": [
    "depth = 3\n",
    "gamma = 0.5\n",
    "alpha = .3\n",
    "sigma_noise = 0.1"
   ]
  },
  {
   "cell_type": "code",
   "execution_count": 87,
   "metadata": {
    "ExecuteTime": {
     "end_time": "2017-08-19T21:43:03.210449Z",
     "start_time": "2017-08-19T21:43:03.049579Z"
    },
    "scrolled": true
   },
   "outputs": [
    {
     "name": "stdout",
     "output_type": "stream",
     "text": [
      "Loop 1: len(Ws): 2\tlen(ACT): 2\n",
      "Loop 2: len(Ws): 3\tlen(ACT): 3\n",
      "Loop 1: len(Ws): 2\tlen(ACT): 2\n",
      "Loop 2: len(Ws): 3\tlen(ACT): 3\n",
      "Loop 1: len(Ws): 2\tlen(ACT): 2\n",
      "Loop 2: len(Ws): 3\tlen(ACT): 3\n",
      "Loop 1: len(Ws): 2\tlen(ACT): 2\n",
      "Loop 2: len(Ws): 3\tlen(ACT): 3\n",
      "Loop 1: len(Ws): 2\tlen(ACT): 2\n",
      "Loop 2: len(Ws): 3\tlen(ACT): 3\n"
     ]
    }
   ],
   "source": [
    "winner_iter = []\n",
    "# Phase 1: Study\n",
    "W = np.zeros((6, 6))\n",
    "W[0, 1] = 0.5\n",
    "W[0, 2] = 0.5\n",
    "\n",
    "W[3, 4] = 0.5\n",
    "W[3, 5] = 0.5\n",
    "W += W.T\n",
    "\n",
    "\n",
    "n_iter = 1\n",
    "\n",
    "for i in range(n_iter):\n",
    "    # Phase 2: Retrieval Practice\n",
    "    # We want horse\n",
    "    ACT_pr = np.array([1, .25, 0, 0, 0, 0])[None, :] # we want a row vector\n",
    "    # Add noise on activation\n",
    "    ACT_pr = noisy_activation(ACT_pr, sigma_noise=sigma_noise)\n",
    "    W_ = W\n",
    "    for _ in range(1):\n",
    "        Ws, ACT = spread_activation(W_, ACT_pr, nmph, gamma, alpha, depth)\n",
    "        W_ = Ws[-1]\n",
    "\n",
    "    # Phase 3: Test\n",
    "    W_te = Ws[-1]\n",
    "    ACT_rpplus = noisy_activation(np.array([1, .1, 0, 0, 0, 0])[None, :], sigma_noise)\n",
    "    ACT_rpminus = noisy_activation(np.array([1, 0, .1, 0, 0, 0])[None, :], sigma_noise)\n",
    "    ACT_nrp1 = noisy_activation(np.array([0, 0, 0, 1, .1, 0])[None, :], sigma_noise)\n",
    "    ACT_nrp2 = noisy_activation(np.array([0, 0, 0, 1, 0, .1])[None, :], sigma_noise)\n",
    "\n",
    "    winners = []\n",
    "    for activation, which in zip([ACT_rpplus, ACT_rpminus, ACT_nrp1, ACT_nrp2], [1, 2, 4, 5]):\n",
    "        _, activation_ = spread_activation(W_te, activation, nmph, gamma, alpha, depth)\n",
    "        # do not consider the one we activated\n",
    "        which_active = np.argmax(activation)\n",
    "        last_activation = activation_[-1].copy()\n",
    "        # do not look at the category we ping'd\n",
    "        last_activation[0][which_active] = 0.\n",
    "        #prob_activation = filter_activation(last_activation)\n",
    "        # probabilistic response\n",
    "        #print(\"{0}: Using probs {1}\".format(which, np.round(prob_activation, 2)))\n",
    "        #n_responses = 10\n",
    "        #responses = np.random.choice(range(len(prob_activation)), n_responses, p=prob_activation)\n",
    "        #winners.append(np.sum(responses == which)/n_responses)\n",
    "        winners.append((np.argmax(last_activation) == which).astype(int))\n",
    "        #winners.append((activation_[-1][which] > 0.5).astype(int))\n",
    "    winner_iter.append(winners)\n",
    "\n",
    "winner_iter = np.array(winner_iter)\n"
   ]
  },
  {
   "cell_type": "code",
   "execution_count": 53,
   "metadata": {
    "ExecuteTime": {
     "end_time": "2017-08-19T21:33:15.936996Z",
     "start_time": "2017-08-19T21:33:15.927829Z"
    }
   },
   "outputs": [],
   "source": [
    "def plot_activation(Ws, ACT, figsize=(20, 14)):\n",
    "    n_depth = len(Ws)\n",
    "    fig, axs = plt.subplots(n_depth, 2, figsize=figsize)\n",
    "    for W_, ACT_, ax in zip(Ws, ACT, axs):\n",
    "        sns.heatmap(W_, annot=True, vmin=0, vmax=1, ax=ax[0], square=True)\n",
    "        sns.heatmap(ACT_, annot=True, vmin=0, vmax=1, ax=ax[1])\n",
    "    return fig"
   ]
  },
  {
   "cell_type": "code",
   "execution_count": 54,
   "metadata": {
    "ExecuteTime": {
     "end_time": "2017-08-19T21:33:19.765418Z",
     "start_time": "2017-08-19T21:33:16.396846Z"
    }
   },
   "outputs": [
    {
     "data": {
      "image/png": "[encoded data removed]",
      "text/plain": [
       "<matplotlib.figure.Figure at 0x118619ef0>"
      ]
     },
     "metadata": {},
     "output_type": "display_data"
    }
   ],
   "source": [
    "plot_activation(Ws, ACT);"
   ]
  },
  {
   "cell_type": "code",
   "execution_count": 57,
   "metadata": {
    "ExecuteTime": {
     "end_time": "2017-08-19T21:33:31.626107Z",
     "start_time": "2017-08-19T21:33:28.523992Z"
    }
   },
   "outputs": [
    {
     "data": {
      "image/png": "[encoded data removed]",
      "text/plain": [
       "<matplotlib.figure.Figure at 0x1186b2fd0>"
      ]
     },
     "metadata": {},
     "output_type": "display_data"
    }
   ],
   "source": [
    "plot_activation(Ws_, activation_);"
   ]
  },
  {
   "cell_type": "code",
   "execution_count": 43,
   "metadata": {
    "ExecuteTime": {
     "end_time": "2017-08-19T21:32:17.803497Z",
     "start_time": "2017-08-19T21:32:17.795542Z"
    },
    "collapsed": true
   },
   "outputs": [],
   "source": [
    "which_active = np.argmax(ACT_rpplus)\n",
    "last_activation = activation_[-1].copy()\n",
    "# do not look at the category we ping'd\n",
    "last_activation[0][which_active] = 0.\n",
    "#prob_activation = filter_activation(last_activation, nmph)\n",
    "# probabilistic response\n",
    "#n_responses = 10\n",
    "#responses = np.random.choice(range(6), n_responses, p=prob_activation)\n",
    "#winners.append(np.sum(responses == which)/n_responses)\n",
    "winners.append((np.argmax(nmph(last_activation)) == which).astype(int))"
   ]
  },
  {
   "cell_type": "code",
   "execution_count": 44,
   "metadata": {
    "ExecuteTime": {
     "end_time": "2017-08-19T21:32:18.570451Z",
     "start_time": "2017-08-19T21:32:18.565907Z"
    }
   },
   "outputs": [
    {
     "data": {
      "text/plain": [
       "0"
      ]
     },
     "execution_count": 44,
     "metadata": {},
     "output_type": "execute_result"
    }
   ],
   "source": [
    "which_active"
   ]
  },
  {
   "cell_type": "code",
   "execution_count": 31,
   "metadata": {
    "ExecuteTime": {
     "end_time": "2017-08-19T21:28:23.607517Z",
     "start_time": "2017-08-19T21:28:23.600386Z"
    }
   },
   "outputs": [
    {
     "data": {
      "text/plain": [
       "[array([[ 0.97933679,  0.08289122,  0.        ,  0.        ,  0.        ,\n",
       "          0.00232719]]),\n",
       " array([[  9.83730880e-01,   1.97291502e-01,   1.14400278e-01,\n",
       "           1.69191977e-04,   0.00000000e+00,   2.32719007e-03]]),\n",
       " array([[  9.90380367e-01,   3.35759969e-01,   2.52868745e-01,\n",
       "           3.63335533e-04,   1.89105007e-06,   2.32908112e-03]])]"
      ]
     },
     "execution_count": 31,
     "metadata": {},
     "output_type": "execute_result"
    }
   ],
   "source": [
    "n_depth = len(Ws_)\n",
    "fig, axs = plt.subplots(n_depth, 2, figsize=(20, 14))\n",
    "for W_, ACT_, ax in zip(Ws, ACT, axs):\n",
    "    sns.heatmap(W_, annot=True, vmin=0, vmax=1, ax=ax[0], square=True)\n",
    "    sns.heatmap(ACT_, annot=True, vmin=0, vmax=1, ax=ax[1])"
   ]
  },
  {
   "cell_type": "code",
   "execution_count": 25,
   "metadata": {
    "ExecuteTime": {
     "end_time": "2017-08-19T21:26:43.191490Z",
     "start_time": "2017-08-19T21:26:43.185571Z"
    }
   },
   "outputs": [
    {
     "data": {
      "text/plain": [
       "array([[0, 0, 0, 0]])"
      ]
     },
     "execution_count": 25,
     "metadata": {},
     "output_type": "execute_result"
    }
   ],
   "source": [
    "winner_iter"
   ]
  },
  {
   "cell_type": "code",
   "execution_count": 28,
   "metadata": {
    "ExecuteTime": {
     "end_time": "2017-08-19T20:24:41.401658Z",
     "start_time": "2017-08-19T20:24:41.321401Z"
    },
    "collapsed": true
   },
   "outputs": [],
   "source": [
    "spread_activation??"
   ]
  },
  {
   "cell_type": "code",
   "execution_count": 29,
   "metadata": {
    "ExecuteTime": {
     "end_time": "2017-08-19T20:28:52.044244Z",
     "start_time": "2017-08-19T20:28:52.023603Z"
    }
   },
   "outputs": [
    {
     "data": {
      "text/plain": [
       "array([[ 0.09850315, -0.09492156,  0.        , -0.00586625, -0.00105197,\n",
       "         0.        ]])"
      ]
     },
     "execution_count": 29,
     "metadata": {},
     "output_type": "execute_result"
    }
   ],
   "source": [
    "nmph(ACT[0])"
   ]
  },
  {
   "cell_type": "code",
   "execution_count": 27,
   "metadata": {
    "ExecuteTime": {
     "end_time": "2017-08-19T21:27:48.366253Z",
     "start_time": "2017-08-19T21:27:48.359767Z"
    }
   },
   "outputs": [
    {
     "data": {
      "text/plain": [
       "array([[ 0.        ,  0.6       ,  0.6       ,  0.        ,  0.        ,\n",
       "         0.        ],\n",
       "       [ 0.42872933,  0.        ,  0.        ,  0.        ,  0.        ,\n",
       "         0.        ],\n",
       "       [ 0.48024188,  0.        ,  0.        ,  0.        ,  0.        ,\n",
       "         0.        ],\n",
       "       [ 0.        ,  0.        ,  0.        ,  0.        ,  0.49892669,\n",
       "         0.49892669],\n",
       "       [ 0.        ,  0.        ,  0.        ,  0.49941534,  0.        ,\n",
       "         0.        ],\n",
       "       [ 0.        ,  0.        ,  0.        ,  0.49251406,  0.        ,\n",
       "         0.        ]])"
      ]
     },
     "execution_count": 27,
     "metadata": {},
     "output_type": "execute_result"
    }
   ],
   "source": [
    "Ws[-1]"
   ]
  },
  {
   "cell_type": "code",
   "execution_count": 42,
   "metadata": {
    "ExecuteTime": {
     "end_time": "2017-08-19T21:15:10.984574Z",
     "start_time": "2017-08-19T21:15:10.980187Z"
    },
    "collapsed": true
   },
   "outputs": [],
   "source": [
    "Ws, ACT = spread_activation(Ws[-1], ACT_pr, nmph, gamma, alpha, depth)"
   ]
  },
  {
   "cell_type": "code",
   "execution_count": 43,
   "metadata": {
    "ExecuteTime": {
     "end_time": "2017-08-19T21:15:13.778109Z",
     "start_time": "2017-08-19T21:15:13.773643Z"
    }
   },
   "outputs": [
    {
     "data": {
      "text/plain": [
       "4"
      ]
     },
     "execution_count": 43,
     "metadata": {},
     "output_type": "execute_result"
    }
   ],
   "source": [
    "len(Ws)"
   ]
  },
  {
   "cell_type": "code",
   "execution_count": 44,
   "metadata": {
    "ExecuteTime": {
     "end_time": "2017-08-19T21:15:16.173266Z",
     "start_time": "2017-08-19T21:15:16.168630Z"
    }
   },
   "outputs": [
    {
     "name": "stdout",
     "output_type": "stream",
     "text": [
      "3\n"
     ]
    }
   ],
   "source": [
    "print(depth)"
   ]
  },
  {
   "cell_type": "code",
   "execution_count": 63,
   "metadata": {
    "ExecuteTime": {
     "end_time": "2017-08-19T21:35:32.782853Z",
     "start_time": "2017-08-19T21:35:32.778873Z"
    },
    "collapsed": true
   },
   "outputs": [],
   "source": [
    "a = [1, 0.25, 0.10, 0]\n",
    "b = [0, 0.25, 0.10, 0]"
   ]
  }
 ],
 "metadata": {
  "anaconda-cloud": {},
  "kernelspec": {
   "display_name": "Python [conda env:py36]",
   "language": "python",
   "name": "conda-env-py36-py"
  },
  "language_info": {
   "codemirror_mode": {
    "name": "ipython",
    "version": 3
   },
   "file_extension": ".py",
   "mimetype": "text/x-python",
   "name": "python",
   "nbconvert_exporter": "python",
   "pygments_lexer": "ipython3",
   "version": "3.6.1"
  },
  "toc": {
   "colors": {
    "hover_highlight": "#DAA520",
    "navigate_num": "#000000",
    "navigate_text": "#333333",
    "running_highlight": "#FF0000",
    "selected_highlight": "#FFD700",
    "sidebar_border": "#EEEEEE",
    "wrapper_background": "#FFFFFF"
   },
   "moveMenuLeft": true,
   "nav_menu": {
    "height": "12px",
    "width": "252px"
   },
   "navigate_menu": true,
   "number_sections": true,
   "sideBar": true,
   "threshold": 4,
   "toc_cell": false,
   "toc_section_display": "block",
   "toc_window_display": false,
   "widenNotebook": false
  }
 },
 "nbformat": 4,
 "nbformat_minor": 2
}
