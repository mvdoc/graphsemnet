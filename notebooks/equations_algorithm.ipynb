{
 "cells": [
  {
   "cell_type": "markdown",
   "metadata": {},
   "source": [
    "# Graphing Semantic Networks : Retrieval Induced Forgetting"
   ]
  },
  {
   "cell_type": "code",
   "execution_count": 1,
   "metadata": {
    "ExecuteTime": {
     "end_time": "2017-08-20T12:07:31.457760Z",
     "start_time": "2017-08-20T12:07:29.442258Z"
    }
   },
   "outputs": [],
   "source": [
    "import sys\n",
    "sys.path.insert(1, '../')\n",
    "from graphsemnet.gsn import compute_nmph, spread_activation, rect, compute_adjacency\n",
    "from scipy.special import expit\n",
    "import numpy as np\n",
    "%matplotlib inline\n",
    "import seaborn as sns\n",
    "import matplotlib.pyplot as plt"
   ]
  },
  {
   "cell_type": "code",
   "execution_count": 2,
   "metadata": {
    "ExecuteTime": {
     "end_time": "2017-08-20T12:07:31.480707Z",
     "start_time": "2017-08-20T12:07:31.461887Z"
    },
    "collapsed": true
   },
   "outputs": [],
   "source": [
    "import pandas as pd"
   ]
  },
  {
   "cell_type": "code",
   "execution_count": 3,
   "metadata": {
    "ExecuteTime": {
     "end_time": "2017-08-20T12:07:31.491082Z",
     "start_time": "2017-08-20T12:07:31.483770Z"
    }
   },
   "outputs": [],
   "source": [
    "sns.set_context('notebook')\n",
    "sns.set_style('whitegrid')"
   ]
  },
  {
   "cell_type": "markdown",
   "metadata": {},
   "source": [
    "NMPH function\n",
    "$$\n",
    "h\\left(x~|~y_{min}, y_{max}, x_{cp}, y_{cp}\\right) = \\begin{cases}\n",
    "2 x \\left(y_{min}/x_{cp}\\right) & x \\leq x_{\\text{cp}/2}\\\\\n",
    "2 x \\left(y_{cp} - y_{min}\\right)/x_{cp} & x_{\\text{cp}/2} < x \\leq x_{\\text{cp}}\\\\\n",
    "x \\left(y_{max} - y_{cp}\\right)/\\left(1 - x_{\\text{cp}}\\right) & x_{\\text{cp}} < x \\leq 1\n",
    "\\end{cases}\n",
    "$$"
   ]
  },
  {
   "cell_type": "markdown",
   "metadata": {},
   "source": [
    "Let $W_0, \\text{ACT}_0$ be the initial conditions"
   ]
  },
  {
   "cell_type": "markdown",
   "metadata": {},
   "source": [
    "Weight update"
   ]
  },
  {
   "cell_type": "markdown",
   "metadata": {},
   "source": [
    "$$\n",
    "W_k = f\\left(W_{k-1} + \\alpha~h\\left(\\text{ACT}_{k-1}^{T}\\right) \\circ A \\right)\n",
    "$$"
   ]
  },
  {
   "cell_type": "markdown",
   "metadata": {},
   "source": [
    "Activation update"
   ]
  },
  {
   "cell_type": "markdown",
   "metadata": {},
   "source": [
    "$$\n",
    "\\Delta\\text{ACT}_k =  \\sum_{i=0}^{k-1}\\gamma^i\\text{ACT}_{i}\\cdot\\prod_{d=0}^{i}W_d \\\\\n",
    "\\text{ACT}_k = f\\left(\\lambda^k~\\text{ACT}_{k-1} + \\Delta\\text{ACT}_k\\right)\n",
    "$$"
   ]
  },
  {
   "cell_type": "markdown",
   "metadata": {},
   "source": [
    "- $\\circ$, $\\Pi$ denote element-wise multiplication\n",
    "- $\\cdot$ denotes dot-product\n",
    "- $\\text{ACT}_i$ is a row vector\n",
    "- $f(x)$ is an activation function, in our case a ReLU\n",
    "- $W$: matrix of (thresholded) weights\n",
    "- $\\gamma$: decay parameter\n",
    "- $\\lambda$: decay parameter of previous activations\n",
    "- $\\alpha$: learning parameter\n",
    "\n",
    "- Todo: extend this with $R^i$ to model second, and third, etc reachability"
   ]
  },
  {
   "cell_type": "code",
   "execution_count": 4,
   "metadata": {
    "ExecuteTime": {
     "end_time": "2017-08-20T12:07:31.507232Z",
     "start_time": "2017-08-20T12:07:31.502450Z"
    },
    "collapsed": true
   },
   "outputs": [],
   "source": [
    "def noisy_activation(act, sigma_noise=0.1):\n",
    "    act = np.array(act)\n",
    "    return rect(act + np.random.normal(scale=sigma_noise, size=act.shape))"
   ]
  },
  {
   "cell_type": "code",
   "execution_count": 5,
   "metadata": {
    "ExecuteTime": {
     "end_time": "2017-08-20T12:07:31.516493Z",
     "start_time": "2017-08-20T12:07:31.509508Z"
    },
    "collapsed": true
   },
   "outputs": [],
   "source": [
    "def filter_activation(activation):\n",
    "    a = rect(activation.copy())\n",
    "    #a = rect(nmph(a))\n",
    "    a /= a.sum()\n",
    "    return a.flatten()"
   ]
  },
  {
   "cell_type": "code",
   "execution_count": 6,
   "metadata": {
    "ExecuteTime": {
     "end_time": "2017-08-20T12:07:31.956903Z",
     "start_time": "2017-08-20T12:07:31.518596Z"
    }
   },
   "outputs": [
    {
     "data": {
      "image/png": "[encoded data removed]",
      "text/plain": [
       "<matplotlib.figure.Figure at 0x10d74ba20>"
      ]
     },
     "metadata": {},
     "output_type": "display_data"
    }
   ],
   "source": [
    "nmph = compute_nmph(-0.1, .5, .05, .1)\n",
    "x = np.linspace(0, 1, 1000)\n",
    "y = nmph(x)\n",
    "plt.plot(x, y);"
   ]
  },
  {
   "cell_type": "code",
   "execution_count": 7,
   "metadata": {
    "ExecuteTime": {
     "end_time": "2017-08-20T12:07:32.217703Z",
     "start_time": "2017-08-20T12:07:31.959168Z"
    },
    "collapsed": true
   },
   "outputs": [],
   "source": [
    "def run_experiment_subject(gamma, alpha, depth, lambda_, nmph, n_iter=1000, sigma_noise=0.01):\n",
    "    winner_iter = []\n",
    "    # Phase 1: Study\n",
    "    W = np.zeros((6, 6))\n",
    "    W[0, 1] = 0.5\n",
    "    W[0, 2] = 0.5\n",
    "\n",
    "    W[3, 4] = 0.5\n",
    "    W[3, 5] = 0.5\n",
    "    W += W.T\n",
    "\n",
    "    for i in range(n_iter):\n",
    "        # Phase 2: Retrieval Practice\n",
    "        # We want horse\n",
    "        ACT_pr = np.array([1, .25, 0, 0, 0, 0])[None, :] # we want a row vector\n",
    "        # Add noise on activation\n",
    "        ACT_pr = noisy_activation(ACT_pr, sigma_noise=sigma_noise)\n",
    "        W_ = W\n",
    "        for _ in range(1):\n",
    "            Ws, ACT = spread_activation(W_, ACT_pr, nmph, \n",
    "                                        gamma=gamma, alpha=alpha, lambda_=lambda_, d=depth)\n",
    "            W_ = Ws[-1]\n",
    "\n",
    "        # Phase 3: Test\n",
    "        W_te = Ws[-1]\n",
    "        ACT_rpplus = noisy_activation(np.array([1, .1, 0, 0, 0, 0])[None, :], sigma_noise)\n",
    "        ACT_rpminus = noisy_activation(np.array([1, 0, .1, 0, 0, 0])[None, :], sigma_noise)\n",
    "        ACT_nrp1 = noisy_activation(np.array([0, 0, 0, 1, .1, 0])[None, :], sigma_noise)\n",
    "        ACT_nrp2 = noisy_activation(np.array([0, 0, 0, 1, 0, .1])[None, :], sigma_noise)\n",
    "\n",
    "        winners = []\n",
    "        for activation, which in zip([ACT_rpplus, ACT_rpminus, ACT_nrp1, ACT_nrp2], [1, 2, 4, 5]):\n",
    "            _, activation_ = spread_activation(W_te, activation, nmph, \n",
    "                                               gamma=gamma, alpha=alpha, lambda_=lambda_, d=depth)\n",
    "            # do not consider the one we activated\n",
    "            which_active = np.argmax(activation)\n",
    "            last_activation = activation_[-1]\n",
    "            # do not look at the category we ping'd\n",
    "            last_activation[0][which_active] = 0.\n",
    "            #prob_activation = filter_activation(last_activation, nmph)\n",
    "            # probabilistic response\n",
    "            #n_responses = 10\n",
    "            #responses = np.random.choice(range(6), n_responses, p=prob_activation)\n",
    "            #winners.append(np.sum(responses == which)/n_responses)\n",
    "            winners.append((np.argmax(last_activation) == which).astype(int))\n",
    "            #winners.append((activation_[-1][which] > 0.5).astype(int))\n",
    "        winner_iter.append(winners)\n",
    "\n",
    "    winner_iter = np.array(winner_iter)\n",
    "\n",
    "    #rpplus = np.sum(winner_iter[:, 0] == 1)/n_iter\n",
    "    #rpminus = np.sum(winner_iter[:, 1] == 2)/n_iter\n",
    "    #nrp = (np.sum(winner_iter[:, 2] == 4)/n_iter + np.sum(winner_iter[:, 3] == 5)/n_iter)/2.\n",
    "    return winner_iter"
   ]
  },
  {
   "cell_type": "code",
   "execution_count": 8,
   "metadata": {
    "ExecuteTime": {
     "end_time": "2017-08-20T12:07:32.232040Z",
     "start_time": "2017-08-20T12:07:32.223022Z"
    },
    "collapsed": true
   },
   "outputs": [],
   "source": [
    "depth = 3\n",
    "gamma = 0.8\n",
    "alpha = 0.5\n",
    "n_iter = 1000\n",
    "sigma_noise = 0.1\n",
    "lambda_ = 1"
   ]
  },
  {
   "cell_type": "code",
   "execution_count": 83,
   "metadata": {
    "ExecuteTime": {
     "end_time": "2017-08-20T12:36:05.070236Z",
     "start_time": "2017-08-20T12:36:05.047076Z"
    }
   },
   "outputs": [],
   "source": [
    "# Simulate twenty subjects\n",
    "def simulate_experiment(gamma=0.8, alpha=0.5, depth=3, lambda_=1, nmph=compute_nmph(-0.1, .5, .05, .1), n_iter=1000,\n",
    "                       sigma_s=0.2, n_subj=20, seed=432):\n",
    "    exp_subj = []\n",
    "    sigma_subj = []\n",
    "    for i in range(n_subj):\n",
    "        print(\"Subject {0}\".format(i))\n",
    "        # sample noise\n",
    "        sigma_noise = np.random.normal(scale=sigma_s)\n",
    "        exp = run_experiment_subject(gamma, alpha, depth, lambda_, nmph, n_iter=n_iter, sigma_noise=sigma_s)\n",
    "        exp_subj.append(np.sum(exp, axis=0)/n_iter)\n",
    "        sigma_subj.append(sigma_noise)\n",
    "    return exp_subj, sigma_subj"
   ]
  },
  {
   "cell_type": "code",
   "execution_count": 90,
   "metadata": {
    "ExecuteTime": {
     "end_time": "2017-08-20T12:37:28.405553Z",
     "start_time": "2017-08-20T12:37:28.401829Z"
    },
    "collapsed": true
   },
   "outputs": [],
   "source": [
    "gammas = np.arange(0, 1.1, 0.1)"
   ]
  },
  {
   "cell_type": "code",
   "execution_count": 115,
   "metadata": {
    "ExecuteTime": {
     "end_time": "2017-08-20T12:51:59.064808Z",
     "start_time": "2017-08-20T12:48:37.774493Z"
    },
    "scrolled": true
   },
   "outputs": [
    {
     "name": "stdout",
     "output_type": "stream",
     "text": [
      "## SIMULATING WITH GAMMA 0.0\n",
      "Subject 0\n",
      "Subject 1\n",
      "Subject 2\n",
      "Subject 3\n",
      "Subject 4\n",
      "Subject 5\n",
      "Subject 6\n",
      "Subject 7\n",
      "Subject 8\n",
      "Subject 9\n",
      "Subject 10\n",
      "Subject 11\n",
      "Subject 12\n",
      "Subject 13\n",
      "Subject 14\n",
      "Subject 15\n",
      "Subject 16\n",
      "Subject 17\n",
      "Subject 18\n",
      "Subject 19\n",
      "## SIMULATING WITH GAMMA 0.1\n",
      "Subject 0\n",
      "Subject 1\n",
      "Subject 2\n",
      "Subject 3\n",
      "Subject 4\n",
      "Subject 5\n",
      "Subject 6\n",
      "Subject 7\n",
      "Subject 8\n",
      "Subject 9\n",
      "Subject 10\n",
      "Subject 11\n",
      "Subject 12\n",
      "Subject 13\n",
      "Subject 14\n",
      "Subject 15\n",
      "Subject 16\n",
      "Subject 17\n",
      "Subject 18\n",
      "Subject 19\n",
      "## SIMULATING WITH GAMMA 0.2\n",
      "Subject 0\n",
      "Subject 1\n",
      "Subject 2\n",
      "Subject 3\n",
      "Subject 4\n",
      "Subject 5\n",
      "Subject 6\n",
      "Subject 7\n",
      "Subject 8\n",
      "Subject 9\n",
      "Subject 10\n",
      "Subject 11\n",
      "Subject 12\n",
      "Subject 13\n",
      "Subject 14\n",
      "Subject 15\n",
      "Subject 16\n",
      "Subject 17\n",
      "Subject 18\n",
      "Subject 19\n",
      "## SIMULATING WITH GAMMA 0.30000000000000004\n",
      "Subject 0\n",
      "Subject 1\n",
      "Subject 2\n",
      "Subject 3\n",
      "Subject 4\n",
      "Subject 5\n",
      "Subject 6\n",
      "Subject 7\n",
      "Subject 8\n",
      "Subject 9\n",
      "Subject 10\n",
      "Subject 11\n",
      "Subject 12\n",
      "Subject 13\n",
      "Subject 14\n",
      "Subject 15\n",
      "Subject 16\n",
      "Subject 17\n",
      "Subject 18\n",
      "Subject 19\n",
      "## SIMULATING WITH GAMMA 0.4\n",
      "Subject 0\n",
      "Subject 1\n",
      "Subject 2\n",
      "Subject 3\n",
      "Subject 4\n",
      "Subject 5\n",
      "Subject 6\n",
      "Subject 7\n",
      "Subject 8\n",
      "Subject 9\n",
      "Subject 10\n",
      "Subject 11\n",
      "Subject 12\n",
      "Subject 13\n",
      "Subject 14\n",
      "Subject 15\n",
      "Subject 16\n",
      "Subject 17\n",
      "Subject 18\n",
      "Subject 19\n",
      "## SIMULATING WITH GAMMA 0.5\n",
      "Subject 0\n",
      "Subject 1\n",
      "Subject 2\n",
      "Subject 3\n",
      "Subject 4\n",
      "Subject 5\n",
      "Subject 6\n",
      "Subject 7\n",
      "Subject 8\n",
      "Subject 9\n",
      "Subject 10\n",
      "Subject 11\n",
      "Subject 12\n",
      "Subject 13\n",
      "Subject 14\n",
      "Subject 15\n",
      "Subject 16\n",
      "Subject 17\n",
      "Subject 18\n",
      "Subject 19\n",
      "## SIMULATING WITH GAMMA 0.6000000000000001\n",
      "Subject 0\n",
      "Subject 1\n",
      "Subject 2\n",
      "Subject 3\n",
      "Subject 4\n",
      "Subject 5\n",
      "Subject 6\n",
      "Subject 7\n",
      "Subject 8\n",
      "Subject 9\n",
      "Subject 10\n",
      "Subject 11\n",
      "Subject 12\n",
      "Subject 13\n",
      "Subject 14\n",
      "Subject 15\n",
      "Subject 16\n",
      "Subject 17\n",
      "Subject 18\n",
      "Subject 19\n",
      "## SIMULATING WITH GAMMA 0.7000000000000001\n",
      "Subject 0\n",
      "Subject 1\n",
      "Subject 2\n",
      "Subject 3\n",
      "Subject 4\n",
      "Subject 5\n",
      "Subject 6\n",
      "Subject 7\n",
      "Subject 8\n",
      "Subject 9\n",
      "Subject 10\n",
      "Subject 11\n",
      "Subject 12\n",
      "Subject 13\n",
      "Subject 14\n",
      "Subject 15\n",
      "Subject 16\n",
      "Subject 17\n",
      "Subject 18\n",
      "Subject 19\n",
      "## SIMULATING WITH GAMMA 0.8\n",
      "Subject 0\n",
      "Subject 1\n",
      "Subject 2\n",
      "Subject 3\n",
      "Subject 4\n",
      "Subject 5\n",
      "Subject 6\n",
      "Subject 7\n",
      "Subject 8\n",
      "Subject 9\n",
      "Subject 10\n",
      "Subject 11\n",
      "Subject 12\n",
      "Subject 13\n",
      "Subject 14\n",
      "Subject 15\n",
      "Subject 16\n",
      "Subject 17\n",
      "Subject 18\n",
      "Subject 19\n",
      "## SIMULATING WITH GAMMA 0.9\n",
      "Subject 0\n",
      "Subject 1\n",
      "Subject 2\n",
      "Subject 3\n",
      "Subject 4\n",
      "Subject 5\n",
      "Subject 6\n",
      "Subject 7\n",
      "Subject 8\n",
      "Subject 9\n",
      "Subject 10\n",
      "Subject 11\n",
      "Subject 12\n",
      "Subject 13\n",
      "Subject 14\n",
      "Subject 15\n",
      "Subject 16\n",
      "Subject 17\n",
      "Subject 18\n",
      "Subject 19\n",
      "## SIMULATING WITH GAMMA 1.0\n",
      "Subject 0\n",
      "Subject 1\n",
      "Subject 2\n",
      "Subject 3\n",
      "Subject 4\n",
      "Subject 5\n",
      "Subject 6\n",
      "Subject 7\n",
      "Subject 8\n",
      "Subject 9\n",
      "Subject 10\n",
      "Subject 11\n",
      "Subject 12\n",
      "Subject 13\n",
      "Subject 14\n",
      "Subject 15\n",
      "Subject 16\n",
      "Subject 17\n",
      "Subject 18\n",
      "Subject 19\n"
     ]
    }
   ],
   "source": [
    "exp_subj_dict = dict()\n",
    "for gamma in gammas:\n",
    "    print(\"## SIMULATING WITH GAMMA {0}\".format(gamma))\n",
    "    exp_subj, sigma_subj = simulate_experiment(gamma=gamma)\n",
    "    exp_subj_dict[gamma] = exp_subj"
   ]
  },
  {
   "cell_type": "code",
   "execution_count": 116,
   "metadata": {
    "ExecuteTime": {
     "end_time": "2017-08-20T12:52:00.594200Z",
     "start_time": "2017-08-20T12:52:00.585114Z"
    },
    "collapsed": true
   },
   "outputs": [],
   "source": [
    "def make_dataframe(exp_subj):\n",
    "    data = np.vstack(exp_subj)\n",
    "    data = np.hstack((data[:, :2], np.mean(data[:, 2:], axis=1)[:, None]))\n",
    "    df = pd.DataFrame(data, columns=['Rp+', 'Rp-', 'NRp'])\n",
    "    df_ = pd.melt(df)\n",
    "    return df_"
   ]
  },
  {
   "cell_type": "code",
   "execution_count": 117,
   "metadata": {
    "ExecuteTime": {
     "end_time": "2017-08-20T12:52:01.593317Z",
     "start_time": "2017-08-20T12:52:01.574266Z"
    }
   },
   "outputs": [],
   "source": [
    "dfs = {np.round(g, 2): make_dataframe(exp_subj_dict[g]) for g in exp_subj_dict.keys()}"
   ]
  },
  {
   "cell_type": "code",
   "execution_count": 126,
   "metadata": {
    "ExecuteTime": {
     "end_time": "2017-08-20T12:55:32.092632Z",
     "start_time": "2017-08-20T12:55:32.085098Z"
    },
    "collapsed": true
   },
   "outputs": [],
   "source": [
    "def plot_violin(gamma):\n",
    "    ax = sns.violinplot(x='variable', y='value', data=dfs[gamma], inner='point')\n",
    "    ax.set_ylabel(\"Accuracy\")\n",
    "    ax.set_xlabel(\"\")\n",
    "    ax.set_ylim(0.2, 0.95)\n",
    "    sns.despine()"
   ]
  },
  {
   "cell_type": "code",
   "execution_count": 127,
   "metadata": {
    "ExecuteTime": {
     "end_time": "2017-08-20T12:55:32.820698Z",
     "start_time": "2017-08-20T12:55:32.552622Z"
    }
   },
   "outputs": [
    {
     "data": {
      "image/png": "[encoded data removed]",
      "text/plain": [
       "<matplotlib.figure.Figure at 0x111dcaf28>"
      ]
     },
     "metadata": {},
     "output_type": "display_data"
    }
   ],
   "source": [
    "gamma_slider = widgets.FloatSlider(min=gammas[0], max=gammas[-1], step=0.1, start=0)\n",
    "w = interactive(plot_violin, gamma=gamma_slider)\n",
    "display(w)"
   ]
  },
  {
   "cell_type": "code",
   "execution_count": 87,
   "metadata": {
    "ExecuteTime": {
     "end_time": "2017-08-20T12:36:59.679787Z",
     "start_time": "2017-08-20T12:36:59.462084Z"
    }
   },
   "outputs": [
    {
     "data": {
      "image/png": "[encoded data removed]",
      "text/plain": [
       "<matplotlib.figure.Figure at 0x1125740b8>"
      ]
     },
     "metadata": {},
     "output_type": "display_data"
    }
   ],
   "source": [
    "ax = sns.violinplot(x='variable', y='value', data=df, inner='point')\n",
    "ax.set_ylabel(\"Accuracy\")\n",
    "ax.set_xlabel(\"\")\n",
    "#ax.set_ylim(0, 1)\n",
    "sns.despine()"
   ]
  },
  {
   "cell_type": "markdown",
   "metadata": {},
   "source": [
    "# Visualize "
   ]
  },
  {
   "cell_type": "code",
   "execution_count": 167,
   "metadata": {
    "ExecuteTime": {
     "end_time": "2017-08-20T13:23:53.548473Z",
     "start_time": "2017-08-20T13:23:53.544610Z"
    }
   },
   "outputs": [],
   "source": [
    "import networkx as nx\n",
    "from matplotlib.colors import Normalize\n",
    "from seaborn.utils import relative_luminance"
   ]
  },
  {
   "cell_type": "code",
   "execution_count": 158,
   "metadata": {
    "ExecuteTime": {
     "end_time": "2017-08-20T13:20:06.885884Z",
     "start_time": "2017-08-20T13:20:06.880654Z"
    }
   },
   "outputs": [],
   "source": [
    "cmap = sns.cubehelix_palette(light=.95, as_cmap=True)\n",
    "norm = Normalize(vmin=0, vmax=1)"
   ]
  },
  {
   "cell_type": "code",
   "execution_count": 179,
   "metadata": {
    "ExecuteTime": {
     "end_time": "2017-08-20T13:28:55.910493Z",
     "start_time": "2017-08-20T13:28:55.873823Z"
    },
    "collapsed": true,
    "scrolled": true
   },
   "outputs": [],
   "source": [
    "def plot_network_activation(W, ACT, ax=None):\n",
    "    pos = {\n",
    "        0 : [0, .05],\n",
    "        1: [-1, 0],\n",
    "        2: [1, 0],\n",
    "        3: [3, .05],\n",
    "        4: [2, 0],\n",
    "        5: [4, 0]\n",
    "        }\n",
    "    sns.set_style(\"ticks\")\n",
    "    #G = nx.DiGraph(W)\n",
    "    G = nx.Graph(W)\n",
    "    colors = [cmap(norm(a)) for a in ACT.flatten()]\n",
    "    luminance_colors = [relative_luminance(c) for c in colors]\n",
    "    text_colors = [\".15\" if l > .408 else \"w\" for l in luminance_colors]\n",
    "    if ax is None:\n",
    "        fig, ax = plt.subplots(1, 1)\n",
    "    nx.draw_networkx(G, pos=pos, ax=ax, node_size=ACT*2000 + 300, node_color=colors)\n",
    "    # change color of the text\n",
    "    for t, c in zip(ax.texts, text_colors):\n",
    "        t.set_color(c)\n",
    "    sns.despine(left=True, bottom=True)\n",
    "    ax.set_axis_off()\n",
    "    ax.set_ylim([-.1, .1])\n",
    "    ax.set_xlim([-1.5, 5])\n",
    "    return ax"
   ]
  },
  {
   "cell_type": "code",
   "execution_count": 135,
   "metadata": {
    "ExecuteTime": {
     "end_time": "2017-08-20T13:04:24.936814Z",
     "start_time": "2017-08-20T13:04:24.926957Z"
    },
    "collapsed": true
   },
   "outputs": [],
   "source": [
    "def plot_activation_single(W, ACT, ax=None, figsize=(20, 4)):\n",
    "    if ax is None:\n",
    "        fig, ax = plt.subplots(1, 3, figsize=figsize)\n",
    "    plot_network_activation(W, ACT, ax=ax[0])\n",
    "    sns.heatmap(W, annot=True, vmin=0, vmax=1, ax=ax[2], square=True, cbar=False)\n",
    "    sns.heatmap(ACT, annot=True, vmin=0, vmax=1, ax=ax[1], cbar=False)\n",
    "    return ax"
   ]
  },
  {
   "cell_type": "code",
   "execution_count": 56,
   "metadata": {
    "ExecuteTime": {
     "end_time": "2017-08-20T12:20:18.317736Z",
     "start_time": "2017-08-20T12:20:18.309678Z"
    },
    "collapsed": true
   },
   "outputs": [],
   "source": [
    "def plot_activation(Ws, ACT, figsize=(20, 14)):\n",
    "    n_depth = len(Ws)\n",
    "    fig, axs = plt.subplots(n_depth, 2, figsize=figsize)\n",
    "    for W_, ACT_, ax in zip(Ws, ACT, axs):\n",
    "        plot_activation_single(W_, ACT_, ax=ax)\n",
    "    return fig"
   ]
  },
  {
   "cell_type": "code",
   "execution_count": 14,
   "metadata": {
    "ExecuteTime": {
     "end_time": "2017-08-20T12:08:14.149975Z",
     "start_time": "2017-08-20T12:08:14.142769Z"
    },
    "collapsed": true
   },
   "outputs": [],
   "source": [
    "W = np.zeros((6, 6))\n",
    "W[0, 1] = 0.5\n",
    "W[0, 2] = 0.5\n",
    "\n",
    "W[3, 4] = 0.5\n",
    "W[3, 5] = 0.5\n",
    "W += W.T"
   ]
  },
  {
   "cell_type": "code",
   "execution_count": 15,
   "metadata": {
    "ExecuteTime": {
     "end_time": "2017-08-20T12:08:15.334176Z",
     "start_time": "2017-08-20T12:08:15.329275Z"
    },
    "collapsed": true
   },
   "outputs": [],
   "source": [
    "\n"
   ]
  },
  {
   "cell_type": "code",
   "execution_count": 16,
   "metadata": {
    "ExecuteTime": {
     "end_time": "2017-08-20T12:08:15.961343Z",
     "start_time": "2017-08-20T12:08:15.957419Z"
    },
    "collapsed": true
   },
   "outputs": [],
   "source": [
    "A = noisy_activation([1, .25, 0, 0, 0, 0])"
   ]
  },
  {
   "cell_type": "code",
   "execution_count": 19,
   "metadata": {
    "ExecuteTime": {
     "end_time": "2017-08-20T12:08:53.478972Z",
     "start_time": "2017-08-20T12:08:53.475648Z"
    },
    "collapsed": true
   },
   "outputs": [],
   "source": [
    "sigma_noise = 0.1"
   ]
  },
  {
   "cell_type": "code",
   "execution_count": 20,
   "metadata": {
    "ExecuteTime": {
     "end_time": "2017-08-20T12:08:54.250023Z",
     "start_time": "2017-08-20T12:08:54.109486Z"
    }
   },
   "outputs": [],
   "source": [
    "winner_iter = []\n",
    "# Phase 1: Study\n",
    "W = np.zeros((6, 6))\n",
    "W[0, 1] = 0.5\n",
    "W[0, 2] = 0.5\n",
    "\n",
    "W[3, 4] = 0.5\n",
    "W[3, 5] = 0.5\n",
    "W += W.T\n",
    "\n",
    "n_iter = 1\n",
    "for i in range(n_iter):\n",
    "    # Phase 2: Retrieval Practice\n",
    "    # We want horse\n",
    "    ACT_pr = np.array([1, .25, 0, 0, 0, 0])[None, :] # we want a row vector\n",
    "    # Add noise on activation\n",
    "    ACT_pr = noisy_activation(ACT_pr, sigma_noise=sigma_noise)\n",
    "    W_ = W\n",
    "    for _ in range(1):\n",
    "        Ws, ACT = spread_activation(W_, ACT_pr, nmph, \n",
    "                                    gamma=gamma, alpha=alpha, lambda_=lambda_, d=depth)\n",
    "        W_ = Ws[-1]\n",
    "\n",
    "    # Phase 3: Test\n",
    "    W_te = Ws[-1]\n",
    "    ACT_rpplus = noisy_activation(np.array([1, .1, 0, 0, 0, 0])[None, :], sigma_noise)\n",
    "    ACT_rpminus = noisy_activation(np.array([1, 0, .1, 0, 0, 0])[None, :], sigma_noise)\n",
    "    ACT_nrp1 = noisy_activation(np.array([0, 0, 0, 1, .1, 0])[None, :], sigma_noise)\n",
    "    ACT_nrp2 = noisy_activation(np.array([0, 0, 0, 1, 0, .1])[None, :], sigma_noise)\n",
    "\n",
    "    winners = []\n",
    "    for activation, which in zip([ACT_rpplus, ACT_rpminus, ACT_nrp1, ACT_nrp2], [1, 2, 4, 5]):\n",
    "        Ws_te, activation_ = spread_activation(W_te, activation, nmph, \n",
    "                                           gamma=gamma, alpha=alpha, lambda_=lambda_, d=depth)\n",
    "        # do not consider the one we activated\n",
    "        which_active = np.argmax(activation)\n",
    "        last_activation = activation_[-1]\n",
    "        # do not look at the category we ping'd\n",
    "        last_activation[0][which_active] = 0.\n",
    "        #prob_activation = filter_activation(last_activation, nmph)\n",
    "        # probabilistic response\n",
    "        #n_responses = 10\n",
    "        #responses = np.random.choice(range(6), n_responses, p=prob_activation)\n",
    "        #winners.append(np.sum(responses == which)/n_responses)\n",
    "        winners.append((np.argmax(last_activation) == which).astype(int))\n",
    "        #winners.append((activation_[-1][which] > 0.5).astype(int))\n",
    "    winner_iter.append(winners)\n",
    "\n",
    "winner_iter = np.array(winner_iter)"
   ]
  },
  {
   "cell_type": "code",
   "execution_count": 32,
   "metadata": {
    "ExecuteTime": {
     "end_time": "2017-08-20T12:11:23.090009Z",
     "start_time": "2017-08-20T12:11:23.086290Z"
    },
    "collapsed": true
   },
   "outputs": [],
   "source": [
    "sns.set_context('notebook')"
   ]
  },
  {
   "cell_type": "code",
   "execution_count": null,
   "metadata": {
    "collapsed": true
   },
   "outputs": [],
   "source": [
    "from IPython.wi"
   ]
  },
  {
   "cell_type": "code",
   "execution_count": 131,
   "metadata": {
    "ExecuteTime": {
     "end_time": "2017-08-20T13:03:32.990506Z",
     "start_time": "2017-08-20T13:03:32.985797Z"
    },
    "collapsed": true
   },
   "outputs": [],
   "source": [
    "def plot_interactive_activation(d):\n",
    "    plot_activation_single(Ws[d], ACT[d], figsize=(14, 4));\n",
    "    plt.tight_layout()  "
   ]
  },
  {
   "cell_type": "code",
   "execution_count": 71,
   "metadata": {
    "ExecuteTime": {
     "end_time": "2017-08-20T12:25:32.601848Z",
     "start_time": "2017-08-20T12:25:32.597371Z"
    },
    "collapsed": true
   },
   "outputs": [],
   "source": [
    "from ipywidgets import interact, interactive, fixed, interact_manual, IntSlider\n",
    "import ipywidgets as widgets"
   ]
  },
  {
   "cell_type": "code",
   "execution_count": 72,
   "metadata": {
    "ExecuteTime": {
     "end_time": "2017-08-20T12:25:58.437823Z",
     "start_time": "2017-08-20T12:25:58.434347Z"
    },
    "collapsed": true
   },
   "outputs": [],
   "source": [
    "from IPython.display import display"
   ]
  },
  {
   "cell_type": "code",
   "execution_count": 181,
   "metadata": {
    "ExecuteTime": {
     "end_time": "2017-08-20T13:29:05.771725Z",
     "start_time": "2017-08-20T13:29:05.123869Z"
    },
    "scrolled": false
   },
   "outputs": [
    {
     "data": {
      "image/png": "[encoded data removed]",
      "text/plain": [
       "<matplotlib.figure.Figure at 0x110b91358>"
      ]
     },
     "metadata": {},
     "output_type": "display_data"
    }
   ],
   "source": [
    "d_slider = widgets.IntSlider(min=0, max=2, step=1, value=0)\n",
    "w = interactive(plot_interactive_activation, d=d_slider)\n",
    "display(w)"
   ]
  },
  {
   "cell_type": "code",
   "execution_count": 80,
   "metadata": {
    "ExecuteTime": {
     "end_time": "2017-08-20T12:30:08.596233Z",
     "start_time": "2017-08-20T12:30:08.556583Z"
    },
    "collapsed": true
   },
   "outputs": [],
   "source": [
    "interactive??"
   ]
  },
  {
   "cell_type": "code",
   "execution_count": 79,
   "metadata": {
    "ExecuteTime": {
     "end_time": "2017-08-20T12:28:17.265895Z",
     "start_time": "2017-08-20T12:28:16.732162Z"
    }
   },
   "outputs": [
    {
     "data": {
      "image/png": "[encoded data removed]",
      "text/plain": [
       "<matplotlib.figure.Figure at 0x113c91390>"
      ]
     },
     "metadata": {},
     "output_type": "display_data"
    }
   ],
   "source": [
    "display(w)"
   ]
  },
  {
   "cell_type": "code",
   "execution_count": 69,
   "metadata": {
    "ExecuteTime": {
     "end_time": "2017-08-20T12:24:19.459530Z",
     "start_time": "2017-08-20T12:24:18.982562Z"
    }
   },
   "outputs": [
    {
     "data": {
      "image/png": "[encoded data removed]",
      "text/plain": [
       "<matplotlib.figure.Figure at 0x1111f5630>"
      ]
     },
     "metadata": {},
     "output_type": "display_data"
    }
   ],
   "source": [
    "plot_activation_single(Ws[0], ACT[0], figsize=(14, 4));\n",
    "plt.tight_layout()"
   ]
  },
  {
   "cell_type": "code",
   "execution_count": 63,
   "metadata": {
    "ExecuteTime": {
     "end_time": "2017-08-20T12:23:24.705395Z",
     "start_time": "2017-08-20T12:23:11.470614Z"
    }
   },
   "outputs": [
    {
     "name": "stdout",
     "output_type": "stream",
     "text": [
      "> \u001b[0;32m/Users/contematto/anaconda2/envs/py36/lib/python3.6/site-packages/seaborn/matrix.py\u001b[0m(495)\u001b[0;36mheatmap\u001b[0;34m()\u001b[0m\n",
      "\u001b[0;32m    493 \u001b[0;31m        \u001b[0max\u001b[0m \u001b[0;34m=\u001b[0m \u001b[0mplt\u001b[0m\u001b[0;34m.\u001b[0m\u001b[0mgca\u001b[0m\u001b[0;34m(\u001b[0m\u001b[0;34m)\u001b[0m\u001b[0;34m\u001b[0m\u001b[0m\n",
      "\u001b[0m\u001b[0;32m    494 \u001b[0;31m    \u001b[0;32mif\u001b[0m \u001b[0msquare\u001b[0m\u001b[0;34m:\u001b[0m\u001b[0;34m\u001b[0m\u001b[0m\n",
      "\u001b[0m\u001b[0;32m--> 495 \u001b[0;31m        \u001b[0max\u001b[0m\u001b[0;34m.\u001b[0m\u001b[0mset_aspect\u001b[0m\u001b[0;34m(\u001b[0m\u001b[0;34m\"equal\"\u001b[0m\u001b[0;34m)\u001b[0m\u001b[0;34m\u001b[0m\u001b[0m\n",
      "\u001b[0m\u001b[0;32m    496 \u001b[0;31m    \u001b[0mplotter\u001b[0m\u001b[0;34m.\u001b[0m\u001b[0mplot\u001b[0m\u001b[0;34m(\u001b[0m\u001b[0max\u001b[0m\u001b[0;34m,\u001b[0m \u001b[0mcbar_ax\u001b[0m\u001b[0;34m,\u001b[0m \u001b[0mkwargs\u001b[0m\u001b[0;34m)\u001b[0m\u001b[0;34m\u001b[0m\u001b[0m\n",
      "\u001b[0m\u001b[0;32m    497 \u001b[0;31m    \u001b[0;32mreturn\u001b[0m \u001b[0max\u001b[0m\u001b[0;34m\u001b[0m\u001b[0m\n",
      "\u001b[0m\n",
      "ipdb> u\n",
      "> \u001b[0;32m<ipython-input-55-b60408ebce60>\u001b[0m(4)\u001b[0;36mplot_activation_single\u001b[0;34m()\u001b[0m\n",
      "\u001b[0;32m      1 \u001b[0;31m\u001b[0;32mdef\u001b[0m \u001b[0mplot_activation_single\u001b[0m\u001b[0;34m(\u001b[0m\u001b[0mW\u001b[0m\u001b[0;34m,\u001b[0m \u001b[0mACT\u001b[0m\u001b[0;34m,\u001b[0m \u001b[0max\u001b[0m\u001b[0;34m=\u001b[0m\u001b[0;32mNone\u001b[0m\u001b[0;34m,\u001b[0m \u001b[0mfigsize\u001b[0m\u001b[0;34m=\u001b[0m\u001b[0;34m(\u001b[0m\u001b[0;36m20\u001b[0m\u001b[0;34m,\u001b[0m \u001b[0;36m4\u001b[0m\u001b[0;34m)\u001b[0m\u001b[0;34m)\u001b[0m\u001b[0;34m:\u001b[0m\u001b[0;34m\u001b[0m\u001b[0m\n",
      "\u001b[0m\u001b[0;32m      2 \u001b[0;31m    \u001b[0;32mif\u001b[0m \u001b[0max\u001b[0m \u001b[0;32mis\u001b[0m \u001b[0;32mNone\u001b[0m\u001b[0;34m:\u001b[0m\u001b[0;34m\u001b[0m\u001b[0m\n",
      "\u001b[0m\u001b[0;32m      3 \u001b[0;31m        \u001b[0max\u001b[0m \u001b[0;34m=\u001b[0m \u001b[0mplt\u001b[0m\u001b[0;34m.\u001b[0m\u001b[0msubplots\u001b[0m\u001b[0;34m(\u001b[0m\u001b[0;36m1\u001b[0m\u001b[0;34m,\u001b[0m \u001b[0;36m2\u001b[0m\u001b[0;34m,\u001b[0m \u001b[0mfigsize\u001b[0m\u001b[0;34m=\u001b[0m\u001b[0mfigsize\u001b[0m\u001b[0;34m)\u001b[0m\u001b[0;34m\u001b[0m\u001b[0m\n",
      "\u001b[0m\u001b[0;32m----> 4 \u001b[0;31m    \u001b[0msns\u001b[0m\u001b[0;34m.\u001b[0m\u001b[0mheatmap\u001b[0m\u001b[0;34m(\u001b[0m\u001b[0mW\u001b[0m\u001b[0;34m,\u001b[0m \u001b[0mannot\u001b[0m\u001b[0;34m=\u001b[0m\u001b[0;32mTrue\u001b[0m\u001b[0;34m,\u001b[0m \u001b[0mvmin\u001b[0m\u001b[0;34m=\u001b[0m\u001b[0;36m0\u001b[0m\u001b[0;34m,\u001b[0m \u001b[0mvmax\u001b[0m\u001b[0;34m=\u001b[0m\u001b[0;36m1\u001b[0m\u001b[0;34m,\u001b[0m \u001b[0max\u001b[0m\u001b[0;34m=\u001b[0m\u001b[0max\u001b[0m\u001b[0;34m[\u001b[0m\u001b[0;36m1\u001b[0m\u001b[0;34m]\u001b[0m\u001b[0;34m,\u001b[0m \u001b[0msquare\u001b[0m\u001b[0;34m=\u001b[0m\u001b[0;32mTrue\u001b[0m\u001b[0;34m,\u001b[0m \u001b[0mcbar\u001b[0m\u001b[0;34m=\u001b[0m\u001b[0;32mFalse\u001b[0m\u001b[0;34m)\u001b[0m\u001b[0;34m\u001b[0m\u001b[0m\n",
      "\u001b[0m\u001b[0;32m      5 \u001b[0;31m    \u001b[0msns\u001b[0m\u001b[0;34m.\u001b[0m\u001b[0mheatmap\u001b[0m\u001b[0;34m(\u001b[0m\u001b[0mACT\u001b[0m\u001b[0;34m,\u001b[0m \u001b[0mannot\u001b[0m\u001b[0;34m=\u001b[0m\u001b[0;32mTrue\u001b[0m\u001b[0;34m,\u001b[0m \u001b[0mvmin\u001b[0m\u001b[0;34m=\u001b[0m\u001b[0;36m0\u001b[0m\u001b[0;34m,\u001b[0m \u001b[0mvmax\u001b[0m\u001b[0;34m=\u001b[0m\u001b[0;36m1\u001b[0m\u001b[0;34m,\u001b[0m \u001b[0max\u001b[0m\u001b[0;34m=\u001b[0m\u001b[0max\u001b[0m\u001b[0;34m[\u001b[0m\u001b[0;36m0\u001b[0m\u001b[0;34m]\u001b[0m\u001b[0;34m,\u001b[0m \u001b[0mcbar\u001b[0m\u001b[0;34m=\u001b[0m\u001b[0;32mFalse\u001b[0m\u001b[0;34m)\u001b[0m\u001b[0;34m\u001b[0m\u001b[0m\n",
      "\u001b[0m\n",
      "ipdb> print(ax)\n",
      "(<matplotlib.figure.Figure object at 0x113e956a0>, array([<matplotlib.axes._subplots.AxesSubplot object at 0x112cf6e10>,\n",
      "       <matplotlib.axes._subplots.AxesSubplot object at 0x1125687b8>], dtype=object))\n",
      "ipdb> q\n"
     ]
    }
   ],
   "source": [
    "%debug"
   ]
  },
  {
   "cell_type": "code",
   "execution_count": 50,
   "metadata": {
    "ExecuteTime": {
     "end_time": "2017-08-20T12:16:46.352137Z",
     "start_time": "2017-08-20T12:16:44.494352Z"
    }
   },
   "outputs": [
    {
     "data": {
      "image/png": "[encoded data removed]",
      "text/plain": [
       "<matplotlib.figure.Figure at 0x111e01be0>"
      ]
     },
     "metadata": {},
     "output_type": "display_data"
    }
   ],
   "source": [
    "Ws_te, ACT_te = spread_activation(Ws[-1], ACT_rpplus, nmph, \n",
    "                                  gamma=gamma, alpha=alpha, lambda_=lambda_, d=depth)\n",
    "plot_activation(Ws_te, ACT_te, figsize=(14, 8));\n",
    "plt.tight_layout();"
   ]
  },
  {
   "cell_type": "code",
   "execution_count": 51,
   "metadata": {
    "ExecuteTime": {
     "end_time": "2017-08-20T12:16:55.795336Z",
     "start_time": "2017-08-20T12:16:53.919809Z"
    },
    "scrolled": false
   },
   "outputs": [
    {
     "data": {
      "image/png": "[encoded data removed]",
      "text/plain": [
       "<matplotlib.figure.Figure at 0x11182dd68>"
      ]
     },
     "metadata": {},
     "output_type": "display_data"
    }
   ],
   "source": [
    "Ws_te, ACT_te = spread_activation(Ws[-1], ACT_nrp1, nmph, \n",
    "                                  gamma=gamma, alpha=alpha, lambda_=lambda_, d=depth)\n",
    "plot_activation(Ws_te, ACT_te, figsize=(14, 8));\n",
    "plt.tight_layout();"
   ]
  },
  {
   "cell_type": "code",
   "execution_count": 43,
   "metadata": {
    "ExecuteTime": {
     "end_time": "2017-08-19T21:32:17.803497Z",
     "start_time": "2017-08-19T21:32:17.795542Z"
    },
    "collapsed": true
   },
   "outputs": [],
   "source": [
    "which_active = np.argmax(ACT_rpplus)\n",
    "last_activation = activation_[-1].copy()\n",
    "# do not look at the category we ping'd\n",
    "last_activation[0][which_active] = 0.\n",
    "#prob_activation = filter_activation(last_activation, nmph)\n",
    "# probabilistic response\n",
    "#n_responses = 10\n",
    "#responses = np.random.choice(range(6), n_responses, p=prob_activation)\n",
    "#winners.append(np.sum(responses == which)/n_responses)\n",
    "winners.append((np.argmax(nmph(last_activation)) == which).astype(int))"
   ]
  },
  {
   "cell_type": "code",
   "execution_count": 44,
   "metadata": {
    "ExecuteTime": {
     "end_time": "2017-08-19T21:32:18.570451Z",
     "start_time": "2017-08-19T21:32:18.565907Z"
    }
   },
   "outputs": [
    {
     "data": {
      "text/plain": [
       "0"
      ]
     },
     "execution_count": 44,
     "metadata": {},
     "output_type": "execute_result"
    }
   ],
   "source": [
    "which_active"
   ]
  },
  {
   "cell_type": "code",
   "execution_count": 31,
   "metadata": {
    "ExecuteTime": {
     "end_time": "2017-08-19T21:28:23.607517Z",
     "start_time": "2017-08-19T21:28:23.600386Z"
    }
   },
   "outputs": [
    {
     "data": {
      "text/plain": [
       "[array([[ 0.97933679,  0.08289122,  0.        ,  0.        ,  0.        ,\n",
       "          0.00232719]]),\n",
       " array([[  9.83730880e-01,   1.97291502e-01,   1.14400278e-01,\n",
       "           1.69191977e-04,   0.00000000e+00,   2.32719007e-03]]),\n",
       " array([[  9.90380367e-01,   3.35759969e-01,   2.52868745e-01,\n",
       "           3.63335533e-04,   1.89105007e-06,   2.32908112e-03]])]"
      ]
     },
     "execution_count": 31,
     "metadata": {},
     "output_type": "execute_result"
    }
   ],
   "source": [
    "n_depth = len(Ws_)\n",
    "fig, axs = plt.subplots(n_depth, 2, figsize=(20, 14))\n",
    "for W_, ACT_, ax in zip(Ws, ACT, axs):\n",
    "    sns.heatmap(W_, annot=True, vmin=0, vmax=1, ax=ax[0], square=True)\n",
    "    sns.heatmap(ACT_, annot=True, vmin=0, vmax=1, ax=ax[1])"
   ]
  },
  {
   "cell_type": "code",
   "execution_count": 25,
   "metadata": {
    "ExecuteTime": {
     "end_time": "2017-08-19T21:26:43.191490Z",
     "start_time": "2017-08-19T21:26:43.185571Z"
    }
   },
   "outputs": [
    {
     "data": {
      "text/plain": [
       "array([[0, 0, 0, 0]])"
      ]
     },
     "execution_count": 25,
     "metadata": {},
     "output_type": "execute_result"
    }
   ],
   "source": [
    "winner_iter"
   ]
  },
  {
   "cell_type": "code",
   "execution_count": 28,
   "metadata": {
    "ExecuteTime": {
     "end_time": "2017-08-19T20:24:41.401658Z",
     "start_time": "2017-08-19T20:24:41.321401Z"
    },
    "collapsed": true
   },
   "outputs": [],
   "source": [
    "spread_activation??"
   ]
  },
  {
   "cell_type": "code",
   "execution_count": 29,
   "metadata": {
    "ExecuteTime": {
     "end_time": "2017-08-19T20:28:52.044244Z",
     "start_time": "2017-08-19T20:28:52.023603Z"
    }
   },
   "outputs": [
    {
     "data": {
      "text/plain": [
       "array([[ 0.09850315, -0.09492156,  0.        , -0.00586625, -0.00105197,\n",
       "         0.        ]])"
      ]
     },
     "execution_count": 29,
     "metadata": {},
     "output_type": "execute_result"
    }
   ],
   "source": [
    "nmph(ACT[0])"
   ]
  },
  {
   "cell_type": "code",
   "execution_count": 27,
   "metadata": {
    "ExecuteTime": {
     "end_time": "2017-08-19T21:27:48.366253Z",
     "start_time": "2017-08-19T21:27:48.359767Z"
    }
   },
   "outputs": [
    {
     "data": {
      "text/plain": [
       "array([[ 0.        ,  0.6       ,  0.6       ,  0.        ,  0.        ,\n",
       "         0.        ],\n",
       "       [ 0.42872933,  0.        ,  0.        ,  0.        ,  0.        ,\n",
       "         0.        ],\n",
       "       [ 0.48024188,  0.        ,  0.        ,  0.        ,  0.        ,\n",
       "         0.        ],\n",
       "       [ 0.        ,  0.        ,  0.        ,  0.        ,  0.49892669,\n",
       "         0.49892669],\n",
       "       [ 0.        ,  0.        ,  0.        ,  0.49941534,  0.        ,\n",
       "         0.        ],\n",
       "       [ 0.        ,  0.        ,  0.        ,  0.49251406,  0.        ,\n",
       "         0.        ]])"
      ]
     },
     "execution_count": 27,
     "metadata": {},
     "output_type": "execute_result"
    }
   ],
   "source": [
    "Ws[-1]"
   ]
  },
  {
   "cell_type": "code",
   "execution_count": 42,
   "metadata": {
    "ExecuteTime": {
     "end_time": "2017-08-19T21:15:10.984574Z",
     "start_time": "2017-08-19T21:15:10.980187Z"
    },
    "collapsed": true
   },
   "outputs": [],
   "source": [
    "Ws, ACT = spread_activation(Ws[-1], ACT_pr, nmph, gamma, alpha, depth)"
   ]
  },
  {
   "cell_type": "code",
   "execution_count": 43,
   "metadata": {
    "ExecuteTime": {
     "end_time": "2017-08-19T21:15:13.778109Z",
     "start_time": "2017-08-19T21:15:13.773643Z"
    }
   },
   "outputs": [
    {
     "data": {
      "text/plain": [
       "4"
      ]
     },
     "execution_count": 43,
     "metadata": {},
     "output_type": "execute_result"
    }
   ],
   "source": [
    "len(Ws)"
   ]
  },
  {
   "cell_type": "code",
   "execution_count": 44,
   "metadata": {
    "ExecuteTime": {
     "end_time": "2017-08-19T21:15:16.173266Z",
     "start_time": "2017-08-19T21:15:16.168630Z"
    }
   },
   "outputs": [
    {
     "name": "stdout",
     "output_type": "stream",
     "text": [
      "3\n"
     ]
    }
   ],
   "source": [
    "print(depth)"
   ]
  },
  {
   "cell_type": "code",
   "execution_count": 63,
   "metadata": {
    "ExecuteTime": {
     "end_time": "2017-08-19T21:35:32.782853Z",
     "start_time": "2017-08-19T21:35:32.778873Z"
    },
    "collapsed": true
   },
   "outputs": [],
   "source": [
    "a = [1, 0.25, 0.10, 0]\n",
    "b = [0, 0.25, 0.10, 0]"
   ]
  }
 ],
 "metadata": {
  "anaconda-cloud": {},
  "kernelspec": {
   "display_name": "Python [conda env:py36]",
   "language": "python",
   "name": "conda-env-py36-py"
  },
  "language_info": {
   "codemirror_mode": {
    "name": "ipython",
    "version": 3
   },
   "file_extension": ".py",
   "mimetype": "text/x-python",
   "name": "python",
   "nbconvert_exporter": "python",
   "pygments_lexer": "ipython3",
   "version": "3.6.1"
  },
  "toc": {
   "colors": {
    "hover_highlight": "#DAA520",
    "navigate_num": "#000000",
    "navigate_text": "#333333",
    "running_highlight": "#FF0000",
    "selected_highlight": "#FFD700",
    "sidebar_border": "#EEEEEE",
    "wrapper_background": "#FFFFFF"
   },
   "moveMenuLeft": true,
   "nav_menu": {
    "height": "12px",
    "width": "252px"
   },
   "navigate_menu": true,
   "number_sections": true,
   "sideBar": true,
   "threshold": 4,
   "toc_cell": false,
   "toc_section_display": "block",
   "toc_window_display": false,
   "widenNotebook": false
  }
 },
 "nbformat": 4,
 "nbformat_minor": 2
}
