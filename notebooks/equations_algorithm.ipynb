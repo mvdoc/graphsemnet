{
 "cells": [
  {
   "cell_type": "markdown",
   "metadata": {},
   "source": [
    "# Graphing Semantic Networks: Testing Retrieval Induced Forgetting with NMPH"
   ]
  },
  {
   "cell_type": "code",
   "execution_count": 22,
   "metadata": {
    "ExecuteTime": {
     "end_time": "2017-12-02T22:36:44.335646Z",
     "start_time": "2017-12-02T22:36:44.321281Z"
    },
    "collapsed": true
   },
   "outputs": [],
   "source": [
    "import sys\n",
    "sys.path.insert(1, '../')\n",
    "from graphsemnet.gsn import compute_nmph, spread_activation, rect, compute_adjacency\n",
    "from scipy.special import expit\n",
    "import numpy as np\n",
    "%matplotlib inline\n",
    "import seaborn as sns\n",
    "import matplotlib.pyplot as plt"
   ]
  },
  {
   "cell_type": "code",
   "execution_count": 2,
   "metadata": {
    "ExecuteTime": {
     "end_time": "2017-12-02T21:41:24.275704Z",
     "start_time": "2017-12-02T21:41:23.793426Z"
    },
    "collapsed": true
   },
   "outputs": [],
   "source": [
    "import networkx as nx\n",
    "from matplotlib.colors import Normalize\n",
    "from seaborn.utils import relative_luminance"
   ]
  },
  {
   "cell_type": "code",
   "execution_count": 3,
   "metadata": {
    "ExecuteTime": {
     "end_time": "2017-12-02T21:41:24.299640Z",
     "start_time": "2017-12-02T21:41:24.282153Z"
    },
    "collapsed": true
   },
   "outputs": [],
   "source": [
    "from ipywidgets import interact, interactive, fixed, interact_manual, IntSlider\n",
    "import ipywidgets as widgets"
   ]
  },
  {
   "cell_type": "code",
   "execution_count": 4,
   "metadata": {
    "ExecuteTime": {
     "end_time": "2017-12-02T21:41:24.315085Z",
     "start_time": "2017-12-02T21:41:24.305879Z"
    },
    "collapsed": true
   },
   "outputs": [],
   "source": [
    "from IPython.display import display"
   ]
  },
  {
   "cell_type": "code",
   "execution_count": 5,
   "metadata": {
    "ExecuteTime": {
     "end_time": "2017-12-02T21:41:24.325774Z",
     "start_time": "2017-12-02T21:41:24.319264Z"
    },
    "collapsed": true
   },
   "outputs": [],
   "source": [
    "import pandas as pd"
   ]
  },
  {
   "cell_type": "code",
   "execution_count": 6,
   "metadata": {
    "ExecuteTime": {
     "end_time": "2017-12-02T21:41:24.336266Z",
     "start_time": "2017-12-02T21:41:24.330127Z"
    },
    "collapsed": true
   },
   "outputs": [],
   "source": [
    "sns.set_context('notebook')\n",
    "sns.set_style('whitegrid')"
   ]
  },
  {
   "cell_type": "markdown",
   "metadata": {},
   "source": [
    "NMPH function\n",
    "$$\n",
    "h\\left(x\\vert y_{min}, y_{max}, x_{cp}, y_{cp}\\right) = \\begin{cases}\n",
    "2 x \\left(y_{min}/x_{cp}\\right) & x \\leq x_{\\text{cp}/2}\\\\\n",
    "2 x \\left(y_{cp} - y_{min}\\right)/x_{cp} & x_{\\text{cp}/2} < x \\leq x_{\\text{cp}}\\\\\n",
    "x \\left(y_{max} - y_{cp}\\right)/\\left(1 - x_{\\text{cp}}\\right) & x_{\\text{cp}} < x \\leq 1\n",
    "\\end{cases}\n",
    "$$"
   ]
  },
  {
   "cell_type": "code",
   "execution_count": 7,
   "metadata": {
    "ExecuteTime": {
     "end_time": "2017-12-02T21:41:24.922273Z",
     "start_time": "2017-12-02T21:41:24.340300Z"
    }
   },
   "outputs": [
    {
     "data": {
      "image/png": "[encoded data removed]",
      "text/plain": [
       "<matplotlib.figure.Figure at 0x116a13ba8>"
      ]
     },
     "metadata": {},
     "output_type": "display_data"
    }
   ],
   "source": [
    "nmph = compute_nmph(-0.1, .5, .05, .1)\n",
    "x = np.linspace(0, 1, 1000)\n",
    "y = nmph(x)\n",
    "plt.plot(x, y);"
   ]
  },
  {
   "cell_type": "markdown",
   "metadata": {},
   "source": [
    "Let $W_0, \\text{ACT}_0$ be the initial conditions"
   ]
  },
  {
   "cell_type": "markdown",
   "metadata": {},
   "source": [
    "Weight update"
   ]
  },
  {
   "cell_type": "markdown",
   "metadata": {},
   "source": [
    "$$\n",
    "W_k = f\\left(W_{k-1} + \\alpha h\\left(\\text{ACT}_{k-1}^{T}\\right) \\circ A \\right)\n",
    "$$"
   ]
  },
  {
   "cell_type": "markdown",
   "metadata": {},
   "source": [
    "Activation update"
   ]
  },
  {
   "cell_type": "markdown",
   "metadata": {},
   "source": [
    "$$\n",
    "\\Delta\\text{ACT}_k =  \\sum_{i=0}^{k-1}\\gamma^i\\text{ACT}_{i}\\cdot\\prod_{d=0}^{i}W_d\n",
    "$$"
   ]
  },
  {
   "cell_type": "markdown",
   "metadata": {},
   "source": [
    "$$\n",
    "\\text{ACT}_k = f\\left(\\lambda^k\\text{ACT}_{k-1} + \\Delta\\text{ACT}_k\\right)\n",
    "$$"
   ]
  },
  {
   "cell_type": "markdown",
   "metadata": {},
   "source": [
    "- $\\circ$, $\\Pi$ denote element-wise multiplication\n",
    "- $\\cdot$ denotes dot-product\n",
    "- $\\text{ACT}_i$ is a row vector\n",
    "- $f(x)$ is an activation function, in our case a ReLU\n",
    "- $W$: matrix of (thresholded) weights\n",
    "- $\\gamma$: decay parameter\n",
    "- $\\lambda$: decay parameter of previous activations\n",
    "- $\\alpha$: learning parameter\n",
    "\n",
    "- Todo: extend this with $R^i$ to model second, and third, etc reachability"
   ]
  },
  {
   "cell_type": "code",
   "execution_count": 8,
   "metadata": {
    "ExecuteTime": {
     "end_time": "2017-12-02T21:41:26.456679Z",
     "start_time": "2017-12-02T21:41:26.451926Z"
    },
    "collapsed": true
   },
   "outputs": [],
   "source": [
    "def noisy_activation(act, sigma_noise=0.1):\n",
    "    act = np.array(act)\n",
    "    return rect(act + np.random.normal(scale=sigma_noise, size=act.shape))"
   ]
  },
  {
   "cell_type": "code",
   "execution_count": 9,
   "metadata": {
    "ExecuteTime": {
     "end_time": "2017-12-02T21:41:27.014522Z",
     "start_time": "2017-12-02T21:41:27.010075Z"
    },
    "collapsed": true
   },
   "outputs": [],
   "source": [
    "def filter_activation(activation):\n",
    "    a = rect(activation.copy())\n",
    "    #a = rect(nmph(a))\n",
    "    a /= a.sum()\n",
    "    return a.flatten()"
   ]
  },
  {
   "cell_type": "code",
   "execution_count": 10,
   "metadata": {
    "ExecuteTime": {
     "end_time": "2017-12-02T21:41:27.626385Z",
     "start_time": "2017-12-02T21:41:27.521679Z"
    },
    "collapsed": true
   },
   "outputs": [],
   "source": [
    "def run_experiment_subject(gamma, alpha, depth, lambda_, nmph, n_iter=1000, sigma_noise=0.01):\n",
    "    winner_iter = []\n",
    "    # Phase 1: Study\n",
    "    W = np.zeros((6, 6))\n",
    "    W[0, 1] = 0.5\n",
    "    W[0, 2] = 0.5\n",
    "\n",
    "    W[3, 4] = 0.5\n",
    "    W[3, 5] = 0.5\n",
    "    W += W.T\n",
    "\n",
    "    for i in range(n_iter):\n",
    "        # Phase 2: Retrieval Practice\n",
    "        # We want horse\n",
    "        ACT_pr = np.array([1, .25, 0, 0, 0, 0])[None, :] # we want a row vector\n",
    "        # Add noise on activation\n",
    "        ACT_pr = noisy_activation(ACT_pr, sigma_noise=sigma_noise)\n",
    "        W_ = W\n",
    "        for _ in range(1):\n",
    "            Ws, ACT = spread_activation(W_, ACT_pr, nmph, \n",
    "                                        gamma=gamma, alpha=alpha, lambda_=lambda_, d=depth)\n",
    "            W_ = Ws[-1]\n",
    "\n",
    "        # Phase 3: Test\n",
    "        W_te = Ws[-1]\n",
    "        ACT_rpplus = noisy_activation(np.array([1, .1, 0, 0, 0, 0])[None, :], sigma_noise)\n",
    "        ACT_rpminus = noisy_activation(np.array([1, 0, .1, 0, 0, 0])[None, :], sigma_noise)\n",
    "        ACT_nrp1 = noisy_activation(np.array([0, 0, 0, 1, .1, 0])[None, :], sigma_noise)\n",
    "        ACT_nrp2 = noisy_activation(np.array([0, 0, 0, 1, 0, .1])[None, :], sigma_noise)\n",
    "\n",
    "        winners = []\n",
    "        for activation, which in zip([ACT_rpplus, ACT_rpminus, ACT_nrp1, ACT_nrp2], [1, 2, 4, 5]):\n",
    "            _, activation_ = spread_activation(W_te, activation, nmph, \n",
    "                                               gamma=gamma, alpha=alpha, lambda_=lambda_, d=depth)\n",
    "            # do not consider the one we activated\n",
    "            which_active = np.argmax(activation)\n",
    "            last_activation = activation_[-1]\n",
    "            # do not look at the category we ping'd\n",
    "            last_activation[0][which_active] = 0.\n",
    "            #prob_activation = filter_activation(last_activation, nmph)\n",
    "            # probabilistic response\n",
    "            #n_responses = 10\n",
    "            #responses = np.random.choice(range(6), n_responses, p=prob_activation)\n",
    "            #winners.append(np.sum(responses == which)/n_responses)\n",
    "            winners.append((np.argmax(last_activation) == which).astype(int))\n",
    "            #winners.append((activation_[-1][which] > 0.5).astype(int))\n",
    "        winner_iter.append(winners)\n",
    "\n",
    "    winner_iter = np.array(winner_iter)\n",
    "\n",
    "    #rpplus = np.sum(winner_iter[:, 0] == 1)/n_iter\n",
    "    #rpminus = np.sum(winner_iter[:, 1] == 2)/n_iter\n",
    "    #nrp = (np.sum(winner_iter[:, 2] == 4)/n_iter + np.sum(winner_iter[:, 3] == 5)/n_iter)/2.\n",
    "    return winner_iter"
   ]
  },
  {
   "cell_type": "code",
   "execution_count": 11,
   "metadata": {
    "ExecuteTime": {
     "end_time": "2017-12-02T21:41:28.198188Z",
     "start_time": "2017-12-02T21:41:28.193370Z"
    },
    "collapsed": true
   },
   "outputs": [],
   "source": [
    "depth = 3\n",
    "gamma = 0.8\n",
    "alpha = 0.5\n",
    "n_iter = 1000\n",
    "sigma_noise = 0.1\n",
    "lambda_ = 1"
   ]
  },
  {
   "cell_type": "code",
   "execution_count": 12,
   "metadata": {
    "ExecuteTime": {
     "end_time": "2017-12-02T21:41:28.749165Z",
     "start_time": "2017-12-02T21:41:28.737787Z"
    },
    "collapsed": true
   },
   "outputs": [],
   "source": [
    "# Simulate twenty subjects\n",
    "def simulate_experiment(gamma=0.8, alpha=0.5, depth=3, lambda_=1, nmph=compute_nmph(-0.1, .5, .05, .1), n_iter=1000,\n",
    "                       sigma_s=0.2, n_subj=20, seed=432):\n",
    "    exp_subj = []\n",
    "    sigma_subj = []\n",
    "    for i in range(n_subj):\n",
    "        print(\"Subject {0}\".format(i))\n",
    "        # sample noise\n",
    "        sigma_noise = np.random.normal(scale=sigma_s)\n",
    "        exp = run_experiment_subject(gamma, alpha, depth, lambda_, nmph, n_iter=n_iter, sigma_noise=sigma_s)\n",
    "        exp_subj.append(np.sum(exp, axis=0)/n_iter)\n",
    "        sigma_subj.append(sigma_noise)\n",
    "    return exp_subj, sigma_subj"
   ]
  },
  {
   "cell_type": "code",
   "execution_count": 13,
   "metadata": {
    "ExecuteTime": {
     "end_time": "2017-12-02T21:41:29.271805Z",
     "start_time": "2017-12-02T21:41:29.268834Z"
    },
    "collapsed": true
   },
   "outputs": [],
   "source": [
    "import os\n",
    "import pickle"
   ]
  },
  {
   "cell_type": "code",
   "execution_count": 14,
   "metadata": {
    "ExecuteTime": {
     "end_time": "2017-12-02T21:41:29.835968Z",
     "start_time": "2017-12-02T21:41:29.831184Z"
    },
    "collapsed": true
   },
   "outputs": [],
   "source": [
    "def make_dataframe(exp_subj):\n",
    "    data = np.vstack(exp_subj)\n",
    "    data = np.hstack((data[:, :2], np.mean(data[:, 2:], axis=1)[:, None]))\n",
    "    df = pd.DataFrame(data, columns=['Rp+', 'Rp-', 'NRp'])\n",
    "    df_ = pd.melt(df)\n",
    "    return df_"
   ]
  },
  {
   "cell_type": "code",
   "execution_count": 16,
   "metadata": {
    "ExecuteTime": {
     "end_time": "2017-12-02T22:00:51.892104Z",
     "start_time": "2017-12-02T21:42:42.470712Z"
    },
    "scrolled": true
   },
   "outputs": [
    {
     "name": "stdout",
     "output_type": "stream",
     "text": [
      "## SIMULATING WITH GAMMA 0.0\n",
      "Subject 0\n",
      "Subject 1\n",
      "Subject 2\n",
      "Subject 3\n",
      "Subject 4\n",
      "Subject 5\n",
      "Subject 6\n",
      "Subject 7\n",
      "Subject 8\n",
      "Subject 9\n",
      "Subject 10\n",
      "Subject 11\n",
      "Subject 12\n",
      "Subject 13\n",
      "Subject 14\n",
      "Subject 15\n",
      "Subject 16\n",
      "Subject 17\n",
      "Subject 18\n",
      "Subject 19\n",
      "## SIMULATING WITH GAMMA 0.02\n",
      "Subject 0\n",
      "Subject 1\n",
      "Subject 2\n",
      "Subject 3\n",
      "Subject 4\n",
      "Subject 5\n",
      "Subject 6\n",
      "Subject 7\n",
      "Subject 8\n",
      "Subject 9\n",
      "Subject 10\n",
      "Subject 11\n",
      "Subject 12\n",
      "Subject 13\n",
      "Subject 14\n",
      "Subject 15\n",
      "Subject 16\n",
      "Subject 17\n",
      "Subject 18\n",
      "Subject 19\n",
      "## SIMULATING WITH GAMMA 0.04\n",
      "Subject 0\n",
      "Subject 1\n",
      "Subject 2\n",
      "Subject 3\n",
      "Subject 4\n",
      "Subject 5\n",
      "Subject 6\n",
      "Subject 7\n",
      "Subject 8\n",
      "Subject 9\n",
      "Subject 10\n",
      "Subject 11\n",
      "Subject 12\n",
      "Subject 13\n",
      "Subject 14\n",
      "Subject 15\n",
      "Subject 16\n",
      "Subject 17\n",
      "Subject 18\n",
      "Subject 19\n",
      "## SIMULATING WITH GAMMA 0.06\n",
      "Subject 0\n",
      "Subject 1\n",
      "Subject 2\n",
      "Subject 3\n",
      "Subject 4\n",
      "Subject 5\n",
      "Subject 6\n",
      "Subject 7\n",
      "Subject 8\n",
      "Subject 9\n",
      "Subject 10\n",
      "Subject 11\n",
      "Subject 12\n",
      "Subject 13\n",
      "Subject 14\n",
      "Subject 15\n",
      "Subject 16\n",
      "Subject 17\n",
      "Subject 18\n",
      "Subject 19\n",
      "## SIMULATING WITH GAMMA 0.08\n",
      "Subject 0\n",
      "Subject 1\n",
      "Subject 2\n",
      "Subject 3\n",
      "Subject 4\n",
      "Subject 5\n",
      "Subject 6\n",
      "Subject 7\n",
      "Subject 8\n",
      "Subject 9\n",
      "Subject 10\n",
      "Subject 11\n",
      "Subject 12\n",
      "Subject 13\n",
      "Subject 14\n",
      "Subject 15\n",
      "Subject 16\n",
      "Subject 17\n",
      "Subject 18\n",
      "Subject 19\n",
      "## SIMULATING WITH GAMMA 0.1\n",
      "Subject 0\n",
      "Subject 1\n",
      "Subject 2\n",
      "Subject 3\n",
      "Subject 4\n",
      "Subject 5\n",
      "Subject 6\n",
      "Subject 7\n",
      "Subject 8\n",
      "Subject 9\n",
      "Subject 10\n",
      "Subject 11\n",
      "Subject 12\n",
      "Subject 13\n",
      "Subject 14\n",
      "Subject 15\n",
      "Subject 16\n",
      "Subject 17\n",
      "Subject 18\n",
      "Subject 19\n",
      "## SIMULATING WITH GAMMA 0.12\n",
      "Subject 0\n",
      "Subject 1\n",
      "Subject 2\n",
      "Subject 3\n",
      "Subject 4\n",
      "Subject 5\n",
      "Subject 6\n",
      "Subject 7\n",
      "Subject 8\n",
      "Subject 9\n",
      "Subject 10\n",
      "Subject 11\n",
      "Subject 12\n",
      "Subject 13\n",
      "Subject 14\n",
      "Subject 15\n",
      "Subject 16\n",
      "Subject 17\n",
      "Subject 18\n",
      "Subject 19\n",
      "## SIMULATING WITH GAMMA 0.14\n",
      "Subject 0\n",
      "Subject 1\n",
      "Subject 2\n",
      "Subject 3\n",
      "Subject 4\n",
      "Subject 5\n",
      "Subject 6\n",
      "Subject 7\n",
      "Subject 8\n",
      "Subject 9\n",
      "Subject 10\n",
      "Subject 11\n",
      "Subject 12\n",
      "Subject 13\n",
      "Subject 14\n",
      "Subject 15\n",
      "Subject 16\n",
      "Subject 17\n",
      "Subject 18\n",
      "Subject 19\n",
      "## SIMULATING WITH GAMMA 0.16\n",
      "Subject 0\n",
      "Subject 1\n",
      "Subject 2\n",
      "Subject 3\n",
      "Subject 4\n",
      "Subject 5\n",
      "Subject 6\n",
      "Subject 7\n",
      "Subject 8\n",
      "Subject 9\n",
      "Subject 10\n",
      "Subject 11\n",
      "Subject 12\n",
      "Subject 13\n",
      "Subject 14\n",
      "Subject 15\n",
      "Subject 16\n",
      "Subject 17\n",
      "Subject 18\n",
      "Subject 19\n",
      "## SIMULATING WITH GAMMA 0.18\n",
      "Subject 0\n",
      "Subject 1\n",
      "Subject 2\n",
      "Subject 3\n",
      "Subject 4\n",
      "Subject 5\n",
      "Subject 6\n",
      "Subject 7\n",
      "Subject 8\n",
      "Subject 9\n",
      "Subject 10\n",
      "Subject 11\n",
      "Subject 12\n",
      "Subject 13\n",
      "Subject 14\n",
      "Subject 15\n",
      "Subject 16\n",
      "Subject 17\n",
      "Subject 18\n",
      "Subject 19\n",
      "## SIMULATING WITH GAMMA 0.2\n",
      "Subject 0\n",
      "Subject 1\n",
      "Subject 2\n",
      "Subject 3\n",
      "Subject 4\n",
      "Subject 5\n",
      "Subject 6\n",
      "Subject 7\n",
      "Subject 8\n",
      "Subject 9\n",
      "Subject 10\n",
      "Subject 11\n",
      "Subject 12\n",
      "Subject 13\n",
      "Subject 14\n",
      "Subject 15\n",
      "Subject 16\n",
      "Subject 17\n",
      "Subject 18\n",
      "Subject 19\n",
      "## SIMULATING WITH GAMMA 0.22\n",
      "Subject 0\n",
      "Subject 1\n",
      "Subject 2\n",
      "Subject 3\n",
      "Subject 4\n",
      "Subject 5\n",
      "Subject 6\n",
      "Subject 7\n",
      "Subject 8\n",
      "Subject 9\n",
      "Subject 10\n",
      "Subject 11\n",
      "Subject 12\n",
      "Subject 13\n",
      "Subject 14\n",
      "Subject 15\n",
      "Subject 16\n",
      "Subject 17\n",
      "Subject 18\n",
      "Subject 19\n",
      "## SIMULATING WITH GAMMA 0.24\n",
      "Subject 0\n",
      "Subject 1\n",
      "Subject 2\n",
      "Subject 3\n",
      "Subject 4\n",
      "Subject 5\n",
      "Subject 6\n",
      "Subject 7\n",
      "Subject 8\n",
      "Subject 9\n",
      "Subject 10\n",
      "Subject 11\n",
      "Subject 12\n",
      "Subject 13\n",
      "Subject 14\n",
      "Subject 15\n",
      "Subject 16\n",
      "Subject 17\n",
      "Subject 18\n",
      "Subject 19\n",
      "## SIMULATING WITH GAMMA 0.27\n",
      "Subject 0\n",
      "Subject 1\n",
      "Subject 2\n",
      "Subject 3\n",
      "Subject 4\n",
      "Subject 5\n",
      "Subject 6\n",
      "Subject 7\n",
      "Subject 8\n",
      "Subject 9\n",
      "Subject 10\n",
      "Subject 11\n",
      "Subject 12\n",
      "Subject 13\n",
      "Subject 14\n",
      "Subject 15\n",
      "Subject 16\n",
      "Subject 17\n",
      "Subject 18\n",
      "Subject 19\n",
      "## SIMULATING WITH GAMMA 0.29\n",
      "Subject 0\n",
      "Subject 1\n",
      "Subject 2\n",
      "Subject 3\n",
      "Subject 4\n",
      "Subject 5\n",
      "Subject 6\n",
      "Subject 7\n",
      "Subject 8\n",
      "Subject 9\n",
      "Subject 10\n",
      "Subject 11\n",
      "Subject 12\n",
      "Subject 13\n",
      "Subject 14\n",
      "Subject 15\n",
      "Subject 16\n",
      "Subject 17\n",
      "Subject 18\n",
      "Subject 19\n",
      "## SIMULATING WITH GAMMA 0.31\n",
      "Subject 0\n",
      "Subject 1\n",
      "Subject 2\n",
      "Subject 3\n",
      "Subject 4\n",
      "Subject 5\n",
      "Subject 6\n",
      "Subject 7\n",
      "Subject 8\n",
      "Subject 9\n",
      "Subject 10\n",
      "Subject 11\n",
      "Subject 12\n",
      "Subject 13\n",
      "Subject 14\n",
      "Subject 15\n",
      "Subject 16\n",
      "Subject 17\n",
      "Subject 18\n",
      "Subject 19\n",
      "## SIMULATING WITH GAMMA 0.33\n",
      "Subject 0\n",
      "Subject 1\n",
      "Subject 2\n",
      "Subject 3\n",
      "Subject 4\n",
      "Subject 5\n",
      "Subject 6\n",
      "Subject 7\n",
      "Subject 8\n",
      "Subject 9\n",
      "Subject 10\n",
      "Subject 11\n",
      "Subject 12\n",
      "Subject 13\n",
      "Subject 14\n",
      "Subject 15\n",
      "Subject 16\n",
      "Subject 17\n",
      "Subject 18\n",
      "Subject 19\n",
      "## SIMULATING WITH GAMMA 0.35\n",
      "Subject 0\n",
      "Subject 1\n",
      "Subject 2\n",
      "Subject 3\n",
      "Subject 4\n",
      "Subject 5\n",
      "Subject 6\n",
      "Subject 7\n",
      "Subject 8\n",
      "Subject 9\n",
      "Subject 10\n",
      "Subject 11\n",
      "Subject 12\n",
      "Subject 13\n",
      "Subject 14\n",
      "Subject 15\n",
      "Subject 16\n",
      "Subject 17\n",
      "Subject 18\n",
      "Subject 19\n",
      "## SIMULATING WITH GAMMA 0.37\n",
      "Subject 0\n",
      "Subject 1\n",
      "Subject 2\n",
      "Subject 3\n",
      "Subject 4\n",
      "Subject 5\n",
      "Subject 6\n",
      "Subject 7\n",
      "Subject 8\n",
      "Subject 9\n",
      "Subject 10\n",
      "Subject 11\n",
      "Subject 12\n",
      "Subject 13\n",
      "Subject 14\n",
      "Subject 15\n",
      "Subject 16\n",
      "Subject 17\n",
      "Subject 18\n",
      "Subject 19\n",
      "## SIMULATING WITH GAMMA 0.39\n",
      "Subject 0\n",
      "Subject 1\n",
      "Subject 2\n",
      "Subject 3\n",
      "Subject 4\n",
      "Subject 5\n",
      "Subject 6\n",
      "Subject 7\n",
      "Subject 8\n",
      "Subject 9\n",
      "Subject 10\n",
      "Subject 11\n",
      "Subject 12\n",
      "Subject 13\n",
      "Subject 14\n",
      "Subject 15\n",
      "Subject 16\n",
      "Subject 17\n",
      "Subject 18\n",
      "Subject 19\n",
      "## SIMULATING WITH GAMMA 0.41\n",
      "Subject 0\n",
      "Subject 1\n",
      "Subject 2\n",
      "Subject 3\n",
      "Subject 4\n",
      "Subject 5\n",
      "Subject 6\n",
      "Subject 7\n",
      "Subject 8\n",
      "Subject 9\n",
      "Subject 10\n",
      "Subject 11\n",
      "Subject 12\n",
      "Subject 13\n",
      "Subject 14\n",
      "Subject 15\n",
      "Subject 16\n",
      "Subject 17\n",
      "Subject 18\n",
      "Subject 19\n",
      "## SIMULATING WITH GAMMA 0.43\n",
      "Subject 0\n",
      "Subject 1\n",
      "Subject 2\n",
      "Subject 3\n",
      "Subject 4\n",
      "Subject 5\n",
      "Subject 6\n",
      "Subject 7\n",
      "Subject 8\n",
      "Subject 9\n",
      "Subject 10\n",
      "Subject 11\n",
      "Subject 12\n",
      "Subject 13\n",
      "Subject 14\n",
      "Subject 15\n",
      "Subject 16\n",
      "Subject 17\n",
      "Subject 18\n",
      "Subject 19\n",
      "## SIMULATING WITH GAMMA 0.45\n",
      "Subject 0\n",
      "Subject 1\n",
      "Subject 2\n",
      "Subject 3\n",
      "Subject 4\n",
      "Subject 5\n",
      "Subject 6\n",
      "Subject 7\n",
      "Subject 8\n",
      "Subject 9\n",
      "Subject 10\n",
      "Subject 11\n",
      "Subject 12\n",
      "Subject 13\n",
      "Subject 14\n",
      "Subject 15\n",
      "Subject 16\n",
      "Subject 17\n",
      "Subject 18\n",
      "Subject 19\n",
      "## SIMULATING WITH GAMMA 0.47\n",
      "Subject 0\n",
      "Subject 1\n",
      "Subject 2\n",
      "Subject 3\n",
      "Subject 4\n",
      "Subject 5\n",
      "Subject 6\n",
      "Subject 7\n",
      "Subject 8\n",
      "Subject 9\n",
      "Subject 10\n",
      "Subject 11\n",
      "Subject 12\n",
      "Subject 13\n",
      "Subject 14\n",
      "Subject 15\n",
      "Subject 16\n",
      "Subject 17\n",
      "Subject 18\n",
      "Subject 19\n",
      "## SIMULATING WITH GAMMA 0.49\n",
      "Subject 0\n",
      "Subject 1\n",
      "Subject 2\n",
      "Subject 3\n",
      "Subject 4\n",
      "Subject 5\n",
      "Subject 6\n",
      "Subject 7\n",
      "Subject 8\n",
      "Subject 9\n",
      "Subject 10\n",
      "Subject 11\n",
      "Subject 12\n",
      "Subject 13\n",
      "Subject 14\n",
      "Subject 15\n",
      "Subject 16\n",
      "Subject 17\n",
      "Subject 18\n",
      "Subject 19\n",
      "## SIMULATING WITH GAMMA 0.51\n",
      "Subject 0\n",
      "Subject 1\n",
      "Subject 2\n",
      "Subject 3\n",
      "Subject 4\n",
      "Subject 5\n",
      "Subject 6\n",
      "Subject 7\n",
      "Subject 8\n",
      "Subject 9\n",
      "Subject 10\n",
      "Subject 11\n",
      "Subject 12\n",
      "Subject 13\n",
      "Subject 14\n",
      "Subject 15\n",
      "Subject 16\n",
      "Subject 17\n",
      "Subject 18\n",
      "Subject 19\n",
      "## SIMULATING WITH GAMMA 0.53\n",
      "Subject 0\n",
      "Subject 1\n",
      "Subject 2\n",
      "Subject 3\n",
      "Subject 4\n",
      "Subject 5\n",
      "Subject 6\n",
      "Subject 7\n",
      "Subject 8\n",
      "Subject 9\n",
      "Subject 10\n",
      "Subject 11\n",
      "Subject 12\n",
      "Subject 13\n",
      "Subject 14\n",
      "Subject 15\n",
      "Subject 16\n",
      "Subject 17\n",
      "Subject 18\n",
      "Subject 19\n",
      "## SIMULATING WITH GAMMA 0.55\n",
      "Subject 0\n",
      "Subject 1\n",
      "Subject 2\n",
      "Subject 3\n",
      "Subject 4\n",
      "Subject 5\n",
      "Subject 6\n",
      "Subject 7\n",
      "Subject 8\n",
      "Subject 9\n",
      "Subject 10\n",
      "Subject 11\n",
      "Subject 12\n",
      "Subject 13\n",
      "Subject 14\n",
      "Subject 15\n",
      "Subject 16\n",
      "Subject 17\n",
      "Subject 18\n",
      "Subject 19\n",
      "## SIMULATING WITH GAMMA 0.57\n",
      "Subject 0\n",
      "Subject 1\n",
      "Subject 2\n",
      "Subject 3\n",
      "Subject 4\n",
      "Subject 5\n",
      "Subject 6\n",
      "Subject 7\n",
      "Subject 8\n",
      "Subject 9\n",
      "Subject 10\n",
      "Subject 11\n",
      "Subject 12\n",
      "Subject 13\n",
      "Subject 14\n",
      "Subject 15\n",
      "Subject 16\n",
      "Subject 17\n",
      "Subject 18\n",
      "Subject 19\n",
      "## SIMULATING WITH GAMMA 0.59\n",
      "Subject 0\n",
      "Subject 1\n",
      "Subject 2\n",
      "Subject 3\n",
      "Subject 4\n",
      "Subject 5\n",
      "Subject 6\n",
      "Subject 7\n",
      "Subject 8\n",
      "Subject 9\n",
      "Subject 10\n",
      "Subject 11\n",
      "Subject 12\n",
      "Subject 13\n",
      "Subject 14\n",
      "Subject 15\n",
      "Subject 16\n",
      "Subject 17\n",
      "Subject 18\n",
      "Subject 19\n",
      "## SIMULATING WITH GAMMA 0.61\n",
      "Subject 0\n",
      "Subject 1\n",
      "Subject 2\n",
      "Subject 3\n",
      "Subject 4\n",
      "Subject 5\n",
      "Subject 6\n",
      "Subject 7\n",
      "Subject 8\n",
      "Subject 9\n",
      "Subject 10\n",
      "Subject 11\n",
      "Subject 12\n",
      "Subject 13\n",
      "Subject 14\n",
      "Subject 15\n",
      "Subject 16\n",
      "Subject 17\n",
      "Subject 18\n",
      "Subject 19\n",
      "## SIMULATING WITH GAMMA 0.63\n",
      "Subject 0\n",
      "Subject 1\n",
      "Subject 2\n",
      "Subject 3\n",
      "Subject 4\n",
      "Subject 5\n",
      "Subject 6\n",
      "Subject 7\n",
      "Subject 8\n",
      "Subject 9\n",
      "Subject 10\n",
      "Subject 11\n",
      "Subject 12\n",
      "Subject 13\n",
      "Subject 14\n",
      "Subject 15\n",
      "Subject 16\n",
      "Subject 17\n",
      "Subject 18\n",
      "Subject 19\n",
      "## SIMULATING WITH GAMMA 0.65\n",
      "Subject 0\n",
      "Subject 1\n",
      "Subject 2\n",
      "Subject 3\n",
      "Subject 4\n",
      "Subject 5\n",
      "Subject 6\n",
      "Subject 7\n",
      "Subject 8\n",
      "Subject 9\n",
      "Subject 10\n",
      "Subject 11\n",
      "Subject 12\n",
      "Subject 13\n",
      "Subject 14\n",
      "Subject 15\n",
      "Subject 16\n",
      "Subject 17\n",
      "Subject 18\n",
      "Subject 19\n",
      "## SIMULATING WITH GAMMA 0.67\n",
      "Subject 0\n",
      "Subject 1\n",
      "Subject 2\n",
      "Subject 3\n",
      "Subject 4\n",
      "Subject 5\n",
      "Subject 6\n",
      "Subject 7\n",
      "Subject 8\n",
      "Subject 9\n",
      "Subject 10\n",
      "Subject 11\n",
      "Subject 12\n",
      "Subject 13\n",
      "Subject 14\n",
      "Subject 15\n",
      "Subject 16\n",
      "Subject 17\n",
      "Subject 18\n",
      "Subject 19\n",
      "## SIMULATING WITH GAMMA 0.69\n",
      "Subject 0\n"
     ]
    },
    {
     "name": "stdout",
     "output_type": "stream",
     "text": [
      "Subject 1\n",
      "Subject 2\n",
      "Subject 3\n",
      "Subject 4\n",
      "Subject 5\n",
      "Subject 6\n",
      "Subject 7\n",
      "Subject 8\n",
      "Subject 9\n",
      "Subject 10\n",
      "Subject 11\n",
      "Subject 12\n",
      "Subject 13\n",
      "Subject 14\n",
      "Subject 15\n",
      "Subject 16\n",
      "Subject 17\n",
      "Subject 18\n",
      "Subject 19\n",
      "## SIMULATING WITH GAMMA 0.71\n",
      "Subject 0\n",
      "Subject 1\n",
      "Subject 2\n",
      "Subject 3\n",
      "Subject 4\n",
      "Subject 5\n",
      "Subject 6\n",
      "Subject 7\n",
      "Subject 8\n",
      "Subject 9\n",
      "Subject 10\n",
      "Subject 11\n",
      "Subject 12\n",
      "Subject 13\n",
      "Subject 14\n",
      "Subject 15\n",
      "Subject 16\n",
      "Subject 17\n",
      "Subject 18\n",
      "Subject 19\n",
      "## SIMULATING WITH GAMMA 0.73\n",
      "Subject 0\n",
      "Subject 1\n",
      "Subject 2\n",
      "Subject 3\n",
      "Subject 4\n",
      "Subject 5\n",
      "Subject 6\n",
      "Subject 7\n",
      "Subject 8\n",
      "Subject 9\n",
      "Subject 10\n",
      "Subject 11\n",
      "Subject 12\n",
      "Subject 13\n",
      "Subject 14\n",
      "Subject 15\n",
      "Subject 16\n",
      "Subject 17\n",
      "Subject 18\n",
      "Subject 19\n",
      "## SIMULATING WITH GAMMA 0.76\n",
      "Subject 0\n",
      "Subject 1\n",
      "Subject 2\n",
      "Subject 3\n",
      "Subject 4\n",
      "Subject 5\n",
      "Subject 6\n",
      "Subject 7\n",
      "Subject 8\n",
      "Subject 9\n",
      "Subject 10\n",
      "Subject 11\n",
      "Subject 12\n",
      "Subject 13\n",
      "Subject 14\n",
      "Subject 15\n",
      "Subject 16\n",
      "Subject 17\n",
      "Subject 18\n",
      "Subject 19\n",
      "## SIMULATING WITH GAMMA 0.78\n",
      "Subject 0\n",
      "Subject 1\n",
      "Subject 2\n",
      "Subject 3\n",
      "Subject 4\n",
      "Subject 5\n",
      "Subject 6\n",
      "Subject 7\n",
      "Subject 8\n",
      "Subject 9\n",
      "Subject 10\n",
      "Subject 11\n",
      "Subject 12\n",
      "Subject 13\n",
      "Subject 14\n",
      "Subject 15\n",
      "Subject 16\n",
      "Subject 17\n",
      "Subject 18\n",
      "Subject 19\n",
      "## SIMULATING WITH GAMMA 0.8\n",
      "Subject 0\n",
      "Subject 1\n",
      "Subject 2\n",
      "Subject 3\n",
      "Subject 4\n",
      "Subject 5\n",
      "Subject 6\n",
      "Subject 7\n",
      "Subject 8\n",
      "Subject 9\n",
      "Subject 10\n",
      "Subject 11\n",
      "Subject 12\n",
      "Subject 13\n",
      "Subject 14\n",
      "Subject 15\n",
      "Subject 16\n",
      "Subject 17\n",
      "Subject 18\n",
      "Subject 19\n",
      "## SIMULATING WITH GAMMA 0.82\n",
      "Subject 0\n",
      "Subject 1\n",
      "Subject 2\n",
      "Subject 3\n",
      "Subject 4\n",
      "Subject 5\n",
      "Subject 6\n",
      "Subject 7\n",
      "Subject 8\n",
      "Subject 9\n",
      "Subject 10\n",
      "Subject 11\n",
      "Subject 12\n",
      "Subject 13\n",
      "Subject 14\n",
      "Subject 15\n",
      "Subject 16\n",
      "Subject 17\n",
      "Subject 18\n",
      "Subject 19\n",
      "## SIMULATING WITH GAMMA 0.84\n",
      "Subject 0\n",
      "Subject 1\n",
      "Subject 2\n",
      "Subject 3\n",
      "Subject 4\n",
      "Subject 5\n",
      "Subject 6\n",
      "Subject 7\n",
      "Subject 8\n",
      "Subject 9\n",
      "Subject 10\n",
      "Subject 11\n",
      "Subject 12\n",
      "Subject 13\n",
      "Subject 14\n",
      "Subject 15\n",
      "Subject 16\n",
      "Subject 17\n",
      "Subject 18\n",
      "Subject 19\n",
      "## SIMULATING WITH GAMMA 0.86\n",
      "Subject 0\n",
      "Subject 1\n",
      "Subject 2\n",
      "Subject 3\n",
      "Subject 4\n",
      "Subject 5\n",
      "Subject 6\n",
      "Subject 7\n",
      "Subject 8\n",
      "Subject 9\n",
      "Subject 10\n",
      "Subject 11\n",
      "Subject 12\n",
      "Subject 13\n",
      "Subject 14\n",
      "Subject 15\n",
      "Subject 16\n",
      "Subject 17\n",
      "Subject 18\n",
      "Subject 19\n",
      "## SIMULATING WITH GAMMA 0.88\n",
      "Subject 0\n",
      "Subject 1\n",
      "Subject 2\n",
      "Subject 3\n",
      "Subject 4\n",
      "Subject 5\n",
      "Subject 6\n",
      "Subject 7\n",
      "Subject 8\n",
      "Subject 9\n",
      "Subject 10\n",
      "Subject 11\n",
      "Subject 12\n",
      "Subject 13\n",
      "Subject 14\n",
      "Subject 15\n",
      "Subject 16\n",
      "Subject 17\n",
      "Subject 18\n",
      "Subject 19\n",
      "## SIMULATING WITH GAMMA 0.9\n",
      "Subject 0\n",
      "Subject 1\n",
      "Subject 2\n",
      "Subject 3\n",
      "Subject 4\n",
      "Subject 5\n",
      "Subject 6\n",
      "Subject 7\n",
      "Subject 8\n",
      "Subject 9\n",
      "Subject 10\n",
      "Subject 11\n",
      "Subject 12\n",
      "Subject 13\n",
      "Subject 14\n",
      "Subject 15\n",
      "Subject 16\n",
      "Subject 17\n",
      "Subject 18\n",
      "Subject 19\n",
      "## SIMULATING WITH GAMMA 0.92\n",
      "Subject 0\n",
      "Subject 1\n",
      "Subject 2\n",
      "Subject 3\n",
      "Subject 4\n",
      "Subject 5\n",
      "Subject 6\n",
      "Subject 7\n",
      "Subject 8\n",
      "Subject 9\n",
      "Subject 10\n",
      "Subject 11\n",
      "Subject 12\n",
      "Subject 13\n",
      "Subject 14\n",
      "Subject 15\n",
      "Subject 16\n",
      "Subject 17\n",
      "Subject 18\n",
      "Subject 19\n",
      "## SIMULATING WITH GAMMA 0.94\n",
      "Subject 0\n",
      "Subject 1\n",
      "Subject 2\n",
      "Subject 3\n",
      "Subject 4\n",
      "Subject 5\n",
      "Subject 6\n",
      "Subject 7\n",
      "Subject 8\n",
      "Subject 9\n",
      "Subject 10\n",
      "Subject 11\n",
      "Subject 12\n",
      "Subject 13\n",
      "Subject 14\n",
      "Subject 15\n",
      "Subject 16\n",
      "Subject 17\n",
      "Subject 18\n",
      "Subject 19\n",
      "## SIMULATING WITH GAMMA 0.96\n",
      "Subject 0\n",
      "Subject 1\n",
      "Subject 2\n",
      "Subject 3\n",
      "Subject 4\n",
      "Subject 5\n",
      "Subject 6\n",
      "Subject 7\n",
      "Subject 8\n",
      "Subject 9\n",
      "Subject 10\n",
      "Subject 11\n",
      "Subject 12\n",
      "Subject 13\n",
      "Subject 14\n",
      "Subject 15\n",
      "Subject 16\n",
      "Subject 17\n",
      "Subject 18\n",
      "Subject 19\n",
      "## SIMULATING WITH GAMMA 0.98\n",
      "Subject 0\n",
      "Subject 1\n",
      "Subject 2\n",
      "Subject 3\n",
      "Subject 4\n",
      "Subject 5\n",
      "Subject 6\n",
      "Subject 7\n",
      "Subject 8\n",
      "Subject 9\n",
      "Subject 10\n",
      "Subject 11\n",
      "Subject 12\n",
      "Subject 13\n",
      "Subject 14\n",
      "Subject 15\n",
      "Subject 16\n",
      "Subject 17\n",
      "Subject 18\n",
      "Subject 19\n",
      "## SIMULATING WITH GAMMA 1.0\n",
      "Subject 0\n",
      "Subject 1\n",
      "Subject 2\n",
      "Subject 3\n",
      "Subject 4\n",
      "Subject 5\n",
      "Subject 6\n",
      "Subject 7\n",
      "Subject 8\n",
      "Subject 9\n",
      "Subject 10\n",
      "Subject 11\n",
      "Subject 12\n",
      "Subject 13\n",
      "Subject 14\n",
      "Subject 15\n",
      "Subject 16\n",
      "Subject 17\n",
      "Subject 18\n",
      "Subject 19\n"
     ]
    }
   ],
   "source": [
    "gammas = np.round(np.linspace(0, 1, 50), 2)\n",
    "\n",
    "# Reload experiment if we ran it already\n",
    "exp_save_fn = 'experiment_simulation.pkl'\n",
    "if os.path.exists(exp_save_fn):\n",
    "    with open(exp_save_fn, 'rb') as f:\n",
    "        dfs = pickle.load(f)\n",
    "else:\n",
    "    exp_subj_dict = dict()\n",
    "    for gamma in gammas:\n",
    "        print(\"## SIMULATING WITH GAMMA {0}\".format(gamma))\n",
    "        exp_subj, sigma_subj = simulate_experiment(gamma=gamma)\n",
    "        exp_subj_dict[gamma] = exp_subj\n",
    "        \n",
    "    dfs = {np.round(g, 2): make_dataframe(exp_subj_dict[g]) for g in exp_subj_dict.keys()}\n",
    "    \n",
    "    with open(exp_save_fn, 'wb') as f:\n",
    "        pickle.dump(dfs, f)"
   ]
  },
  {
   "cell_type": "code",
   "execution_count": 17,
   "metadata": {
    "ExecuteTime": {
     "end_time": "2017-12-02T22:35:45.039719Z",
     "start_time": "2017-12-02T22:35:45.017924Z"
    },
    "collapsed": true
   },
   "outputs": [],
   "source": [
    "def plot_violin(gamma):\n",
    "    ax = sns.violinplot(x='variable', y='value', data=dfs[gamma], inner='point')\n",
    "    ax.set_ylabel(\"Accuracy\")\n",
    "    ax.set_xlabel(\"\")\n",
    "    ax.set_ylim(0.2, 0.95)\n",
    "    sns.despine()"
   ]
  },
  {
   "cell_type": "code",
   "execution_count": 23,
   "metadata": {
    "ExecuteTime": {
     "end_time": "2017-12-02T22:36:56.467975Z",
     "start_time": "2017-12-02T22:36:56.095306Z"
    },
    "scrolled": false
   },
   "outputs": [
    {
     "data": {
      "application/vnd.jupyter.widget-view+json": {
       "model_id": "607e7934fbea451297c25d053c0b6a9c"
      }
     },
     "metadata": {},
     "output_type": "display_data"
    },
    {
     "data": {
      "image/png": "[encoded data removed]",
      "text/plain": [
       "<matplotlib.figure.Figure at 0x11a3d85f8>"
      ]
     },
     "metadata": {},
     "output_type": "display_data"
    },
    {
     "data": {
      "image/png": "[encoded data removed]",
      "text/plain": [
       "<matplotlib.figure.Figure at 0x112ea9358>"
      ]
     },
     "metadata": {},
     "output_type": "display_data"
    }
   ],
   "source": [
    "#gamma_slider = widgets.FloatSlider(min=gammas[0], max=gammas[-1], step=0.02, start=0)\n",
    "sns.set_context(\"poster\")\n",
    "sns.set_style(\"whitegrid\")\n",
    "gamma_slider = widgets.SelectionSlider(options=sorted(dfs.keys()))\n",
    "w = interactive(plot_violin, gamma=gamma_slider)\n",
    "display(w)"
   ]
  },
  {
   "cell_type": "code",
   "execution_count": 24,
   "metadata": {
    "ExecuteTime": {
     "end_time": "2017-12-02T22:37:05.322505Z",
     "start_time": "2017-12-02T22:37:04.998963Z"
    }
   },
   "outputs": [
    {
     "data": {
      "image/png": "[encoded data removed]",
      "text/plain": [
       "<matplotlib.figure.Figure at 0x119dac1d0>"
      ]
     },
     "metadata": {},
     "output_type": "display_data"
    }
   ],
   "source": [
    "# Plot it for an interesting gamma\n",
    "plot_violin(0.94)"
   ]
  },
  {
   "cell_type": "markdown",
   "metadata": {},
   "source": [
    "# Visualize activity"
   ]
  },
  {
   "cell_type": "code",
   "execution_count": 25,
   "metadata": {
    "ExecuteTime": {
     "end_time": "2017-12-02T22:37:10.012953Z",
     "start_time": "2017-12-02T22:37:10.008098Z"
    },
    "collapsed": true
   },
   "outputs": [],
   "source": [
    "cmap = sns.cubehelix_palette(light=.95, as_cmap=True)\n",
    "norm = Normalize(vmin=0, vmax=1)"
   ]
  },
  {
   "cell_type": "code",
   "execution_count": 26,
   "metadata": {
    "ExecuteTime": {
     "end_time": "2017-12-02T22:37:10.869112Z",
     "start_time": "2017-12-02T22:37:10.850532Z"
    },
    "collapsed": true,
    "scrolled": true
   },
   "outputs": [],
   "source": [
    "def plot_network_activation(W, ACT, ax=None):\n",
    "    pos = {\n",
    "        0 : [0, .05],\n",
    "        1: [-1, 0],\n",
    "        2: [1, 0],\n",
    "        3: [3, .05],\n",
    "        4: [2, 0],\n",
    "        5: [4, 0]\n",
    "        }\n",
    "    sns.set_style(\"ticks\")\n",
    "    #G = nx.DiGraph(W)\n",
    "    G = nx.Graph(W)\n",
    "    colors = [cmap(norm(a)) for a in ACT.flatten()]\n",
    "    luminance_colors = [relative_luminance(c) for c in colors]\n",
    "    text_colors = [\".15\" if l > .408 else \"w\" for l in luminance_colors]\n",
    "    if ax is None:\n",
    "        fig, ax = plt.subplots(1, 1)\n",
    "    nx.draw_networkx(G, pos=pos, ax=ax, node_size=ACT*2000 + 300, node_color=colors)\n",
    "    # change color of the text\n",
    "    for t, c in zip(ax.texts, text_colors):\n",
    "        t.set_color(c)\n",
    "    sns.despine(left=True, bottom=True)\n",
    "    ax.set_axis_off()\n",
    "    ax.set_ylim([-.1, .1])\n",
    "    ax.set_xlim([-1.5, 5])\n",
    "    return ax"
   ]
  },
  {
   "cell_type": "code",
   "execution_count": 27,
   "metadata": {
    "ExecuteTime": {
     "end_time": "2017-12-02T22:37:11.617860Z",
     "start_time": "2017-12-02T22:37:11.611720Z"
    },
    "collapsed": true
   },
   "outputs": [],
   "source": [
    "def plot_activation_single(W, ACT, ax=None, figsize=(20, 4)):\n",
    "    if ax is None:\n",
    "        fig, ax = plt.subplots(1, 3, figsize=figsize)\n",
    "    plot_network_activation(W, ACT, ax=ax[0])\n",
    "    sns.heatmap(W, annot=True, vmin=0, vmax=1, ax=ax[2], square=True, cbar=False)\n",
    "    sns.heatmap(ACT, annot=True, vmin=0, vmax=1, ax=ax[1], cbar=False)\n",
    "    return ax"
   ]
  },
  {
   "cell_type": "code",
   "execution_count": 28,
   "metadata": {
    "ExecuteTime": {
     "end_time": "2017-12-02T22:37:12.272565Z",
     "start_time": "2017-12-02T22:37:12.266250Z"
    },
    "collapsed": true
   },
   "outputs": [],
   "source": [
    "def plot_activation(Ws, ACT, figsize=(20, 14)):\n",
    "    n_depth = len(Ws)\n",
    "    fig, axs = plt.subplots(n_depth, 2, figsize=figsize)\n",
    "    for W_, ACT_, ax in zip(Ws, ACT, axs):\n",
    "        plot_activation_single(W_, ACT_, ax=ax)\n",
    "    return fig"
   ]
  },
  {
   "cell_type": "code",
   "execution_count": 29,
   "metadata": {
    "ExecuteTime": {
     "end_time": "2017-12-02T22:37:12.832605Z",
     "start_time": "2017-12-02T22:37:12.825447Z"
    },
    "collapsed": true
   },
   "outputs": [],
   "source": [
    "W = np.zeros((6, 6))\n",
    "W[0, 1] = 0.5\n",
    "W[0, 2] = 0.5\n",
    "\n",
    "W[3, 4] = 0.5\n",
    "W[3, 5] = 0.5\n",
    "W += W.T"
   ]
  },
  {
   "cell_type": "code",
   "execution_count": 30,
   "metadata": {
    "ExecuteTime": {
     "end_time": "2017-12-02T22:37:13.433619Z",
     "start_time": "2017-12-02T22:37:13.373072Z"
    },
    "collapsed": true
   },
   "outputs": [],
   "source": [
    "sigma_noise = 0.1\n",
    "depth = 3\n",
    "lambda_= 1\n",
    "winner_iter = []\n",
    "# Phase 1: Study\n",
    "W = np.zeros((6, 6))\n",
    "W[0, 1] = 0.5\n",
    "W[0, 2] = 0.5\n",
    "\n",
    "W[3, 4] = 0.5\n",
    "W[3, 5] = 0.5\n",
    "W += W.T\n",
    "\n",
    "n_iter = 1\n",
    "for i in range(n_iter):\n",
    "    # Phase 2: Retrieval Practice\n",
    "    # We want horse\n",
    "    ACT_pr = np.array([1, .25, 0, 0, 0, 0])[None, :] # we want a row vector\n",
    "    # Add noise on activation\n",
    "    ACT_pr = noisy_activation(ACT_pr, sigma_noise=sigma_noise)\n",
    "    W_ = W\n",
    "    for _ in range(1):\n",
    "        Ws, ACT = spread_activation(W_, ACT_pr, nmph, \n",
    "                                    gamma=gamma, alpha=alpha, lambda_=lambda_, d=depth)\n",
    "        W_ = Ws[-1]\n",
    "\n",
    "    # Phase 3: Test\n",
    "    W_te = Ws[-1]\n",
    "    ACT_rpplus = noisy_activation(np.array([1, .1, 0, 0, 0, 0])[None, :], sigma_noise)\n",
    "    ACT_rpminus = noisy_activation(np.array([1, 0, .1, 0, 0, 0])[None, :], sigma_noise)\n",
    "    ACT_nrp1 = noisy_activation(np.array([0, 0, 0, 1, .1, 0])[None, :], sigma_noise)\n",
    "    ACT_nrp2 = noisy_activation(np.array([0, 0, 0, 1, 0, .1])[None, :], sigma_noise)\n",
    "\n",
    "    winners = []\n",
    "    for activation, which in zip([ACT_rpplus, ACT_rpminus, ACT_nrp1, ACT_nrp2], [1, 2, 4, 5]):\n",
    "        Ws_te, activation_ = spread_activation(W_te, activation, nmph, \n",
    "                                           gamma=gamma, alpha=alpha, lambda_=lambda_, d=depth)\n",
    "        # do not consider the one we activated\n",
    "        which_active = np.argmax(activation)\n",
    "        last_activation = activation_[-1]\n",
    "        # do not look at the category we ping'd\n",
    "        last_activation[0][which_active] = 0.\n",
    "        #prob_activation = filter_activation(last_activation, nmph)\n",
    "        # probabilistic response\n",
    "        #n_responses = 10\n",
    "        #responses = np.random.choice(range(6), n_responses, p=prob_activation)\n",
    "        #winners.append(np.sum(responses == which)/n_responses)\n",
    "        winners.append((np.argmax(last_activation) == which).astype(int))\n",
    "        #winners.append((activation_[-1][which] > 0.5).astype(int))\n",
    "    winner_iter.append(winners)\n",
    "\n",
    "winner_iter = np.array(winner_iter)"
   ]
  },
  {
   "cell_type": "code",
   "execution_count": 31,
   "metadata": {
    "ExecuteTime": {
     "end_time": "2017-12-02T22:37:14.275914Z",
     "start_time": "2017-12-02T22:37:14.271067Z"
    },
    "collapsed": true
   },
   "outputs": [],
   "source": [
    "sns.set_context('notebook')"
   ]
  },
  {
   "cell_type": "code",
   "execution_count": 32,
   "metadata": {
    "ExecuteTime": {
     "end_time": "2017-12-02T22:37:14.701347Z",
     "start_time": "2017-12-02T22:37:14.697814Z"
    },
    "collapsed": true
   },
   "outputs": [],
   "source": [
    "Ws.insert(0, W)"
   ]
  },
  {
   "cell_type": "code",
   "execution_count": 33,
   "metadata": {
    "ExecuteTime": {
     "end_time": "2017-12-02T22:37:15.199285Z",
     "start_time": "2017-12-02T22:37:15.195009Z"
    },
    "collapsed": true
   },
   "outputs": [],
   "source": [
    "ACT.insert(0, np.zeros(ACT[0].shape))"
   ]
  },
  {
   "cell_type": "code",
   "execution_count": 34,
   "metadata": {
    "ExecuteTime": {
     "end_time": "2017-12-02T22:37:15.649650Z",
     "start_time": "2017-12-02T22:37:15.645007Z"
    },
    "collapsed": true
   },
   "outputs": [],
   "source": [
    "def plot_interactive_activation(d):\n",
    "    plot_activation_single(Ws[d], ACT[d], figsize=(14, 4));\n",
    "    plt.tight_layout()  "
   ]
  },
  {
   "cell_type": "code",
   "execution_count": 35,
   "metadata": {
    "ExecuteTime": {
     "end_time": "2017-12-02T22:37:17.459870Z",
     "start_time": "2017-12-02T22:37:16.605035Z"
    },
    "scrolled": false
   },
   "outputs": [
    {
     "data": {
      "application/vnd.jupyter.widget-view+json": {
       "model_id": "7a91f5b364a147508e67b41bd2cafdea"
      }
     },
     "metadata": {},
     "output_type": "display_data"
    },
    {
     "data": {
      "image/png": "[encoded data removed]",
      "text/plain": [
       "<matplotlib.figure.Figure at 0x11aef3a20>"
      ]
     },
     "metadata": {},
     "output_type": "display_data"
    },
    {
     "data": {
      "image/png": "[encoded data removed]",
      "text/plain": [
       "<matplotlib.figure.Figure at 0x119d69d30>"
      ]
     },
     "metadata": {},
     "output_type": "display_data"
    },
    {
     "data": {
      "image/png": "[encoded data removed]",
      "text/plain": [
       "<matplotlib.figure.Figure at 0x11aca4a58>"
      ]
     },
     "metadata": {},
     "output_type": "display_data"
    }
   ],
   "source": [
    "d_slider = widgets.IntSlider(min=0, max=depth, step=1, value=0)\n",
    "w = interactive(plot_interactive_activation, d=d_slider)\n",
    "display(w)"
   ]
  },
  {
   "cell_type": "code",
   "execution_count": 36,
   "metadata": {
    "ExecuteTime": {
     "end_time": "2017-12-02T22:37:28.990986Z",
     "start_time": "2017-12-02T22:37:26.871434Z"
    }
   },
   "outputs": [
    {
     "data": {
      "image/png": "[encoded data removed]",
      "text/plain": [
       "<matplotlib.figure.Figure at 0x11a5c68d0>"
      ]
     },
     "metadata": {},
     "output_type": "display_data"
    },
    {
     "data": {
      "image/png": "[encoded data removed]",
      "text/plain": [
       "<matplotlib.figure.Figure at 0x11b984668>"
      ]
     },
     "metadata": {},
     "output_type": "display_data"
    },
    {
     "data": {
      "image/png": "[encoded data removed]",
      "text/plain": [
       "<matplotlib.figure.Figure at 0x116a00588>"
      ]
     },
     "metadata": {},
     "output_type": "display_data"
    }
   ],
   "source": [
    "# Plot sequentially for static rendering\n",
    "for i in range(0, depth):\n",
    "    plot_interactive_activation(i)"
   ]
  },
  {
   "cell_type": "markdown",
   "metadata": {},
   "source": [
    "# Make movies"
   ]
  },
  {
   "cell_type": "code",
   "execution_count": 37,
   "metadata": {
    "ExecuteTime": {
     "end_time": "2017-12-02T22:38:09.957699Z",
     "start_time": "2017-12-02T22:38:09.945988Z"
    },
    "collapsed": true
   },
   "outputs": [],
   "source": [
    "import os\n",
    "imgdir = './img'\n",
    "try:\n",
    "    os.makedirs(imgdir)\n",
    "except OSError:\n",
    "    pass"
   ]
  },
  {
   "cell_type": "code",
   "execution_count": 49,
   "metadata": {
    "ExecuteTime": {
     "end_time": "2017-12-02T22:47:12.174159Z",
     "start_time": "2017-12-02T22:47:00.430947Z"
    }
   },
   "outputs": [],
   "source": [
    "with sns.plotting_context('talk'):\n",
    "    for i, g in enumerate(sorted(dfs.keys())):\n",
    "        fig = plt.figure()\n",
    "        plot_violin(g)\n",
    "        ax = fig.gca()\n",
    "        ax.set_title(\"Gamma: {0:.2f}\".format(g))\n",
    "        fig.savefig(os.path.join(imgdir, 'violin_{0:02d}'.format(i)))\n",
    "        plt.close()"
   ]
  },
  {
   "cell_type": "code",
   "execution_count": 47,
   "metadata": {
    "ExecuteTime": {
     "end_time": "2017-12-02T22:43:13.743486Z",
     "start_time": "2017-12-02T22:43:13.737844Z"
    },
    "collapsed": true
   },
   "outputs": [],
   "source": [
    "import subprocess as sp"
   ]
  },
  {
   "cell_type": "code",
   "execution_count": 51,
   "metadata": {
    "ExecuteTime": {
     "end_time": "2017-12-02T22:47:49.089069Z",
     "start_time": "2017-12-02T22:47:42.579588Z"
    }
   },
   "outputs": [
    {
     "data": {
      "text/plain": [
       "0"
      ]
     },
     "execution_count": 51,
     "metadata": {},
     "output_type": "execute_result"
    }
   ],
   "source": [
    "sp.check_call('convert -delay 20 -loop 0 {imgdir}/violin_*.png {imgdir}/violin_movie.gif'.format(imgdir=imgdir).split())"
   ]
  },
  {
   "cell_type": "code",
   "execution_count": 57,
   "metadata": {
    "ExecuteTime": {
     "end_time": "2017-12-02T22:51:46.447720Z",
     "start_time": "2017-12-02T22:51:43.589482Z"
    }
   },
   "outputs": [],
   "source": [
    "# Plot sequentially for static rendering\n",
    "for d in range(0, depth):\n",
    "    fig, ax = plt.subplots(1, 3, figsize=(14, 4))\n",
    "    plot_activation_single(Ws[d], ACT[d], ax=ax);\n",
    "    plt.tight_layout() \n",
    "    fig.savefig(os.path.join(imgdir, 'toyact_{0:02d}'.format(d)))\n",
    "    plt.close()"
   ]
  },
  {
   "cell_type": "code",
   "execution_count": 60,
   "metadata": {
    "ExecuteTime": {
     "end_time": "2017-12-02T22:52:31.792812Z",
     "start_time": "2017-12-02T22:52:30.752831Z"
    }
   },
   "outputs": [
    {
     "data": {
      "text/plain": [
       "0"
      ]
     },
     "execution_count": 60,
     "metadata": {},
     "output_type": "execute_result"
    }
   ],
   "source": [
    "sp.check_call('convert -delay 60 -loop 0 {imgdir}/toyact_*.png {imgdir}/toyact_movie.gif'.format(imgdir=imgdir).split())"
   ]
  }
 ],
 "metadata": {
  "anaconda-cloud": {},
  "kernelspec": {
   "display_name": "Python [conda env:py36]",
   "language": "python",
   "name": "conda-env-py36-py"
  },
  "language_info": {
   "codemirror_mode": {
    "name": "ipython",
    "version": 3
   },
   "file_extension": ".py",
   "mimetype": "text/x-python",
   "name": "python",
   "nbconvert_exporter": "python",
   "pygments_lexer": "ipython3",
   "version": "3.6.1"
  },
  "toc": {
   "colors": {
    "hover_highlight": "#DAA520",
    "navigate_num": "#000000",
    "navigate_text": "#333333",
    "running_highlight": "#FF0000",
    "selected_highlight": "#FFD700",
    "sidebar_border": "#EEEEEE",
    "wrapper_background": "#FFFFFF"
   },
   "moveMenuLeft": true,
   "nav_menu": {
    "height": "12px",
    "width": "252px"
   },
   "navigate_menu": true,
   "number_sections": true,
   "sideBar": true,
   "threshold": 4,
   "toc_cell": false,
   "toc_section_display": "block",
   "toc_window_display": false,
   "widenNotebook": false
  }
 },
 "nbformat": 4,
 "nbformat_minor": 2
}
