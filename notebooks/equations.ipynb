{
 "cells": [
  {
   "cell_type": "markdown",
   "metadata": {},
   "source": [
    "- $W$: matrix of (thresholded) weights\n",
    "- $\\gamma$: decay parameter"
   ]
  },
  {
   "cell_type": "markdown",
   "metadata": {},
   "source": [
    "# Before"
   ]
  },
  {
   "cell_type": "markdown",
   "metadata": {},
   "source": [
    "## Equation 1\n",
    "Activation spread\n",
    "\n",
    "$$\n",
    "\\text{act}_{i+k} = \\sum\\text{act}_{i} \\gamma^k \\prod_{d=1}^{k} W_{(i + d - 1, i + d)}\n",
    "$$\n",
    "\n",
    "## Equation 2\n",
    "NMPH function\n",
    "$$\n",
    "\\text{NMPH}(x) = \\begin{cases}\n",
    "2 x \\cdot y_{min}/x_{cp} & x \\leq x_{\\text{cp}/2}\\\\\n",
    "2 x \\cdot (y_{cp} - y_{min})/x_{cp} & x_{\\text{cp}/2} < x \\leq x_{\\text{cp}}\\\\\n",
    "x \\cdot (y_{max} - y_{cp})/(1 - x_{\\text{cp}}) & x_{\\text{cp}} < x \\leq 1\n",
    "\\end{cases}\n",
    "$$\n",
    "\n",
    "## Equation 3\n",
    "How much should each weight change?\n",
    "$$\n",
    "\\Delta_{k-1, k} = \\text{nmph}(\\text{act}_k)\n",
    "$$"
   ]
  },
  {
   "cell_type": "markdown",
   "metadata": {},
   "source": [
    "Weight update\n",
    "$$W^{t+1}_{k-1,k} = \\Delta_{k-1,k}W^t_{k-1, k}$$"
   ]
  },
  {
   "cell_type": "markdown",
   "metadata": {},
   "source": [
    "# After"
   ]
  },
  {
   "cell_type": "markdown",
   "metadata": {},
   "source": [
    "$$\n",
    "\\sigma(x) = \\frac{1}{1 + e^{-x}}\n",
    "$$"
   ]
  },
  {
   "cell_type": "markdown",
   "metadata": {},
   "source": [
    "Let $W_0, \\text{ACT}_0$ be the initial conditions"
   ]
  },
  {
   "cell_type": "markdown",
   "metadata": {},
   "source": [
    "$$\n",
    "\\text{ACT}_k = \\sigma\\left(\\sum_{i=1}^{k}\\gamma^i\\prod_{d=1}^{i}\\sigma\\left(W_{d-1} + \\text{NMPH}(\\text{ACT}_{d-1})\\right)\\right)\\\\\n",
    "$$"
   ]
  }
 ],
 "metadata": {
  "anaconda-cloud": {},
  "kernelspec": {
   "display_name": "Python [conda env:py36]",
   "language": "python",
   "name": "conda-env-py36-py"
  },
  "language_info": {
   "codemirror_mode": {
    "name": "ipython",
    "version": 3
   },
   "file_extension": ".py",
   "mimetype": "text/x-python",
   "name": "python",
   "nbconvert_exporter": "python",
   "pygments_lexer": "ipython3",
   "version": "3.6.1"
  },
  "toc": {
   "colors": {
    "hover_highlight": "#DAA520",
    "navigate_num": "#000000",
    "navigate_text": "#333333",
    "running_highlight": "#FF0000",
    "selected_highlight": "#FFD700",
    "sidebar_border": "#EEEEEE",
    "wrapper_background": "#FFFFFF"
   },
   "moveMenuLeft": true,
   "nav_menu": {
    "height": "102px",
    "width": "252px"
   },
   "navigate_menu": true,
   "number_sections": true,
   "sideBar": true,
   "threshold": 4,
   "toc_cell": false,
   "toc_section_display": "block",
   "toc_window_display": false,
   "widenNotebook": false
  }
 },
 "nbformat": 4,
 "nbformat_minor": 2
}
